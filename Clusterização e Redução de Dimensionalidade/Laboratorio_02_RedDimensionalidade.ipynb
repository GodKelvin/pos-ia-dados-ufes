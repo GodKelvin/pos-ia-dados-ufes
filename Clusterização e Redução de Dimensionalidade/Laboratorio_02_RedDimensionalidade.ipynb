{
  "cells": [
    {
      "cell_type": "markdown",
      "metadata": {
        "id": "R_l32WylNm96"
      },
      "source": [
        "---\n",
        "<img src=\"https://ead.ufes.br/pluginfile.php/188426/course/summary/logo_cluster.png\" style=\"float: right;\">\n",
        "\n",
        "\n",
        "#  Laboratório 02 - Aplicações de Redução de dimensionalidade\n",
        "\n",
        "\n",
        "Neste Laboratório, vamos  utilizar algoritmos de redução de dimensionalidade para visualização de dados complexos (de alta dimensão) e compreensão de imagens.  \n",
        "\n",
        "**Objetivos**\n",
        "\n",
        "1. Compreender o uso e limitações do PCA.\n",
        "2. Compreender o uso e limitações.\n",
        "\n",
        "**Resultados esperados**\n",
        "\n",
        "Ao final deste laboratório, é esperado que saibam identificar a situação e qual o algoritmos de redução de dimensionalidade melhor se aplica ao  problema.\n",
        "\n",
        "**Valor**: 15 pontos"
      ]
    },
    {
      "cell_type": "markdown",
      "source": [
        "Neste laboratório, iremos aplicar os algoritmos de redução de dimensionalidade PCA e t-SNE a bases de dados reais. Vamos utilizar o  `Mnist Dataset`.\n",
        "O `Mnist` é uma base real de digítos escrito a mão, bastante utilizada para o estudo e avaliação de algoritmos de aprendizado de máquina. Os dados são rotulados, o que permite calcular a acurácia de algoritmos de classificação e clusterização.\n",
        "\n",
        "O objetivo é visualizar os dados em duas dimensões para entender melhor a estrutura e separação entre as classes.\n",
        "\n"
      ],
      "metadata": {
        "id": "bFdvXGap3hHI"
      }
    },
    {
      "cell_type": "markdown",
      "source": [
        "# Parte 1: Preparando e compreendendo os dados"
      ],
      "metadata": {
        "id": "Bh8FL-Ry3iN-"
      }
    },
    {
      "cell_type": "markdown",
      "source": [
        "Inicialmente, iremos carregar os datasets sintéticos. Em seguida, você deverá:\n",
        "\n",
        "1. Implementar as funções que executam os algoritmos de clusterização da scikitlearn\n",
        "1. Implementar uma avaliação de medida interna\n",
        "1. Executar os algortmos.\n",
        "\n",
        "Importante: Não altere os nomes das funções, pois elas serão utilizadas em outras partes do código."
      ],
      "metadata": {
        "id": "EtoOHPTKSk92"
      }
    },
    {
      "cell_type": "markdown",
      "source": [
        "## 1. Importando as bibliotecas necessárias."
      ],
      "metadata": {
        "id": "R0TcA6hT509N"
      }
    },
    {
      "cell_type": "code",
      "execution_count": null,
      "metadata": {
        "id": "aa48c59a"
      },
      "outputs": [],
      "source": [
        "# Importar bibliotecas\n",
        "import numpy as np\n",
        "import pandas as pd\n",
        "import matplotlib.pyplot as plt\n",
        "import seaborn as sns\n",
        "from sklearn.decomposition import PCA\n",
        "from sklearn.manifold import TSNE\n",
        "from sklearn.preprocessing import StandardScaler\n",
        "from sklearn.datasets import fetch_openml\n",
        "import random"
      ]
    },
    {
      "cell_type": "markdown",
      "source": [
        "## 2. Carregando datasets MNist"
      ],
      "metadata": {
        "id": "2_jQGehknORE"
      }
    },
    {
      "cell_type": "markdown",
      "source": [
        "1. O dataset `MNist`:  um conjunto de dados de dígitos manuscritos\n",
        "1. Vamos implementar uma função para visualizar estes dígitos"
      ],
      "metadata": {
        "id": "BTtJFul8VX9F"
      }
    },
    {
      "cell_type": "code",
      "execution_count": null,
      "metadata": {
        "id": "27b8ac7e",
        "colab": {
          "base_uri": "https://localhost:8080/"
        },
        "outputId": "f83dbe4e-44b2-4dac-c67a-d0eed2da28c4"
      },
      "outputs": [
        {
          "output_type": "stream",
          "name": "stdout",
          "text": [
            "Dimensão dos dados MNIST: (70000, 784)\n",
            "Quantidade de classes: 10\n"
          ]
        }
      ],
      "source": [
        "# Carregar o dataset MNIST\n",
        "mnist = fetch_openml('mnist_784', version=1)\n",
        "\n",
        "# Separar os dados e os rótulos (dígitos)\n",
        "X_mnist, y_mnist = mnist['data'], mnist['target']\n",
        "\n",
        "# Verificar o tamanho do dataset\n",
        "print(f\"Dimensão dos dados MNIST: {X_mnist.shape}\")\n",
        "print(f\"Quantidade de classes: {len(np.unique(y_mnist))}\")\n"
      ]
    },
    {
      "cell_type": "markdown",
      "source": [
        "**Observações**:\n",
        "\n",
        "Veja que o MNIST possui 70000 imagens e cada uma com dimensão 784!!"
      ],
      "metadata": {
        "id": "CWCEKOPZyn4p"
      }
    },
    {
      "cell_type": "markdown",
      "source": [
        "## Visualizando o MNIST\n",
        "\n",
        "Vamos visualizar alguns exemplares da base de dados `MNIST`.\n",
        "\n",
        "Você pode alterar o `num_exemplo` para alterar a quantidade de exemplos sendo apresentados."
      ],
      "metadata": {
        "id": "1E-O3aGly5vA"
      }
    },
    {
      "cell_type": "code",
      "source": [
        "#@title plot exemplares\n",
        "\n",
        "# Função para visualizar uma amostra de dígitos do MNIST\n",
        "def plot_mnist_samples(X, y, n_samples=10):\n",
        "    \"\"\"\n",
        "    Plota n_samples aleatórios do dataset MNIST.\n",
        "\n",
        "    Parâmetros:\n",
        "    X: Dados do MNIST (imagens achatadas)\n",
        "    y: Rótulos do MNIST\n",
        "    n_samples: Número de amostras a serem exibidas (padrão é 10)\n",
        "    \"\"\"\n",
        "    plt.figure(figsize=(10, 1.5))  # Configurar o tamanho da figura\n",
        "    for i in range(n_samples):\n",
        "        # Escolher um índice aleatório\n",
        "        idx = random.randint(0, X.shape[0] - 1)\n",
        "        # Pegar a imagem correspondente e redimensionar para 28x28\n",
        "        img = X.iloc[idx].values.reshape(28, 28)\n",
        "        # Pegar o rótulo correspondente\n",
        "        label = y.iloc[idx]\n",
        "        # Plotar a imagem\n",
        "        plt.subplot(1, n_samples, i + 1)\n",
        "        plt.imshow(img, cmap='gray')\n",
        "        plt.axis('off')  # Remover eixos\n",
        "        plt.title(f\"Dígito: {label}\")\n",
        "\n",
        "    plt.tight_layout()\n",
        "    plt.show()\n",
        "\n",
        "n_exemplos = 10 #@param {type:\"slider\", min:1, max:100, step:1}\n",
        "# Chamar a função para exibir 10 amostras aleatórias do MNIST\n",
        "plot_mnist_samples(X_mnist, y_mnist, n_samples=n_exemplos)\n"
      ],
      "metadata": {
        "colab": {
          "base_uri": "https://localhost:8080/",
          "height": 143
        },
        "cellView": "form",
        "id": "pJxsrPnDzLxW",
        "outputId": "6d122f26-6204-49b1-c83f-555b1f73f16a"
      },
      "execution_count": null,
      "outputs": [
        {
          "output_type": "display_data",
          "data": {
            "text/plain": [
              "<Figure size 1000x150 with 10 Axes>"
            ],
            "image/png": "[encoded data removed]"
          },
          "metadata": {}
        }
      ]
    },
    {
      "cell_type": "markdown",
      "source": [
        "##  Pré-processamento dos dados\n",
        "\n",
        "Como de praxe,  vamos normalizar os dados antes de aplicar a redução da dimensionalidade.\n",
        "\n",
        "**Atividade Extra**: faça os exercícios abaixo sem normalizar os dados e veja a diferença nos resultados.   "
      ],
      "metadata": {
        "id": "UIa6qgj91Psc"
      }
    },
    {
      "cell_type": "code",
      "source": [
        "# Normalizar os dados para que os algoritmos de redução de dimensionalidade funcionem corretamente\n",
        "scaler = StandardScaler()\n",
        "\n",
        "# Escalar os dados do MNIST\n",
        "X_mnist_scaled = scaler.fit_transform(X_mnist)"
      ],
      "metadata": {
        "id": "YH0SEWUm2bxl"
      },
      "execution_count": null,
      "outputs": []
    },
    {
      "cell_type": "markdown",
      "source": [
        "# Parte II - Reduzindo a dimensionalidade e visualizando os dados\n",
        "\n",
        "**Valor**: 10 pontos"
      ],
      "metadata": {
        "id": "D5UJSn4X12ki"
      }
    },
    {
      "cell_type": "markdown",
      "source": [
        "## 3. Implemente as funções que para execução dos algoritmos de clusterização abaixo.\n",
        "\n",
        "**Agora é com você!!!**\n",
        "\n",
        "Utilize a biblioteca `scikitlearn`  para implementar as questões abaixo.\n",
        "\n",
        "> Revisite os Notebooks 06, 07 e 08, se necessário."
      ],
      "metadata": {
        "id": "1tc8pq01oQYB"
      }
    },
    {
      "cell_type": "markdown",
      "source": [
        "### A.  **PCA**"
      ],
      "metadata": {
        "id": "uegGoiKxqe-u"
      }
    },
    {
      "cell_type": "markdown",
      "source": [
        "#### Implemente o PCA"
      ],
      "metadata": {
        "id": "PO83nVQMfb9C"
      }
    },
    {
      "cell_type": "markdown",
      "source": [
        "Utilize o algoritmo PCA da `scikitlearn`.\n",
        "\n",
        "Considere o parâmetro numero de componentes = 2.\n",
        "\n",
        "Imprima o vetor de variância explicada."
      ],
      "metadata": {
        "id": "rcAfmp4T3Fzi"
      }
    },
    {
      "cell_type": "code",
      "execution_count": null,
      "metadata": {
        "id": "801e9784"
      },
      "outputs": [],
      "source": [
        "#seu código  aqui\n",
        "\n",
        "# Aplicar PCA para reduzir os dados do MNIST para 2 dimensões\n"
      ]
    },
    {
      "cell_type": "markdown",
      "source": [
        "**Perguntas**:\n",
        "\n",
        "1. Qual a variância da primeira componente principal?\n",
        "1. Qual a variância da segunda componente principal?"
      ],
      "metadata": {
        "id": "uVI0YRlJ3i0T"
      }
    },
    {
      "cell_type": "markdown",
      "source": [
        "**Respostas**:\n",
        "\n"
      ],
      "metadata": {
        "id": "zBHBB4YP3t7M"
      }
    },
    {
      "cell_type": "markdown",
      "source": [
        "#### **Plot um gráfico da variância explicada acumulada**\n",
        "\n",
        "Calcule e  plot um gráfico para  visualizar a variância explicada acumulada, de acordo com o número de componentes principais.\n",
        "\n",
        "> **Dica**: você pode utilizar a função `np.cumsum()` para calcular a soma acumulada da variância explicada para cada número de componentes, passando como argumento apenas o vetor de variância explicada do PCA.\n",
        "\n",
        "> **Dica 2**: Aumente o número de componentes do PCA para visualizar a variância acumulada."
      ],
      "metadata": {
        "id": "-Wp4ZOlh38T1"
      }
    },
    {
      "cell_type": "code",
      "source": [
        "#seu código aqui\n",
        "\n",
        "# Obter a variância explicada acumulada para cada número de componentes\n",
        "\n"
      ],
      "metadata": {
        "id": "7qJi042D4q7U"
      },
      "execution_count": null,
      "outputs": []
    },
    {
      "cell_type": "markdown",
      "source": [
        "**Pergunta**:\n",
        "\n",
        "1. A partir de quantos componentes, aproximadamente a variância explicada é maior do que 80%?\n",
        "\n",
        "2. A partir de quantos componentes principais, aproximadamente, a uma estabilização e e os demais componentes não contribuem siginificativamente para a variância explicada?\n",
        "\n",
        "\n"
      ],
      "metadata": {
        "id": "Tjkesmrt4-1a"
      }
    },
    {
      "cell_type": "markdown",
      "source": [
        "**Respostas**:\n",
        "\n"
      ],
      "metadata": {
        "id": "n_z4lK9c5Ugl"
      }
    },
    {
      "cell_type": "markdown",
      "source": [
        "#### Visualize os dados das componentes principais\n",
        "\n",
        "Implemente uma função para visualizar as duas componentes principais.\n",
        "Adicione as cores de acordo com os rótulos em `y_mnist`.\n",
        "\n",
        "> Dica: use a `seaborn.scatterplot` e use o parametro `hue=y_mnist` para definir as cores dos pontos."
      ],
      "metadata": {
        "id": "NQ8kdjq_flGq"
      }
    },
    {
      "cell_type": "code",
      "source": [
        "#seu código aqui\n",
        "\n"
      ],
      "metadata": {
        "id": "EAyJyEBgf716"
      },
      "execution_count": null,
      "outputs": []
    },
    {
      "cell_type": "markdown",
      "source": [
        "### B.  **t-SNE**"
      ],
      "metadata": {
        "id": "7ZeqwfZoqygf"
      }
    },
    {
      "cell_type": "markdown",
      "source": [
        "#### Aplicar o t-SNE\n",
        "\n",
        "Aplique o t-SNE para reduzir os dados para 2 dimensões.\n",
        "\n",
        "> dica: Ao tentar utilizar a base completa, você observará que a célula ficará em longo tempo de execução.  Como mencionado na aula, o t-SNE é caro computacionalmente e demanda muitos recursos para execução em bases de dados grandes.  Nes sentido, por questão de tempo computacional, pode ser necessário utilizar apenas uma amostra de pontos para conseguir executar o algoritmo. Neste caso, utilize  10.000 pontos  (`X_mnist_scaled[:10000]`)."
      ],
      "metadata": {
        "id": "UjsqD56rhA86"
      }
    },
    {
      "cell_type": "code",
      "source": [
        "# Aplicar t-SNE para reduzir os dados para 2 dimensões\n"
      ],
      "metadata": {
        "id": "UdaJ7z-lhhq_"
      },
      "execution_count": null,
      "outputs": []
    },
    {
      "cell_type": "markdown",
      "source": [
        " #### Visualize os resultados do t-SNE\n",
        "\n",
        " Implemente uma função para visualizar as duas dimensões reduzidas pelo t-SNE. Adicione as cores de acordo com os rótulos em y_mnist.\n",
        "\n",
        "Dica: use a seaborn.scatterplot e use o parametro hue=y_mnist para definir as cores dos pontos."
      ],
      "metadata": {
        "id": "3Du0S5TkjDT0"
      }
    },
    {
      "cell_type": "code",
      "source": [
        "# Seu código aqui\n"
      ],
      "metadata": {
        "id": "q5OKULyWjTm7"
      },
      "execution_count": null,
      "outputs": []
    },
    {
      "cell_type": "markdown",
      "source": [
        "#  Parte 3: Discussão sobre os resultados\n",
        "\n",
        "**Valor**: 5 pontos\n",
        "\n",
        "\n",
        "Discuta sobre os resultados obtidos até aqui no campo abaixo.\n",
        "\n",
        " A discussão deve conter as razões pelas quais os resultados das visualizações foram diferentes."
      ],
      "metadata": {
        "id": "j7-fLA-otVNf"
      }
    },
    {
      "cell_type": "markdown",
      "source": [
        "> Escreva sua resposta aqui."
      ],
      "metadata": {
        "id": "emUN8Lh9YMuZ"
      }
    }
  ],
  "metadata": {
    "anaconda-cloud": {},
    "celltoolbar": "Slideshow",
    "kernelspec": {
      "display_name": "Python 3",
      "language": "python",
      "name": "python3"
    },
    "language_info": {
      "codemirror_mode": {
        "name": "ipython",
        "version": 3
      },
      "file_extension": ".py",
      "mimetype": "text/x-python",
      "name": "python",
      "nbconvert_exporter": "python",
      "pygments_lexer": "ipython3",
      "version": "3.7.10"
    },
    "rise": {
      "scroll": true,
      "theme": "beige",
      "transition": "fade"
    },
    "colab": {
      "provenance": []
    }
  },
  "nbformat": 4,
  "nbformat_minor": 0
}