{
 "cells": [
  {
   "cell_type": "code",
   "execution_count": null,
   "metadata": {},
   "outputs": [
    {
     "name": "stdout",
     "output_type": "stream",
     "text": [
      "Warning: Looks like you're using an outdated `kagglehub` version (installed: 0.3.8), please consider upgrading to the latest version (0.3.10).\n",
      "Path to dataset files: /home/kelvin/.cache/kagglehub/datasets/ahmedabbas757/coffee-sales/versions/1\n"
     ]
    }
   ],
   "source": [
    "#https://www.kaggle.com/datasets/ahmedabbas757/coffee-sales\n",
    "# import kagglehub\n",
    "\n",
    "# # Defina o caminho onde deseja salvar o dataset\n",
    "# destination_path = \"/home/kelvin/\"  # Altere para o caminho desejado\n",
    "\n",
    "# # Baixe o dataset na pasta especificada\n",
    "# path = kagglehub.dataset_download(\"ahmedabbas757/coffee-sales\")\n",
    "\n",
    "# print(\"Path to dataset files:\", path)\n"
   ]
  },
  {
   "cell_type": "code",
   "execution_count": null,
   "metadata": {},
   "outputs": [],
   "source": []
  }
 ],
 "metadata": {
  "kernelspec": {
   "display_name": "Python 3",
   "language": "python",
   "name": "python3"
  },
  "language_info": {
   "codemirror_mode": {
    "name": "ipython",
    "version": 3
   },
   "file_extension": ".py",
   "mimetype": "text/x-python",
   "name": "python",
   "nbconvert_exporter": "python",
   "pygments_lexer": "ipython3",
   "version": "3.10.12"
  }
 },
 "nbformat": 4,
 "nbformat_minor": 2
}
