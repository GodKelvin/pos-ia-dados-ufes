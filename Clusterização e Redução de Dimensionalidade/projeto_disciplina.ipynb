{
 "cells": [
  {
   "cell_type": "markdown",
   "metadata": {},
   "source": [
    "# Coffe Shop Sales"
   ]
  },
  {
   "cell_type": "markdown",
   "metadata": {},
   "source": [
    "O dataset escolhido para este trabalho contém informações de transações referente à uma cafeteria \n",
    "ficticia que opera em três locais de Nova York.\n",
    "\n",
    "Disponível em: https://www.kaggle.com/datasets/ahmedabbas757/coffee-sales"
   ]
  },
  {
   "cell_type": "markdown",
   "metadata": {},
   "source": [
    "## Característiscas do Dataset"
   ]
  },
  {
   "cell_type": "markdown",
   "metadata": {},
   "source": [
    "Vamos ver a descrição de cada propriedade do dataset:\n",
    "\n",
    "- <b>transaction_id</b> : ID sequencial exclusivo que representa uma transação individual\n",
    "\n",
    "- <b>transaction_date</b> : Data da transação (MM/DD/AA)\n",
    "\n",
    "- <b>transaction_time</b> : Carimbo de data/hora da transação (HH:MM:SS)\n",
    "\n",
    "- <b>transaction_qty</b> : Quantidade de itens vendidos\n",
    "\n",
    "- <b>store_id</b> : ID exclusivo da cafeteria onde a transação ocorreu\n",
    "\n",
    "- <b>store_location</b> : Localização da cafeteria onde a transação ocorreu\n",
    "\n",
    "- <b>product_id</b> : ID exclusivo do produto vendido\n",
    "\n",
    "- <b>unit_price</b> : Preço de varejo do produto vendido\n",
    "\n",
    "- <b>product_category</b> : Descrição da categoria do produto\n",
    "\n",
    "- <b>product_type</b> : Descrição do tipo de produto\n",
    "\n",
    "- <b>product_detail</b> : Descrição dos detalhes do produto\n",
    "\n"
   ]
  },
  {
   "cell_type": "markdown",
   "metadata": {},
   "source": [
    "#### Fazendo download do dataset"
   ]
  },
  {
   "cell_type": "code",
   "execution_count": 42,
   "metadata": {},
   "outputs": [],
   "source": [
    "#https://www.kaggle.com/datasets/ahmedabbas757/coffee-sales\n",
    "# import kagglehub\n",
    "\n",
    "# # Defina o caminho onde deseja salvar o dataset\n",
    "# destination_path = \"/home/kelvin/\"  # Altere para o caminho desejado\n",
    "\n",
    "# # Baixe o dataset na pasta especificada\n",
    "# path = kagglehub.dataset_download(\"ahmedabbas757/coffee-sales\")\n",
    "\n",
    "# print(\"Path to dataset files:\", path)\n"
   ]
  },
  {
   "cell_type": "markdown",
   "metadata": {},
   "source": [
    "### Interpretando o dataset"
   ]
  },
  {
   "cell_type": "code",
   "execution_count": 43,
   "metadata": {},
   "outputs": [],
   "source": [
    "import pandas as pd\n",
    "dataframe = pd.read_excel(\"Coffee Shop Sales.xlsx\")"
   ]
  },
  {
   "cell_type": "code",
   "execution_count": 44,
   "metadata": {},
   "outputs": [
    {
     "data": {
      "text/html": [
       "<div>\n",
       "<style scoped>\n",
       "    .dataframe tbody tr th:only-of-type {\n",
       "        vertical-align: middle;\n",
       "    }\n",
       "\n",
       "    .dataframe tbody tr th {\n",
       "        vertical-align: top;\n",
       "    }\n",
       "\n",
       "    .dataframe thead th {\n",
       "        text-align: right;\n",
       "    }\n",
       "</style>\n",
       "<table border=\"1\" class=\"dataframe\">\n",
       "  <thead>\n",
       "    <tr style=\"text-align: right;\">\n",
       "      <th></th>\n",
       "      <th>transaction_id</th>\n",
       "      <th>transaction_date</th>\n",
       "      <th>transaction_time</th>\n",
       "      <th>transaction_qty</th>\n",
       "      <th>store_id</th>\n",
       "      <th>store_location</th>\n",
       "      <th>product_id</th>\n",
       "      <th>unit_price</th>\n",
       "      <th>product_category</th>\n",
       "      <th>product_type</th>\n",
       "      <th>product_detail</th>\n",
       "    </tr>\n",
       "  </thead>\n",
       "  <tbody>\n",
       "    <tr>\n",
       "      <th>0</th>\n",
       "      <td>1</td>\n",
       "      <td>2023-01-01</td>\n",
       "      <td>07:06:11</td>\n",
       "      <td>2</td>\n",
       "      <td>5</td>\n",
       "      <td>Lower Manhattan</td>\n",
       "      <td>32</td>\n",
       "      <td>3.0</td>\n",
       "      <td>Coffee</td>\n",
       "      <td>Gourmet brewed coffee</td>\n",
       "      <td>Ethiopia Rg</td>\n",
       "    </tr>\n",
       "    <tr>\n",
       "      <th>1</th>\n",
       "      <td>2</td>\n",
       "      <td>2023-01-01</td>\n",
       "      <td>07:08:56</td>\n",
       "      <td>2</td>\n",
       "      <td>5</td>\n",
       "      <td>Lower Manhattan</td>\n",
       "      <td>57</td>\n",
       "      <td>3.1</td>\n",
       "      <td>Tea</td>\n",
       "      <td>Brewed Chai tea</td>\n",
       "      <td>Spicy Eye Opener Chai Lg</td>\n",
       "    </tr>\n",
       "    <tr>\n",
       "      <th>2</th>\n",
       "      <td>3</td>\n",
       "      <td>2023-01-01</td>\n",
       "      <td>07:14:04</td>\n",
       "      <td>2</td>\n",
       "      <td>5</td>\n",
       "      <td>Lower Manhattan</td>\n",
       "      <td>59</td>\n",
       "      <td>4.5</td>\n",
       "      <td>Drinking Chocolate</td>\n",
       "      <td>Hot chocolate</td>\n",
       "      <td>Dark chocolate Lg</td>\n",
       "    </tr>\n",
       "    <tr>\n",
       "      <th>3</th>\n",
       "      <td>4</td>\n",
       "      <td>2023-01-01</td>\n",
       "      <td>07:20:24</td>\n",
       "      <td>1</td>\n",
       "      <td>5</td>\n",
       "      <td>Lower Manhattan</td>\n",
       "      <td>22</td>\n",
       "      <td>2.0</td>\n",
       "      <td>Coffee</td>\n",
       "      <td>Drip coffee</td>\n",
       "      <td>Our Old Time Diner Blend Sm</td>\n",
       "    </tr>\n",
       "    <tr>\n",
       "      <th>4</th>\n",
       "      <td>5</td>\n",
       "      <td>2023-01-01</td>\n",
       "      <td>07:22:41</td>\n",
       "      <td>2</td>\n",
       "      <td>5</td>\n",
       "      <td>Lower Manhattan</td>\n",
       "      <td>57</td>\n",
       "      <td>3.1</td>\n",
       "      <td>Tea</td>\n",
       "      <td>Brewed Chai tea</td>\n",
       "      <td>Spicy Eye Opener Chai Lg</td>\n",
       "    </tr>\n",
       "  </tbody>\n",
       "</table>\n",
       "</div>"
      ],
      "text/plain": [
       "   transaction_id transaction_date transaction_time  transaction_qty  \\\n",
       "0               1       2023-01-01         07:06:11                2   \n",
       "1               2       2023-01-01         07:08:56                2   \n",
       "2               3       2023-01-01         07:14:04                2   \n",
       "3               4       2023-01-01         07:20:24                1   \n",
       "4               5       2023-01-01         07:22:41                2   \n",
       "\n",
       "   store_id   store_location  product_id  unit_price    product_category  \\\n",
       "0         5  Lower Manhattan          32         3.0              Coffee   \n",
       "1         5  Lower Manhattan          57         3.1                 Tea   \n",
       "2         5  Lower Manhattan          59         4.5  Drinking Chocolate   \n",
       "3         5  Lower Manhattan          22         2.0              Coffee   \n",
       "4         5  Lower Manhattan          57         3.1                 Tea   \n",
       "\n",
       "            product_type               product_detail  \n",
       "0  Gourmet brewed coffee                  Ethiopia Rg  \n",
       "1        Brewed Chai tea     Spicy Eye Opener Chai Lg  \n",
       "2          Hot chocolate            Dark chocolate Lg  \n",
       "3            Drip coffee  Our Old Time Diner Blend Sm  \n",
       "4        Brewed Chai tea     Spicy Eye Opener Chai Lg  "
      ]
     },
     "execution_count": 44,
     "metadata": {},
     "output_type": "execute_result"
    }
   ],
   "source": [
    "dataframe.head()"
   ]
  },
  {
   "cell_type": "code",
   "execution_count": 45,
   "metadata": {},
   "outputs": [
    {
     "name": "stdout",
     "output_type": "stream",
     "text": [
      "(149116, 11)\n"
     ]
    }
   ],
   "source": [
    "print(dataframe.shape)"
   ]
  },
  {
   "cell_type": "markdown",
   "metadata": {},
   "source": [
    "### Tamanho do dataset\n",
    "\n",
    "149116 registros e 11 colunas"
   ]
  },
  {
   "cell_type": "markdown",
   "metadata": {},
   "source": [
    "### Vamos ver agora a proporção de cada Classe"
   ]
  },
  {
   "cell_type": "code",
   "execution_count": 46,
   "metadata": {},
   "outputs": [
    {
     "name": "stdout",
     "output_type": "stream",
     "text": [
      "transaction_id\n",
      "149456    0.000671\n",
      "1         0.000671\n",
      "2         0.000671\n",
      "3         0.000671\n",
      "4         0.000671\n",
      "            ...   \n",
      "32        0.000671\n",
      "33        0.000671\n",
      "34        0.000671\n",
      "35        0.000671\n",
      "36        0.000671\n",
      "Name: proportion, Length: 149116, dtype: float64\n",
      "-----------\n",
      "transaction_date\n",
      "2023-06-19    0.900641\n",
      "2023-06-16    0.892594\n",
      "2023-06-18    0.865098\n",
      "2023-06-13    0.859063\n",
      "2023-06-27    0.856380\n",
      "                ...   \n",
      "2023-02-06    0.327933\n",
      "2023-01-30    0.322568\n",
      "2023-01-28    0.315191\n",
      "2023-01-31    0.309826\n",
      "2023-01-29    0.307814\n",
      "Name: proportion, Length: 181, dtype: float64\n",
      "-----------\n",
      "transaction_time\n",
      "09:31:15    0.027495\n",
      "08:15:41    0.026825\n",
      "08:19:08    0.025484\n",
      "11:40:03    0.024142\n",
      "10:11:25    0.024142\n",
      "              ...   \n",
      "14:21:29    0.000671\n",
      "14:37:47    0.000671\n",
      "16:49:24    0.000671\n",
      "17:07:57    0.000671\n",
      "12:48:24    0.000671\n",
      "Name: proportion, Length: 25762, dtype: float64\n",
      "-----------\n",
      "transaction_qty\n",
      "1    58.450468\n",
      "2    39.326430\n",
      "3     2.198959\n",
      "4     0.015424\n",
      "8     0.006706\n",
      "6     0.002012\n",
      "Name: proportion, dtype: float64\n",
      "-----------\n",
      "store_id\n",
      "8    34.023847\n",
      "3    33.932643\n",
      "5    32.043510\n",
      "Name: proportion, dtype: float64\n",
      "-----------\n",
      "store_location\n",
      "Hell's Kitchen     34.023847\n",
      "Astoria            33.932643\n",
      "Lower Manhattan    32.043510\n",
      "Name: proportion, dtype: float64\n",
      "-----------\n",
      "product_id\n",
      "71    2.062824\n",
      "50    2.047399\n",
      "59    2.031304\n",
      "54    2.029293\n",
      "29    2.020575\n",
      "        ...   \n",
      "7     0.097910\n",
      "14    0.095228\n",
      "10    0.089863\n",
      "18    0.081815\n",
      "19    0.079133\n",
      "Name: proportion, Length: 80, dtype: float64\n",
      "-----------\n",
      "unit_price\n",
      "3.00     22.601867\n",
      "2.50     17.668124\n",
      "3.75     12.393707\n",
      "3.50      9.206256\n",
      "0.80      4.553502\n",
      "3.25      4.063950\n",
      "4.25      3.801068\n",
      "2.00      3.786985\n",
      "2.20      3.786985\n",
      "3.10      3.718582\n",
      "4.50      3.330293\n",
      "4.75      1.985702\n",
      "4.00      1.897851\n",
      "2.55      1.814024\n",
      "2.45      1.763728\n",
      "8.95      0.510341\n",
      "2.10      0.502964\n",
      "18.00     0.262883\n",
      "14.00     0.196491\n",
      "2.65      0.190456\n",
      "28.00     0.156254\n",
      "12.00     0.150219\n",
      "7.60      0.148207\n",
      "21.00     0.146195\n",
      "45.00     0.127418\n",
      "22.50     0.118700\n",
      "14.75     0.113335\n",
      "9.50      0.112664\n",
      "9.25      0.106628\n",
      "20.45     0.100593\n",
      "13.33     0.099252\n",
      "15.00     0.099252\n",
      "19.75     0.097910\n",
      "10.00     0.089863\n",
      "10.95     0.081815\n",
      "6.40      0.079133\n",
      "4.06      0.044261\n",
      "4.38      0.036884\n",
      "4.69      0.028166\n",
      "23.00     0.017436\n",
      "5.63      0.010059\n",
      "Name: proportion, dtype: float64\n",
      "-----------\n",
      "product_category\n",
      "Coffee                39.174871\n",
      "Tea                   30.478956\n",
      "Bakery                15.287427\n",
      "Drinking Chocolate     7.690657\n",
      "Flavours               4.553502\n",
      "Coffee beans           1.175595\n",
      "Loose Tea              0.811449\n",
      "Branded                0.500952\n",
      "Packaged Chocolate     0.326591\n",
      "Name: proportion, dtype: float64\n",
      "-----------\n",
      "product_type\n",
      "Brewed Chai tea          11.523244\n",
      "Gourmet brewed coffee    11.341506\n",
      "Barista Espresso         11.000161\n",
      "Hot chocolate             7.690657\n",
      "Brewed Black tea          7.611524\n",
      "Brewed herbal tea         7.541109\n",
      "Scone                     6.822206\n",
      "Organic brewed coffee     5.692883\n",
      "Drip coffee               5.684836\n",
      "Premium brewed coffee     5.455484\n",
      "Pastry                    4.635317\n",
      "Biscotti                  3.829904\n",
      "Brewed Green tea          3.803079\n",
      "Regular syrup             3.339011\n",
      "Sugar free syrup          1.214491\n",
      "Housewares                0.352746\n",
      "Chai tea                  0.297084\n",
      "Organic Beans             0.278307\n",
      "Gourmet Beans             0.245446\n",
      "Premium Beans             0.225328\n",
      "Espresso Beans            0.213927\n",
      "Herbal tea                0.204539\n",
      "Black tea                 0.203198\n",
      "Drinking Chocolate        0.178385\n",
      "Organic Chocolate         0.148207\n",
      "Clothing                  0.148207\n",
      "House blend Beans         0.122723\n",
      "Green tea                 0.106628\n",
      "Green beans               0.089863\n",
      "Name: proportion, dtype: float64\n",
      "-----------\n",
      "product_detail\n",
      "Chocolate Croissant             2.062824\n",
      "Earl Grey Rg                    2.047399\n",
      "Dark chocolate Lg               2.031304\n",
      "Morning Sunrise Chai Rg         2.029293\n",
      "Columbian Medium Roast Rg       2.020575\n",
      "                                  ...   \n",
      "Jamacian Coffee River           0.097910\n",
      "Earl Grey                       0.095228\n",
      "Guatemalan Sustainably Grown    0.089863\n",
      "Spicy Eye Opener Chai           0.081815\n",
      "Dark chocolate                  0.079133\n",
      "Name: proportion, Length: 80, dtype: float64\n",
      "-----------\n"
     ]
    }
   ],
   "source": [
    "columns = dataframe.columns.to_list()\n",
    "for col in columns:\n",
    "    print(dataframe[col].value_counts(normalize=True) * 100)\n",
    "    print(\"-----------\")"
   ]
  },
  {
   "cell_type": "markdown",
   "metadata": {},
   "source": [
    "Destaque especial para a classe transaction_qty."
   ]
  },
  {
   "cell_type": "markdown",
   "metadata": {},
   "source": [
    "### Onde há valores nulos?"
   ]
  },
  {
   "cell_type": "code",
   "execution_count": 47,
   "metadata": {},
   "outputs": [
    {
     "name": "stdout",
     "output_type": "stream",
     "text": [
      "transaction_id      0\n",
      "transaction_date    0\n",
      "transaction_time    0\n",
      "transaction_qty     0\n",
      "store_id            0\n",
      "store_location      0\n",
      "product_id          0\n",
      "unit_price          0\n",
      "product_category    0\n",
      "product_type        0\n",
      "product_detail      0\n",
      "dtype: int64\n"
     ]
    }
   ],
   "source": [
    "print(dataframe.isnull().sum())"
   ]
  },
  {
   "cell_type": "markdown",
   "metadata": {},
   "source": [
    "### Normalização dos dados"
   ]
  },
  {
   "cell_type": "code",
   "execution_count": 48,
   "metadata": {},
   "outputs": [],
   "source": [
    "from sklearn.preprocessing import LabelEncoder\n",
    "import numpy as np\n",
    "\n",
    "# Tratando as datas\n",
    "dataframe[\"transaction_date\"] = pd.to_datetime(dataframe[\"transaction_date\"])\n",
    "dataframe[\"Year\"] = dataframe[\"transaction_date\"].dt.year\n",
    "dataframe[\"Month\"] = dataframe[\"transaction_date\"].dt.month\n",
    "dataframe[\"Day\"] = dataframe[\"transaction_date\"].dt.day\n",
    "dataframe.drop(columns=[\"transaction_date\"], inplace=True)\n",
    "\n",
    "# Tratando os horários para o formato cíclico (Seno/Cosseno)\n",
    "dataframe[\"transaction_time\"] = pd.to_datetime(dataframe[\"transaction_time\"], format=\"%H:%M:%S\")\n",
    "dataframe[\"hour\"] = dataframe[\"transaction_time\"].dt.hour\n",
    "dataframe[\"sin_hour\"] = np.sin(2 * np.pi * dataframe[\"hour\"] / 24)\n",
    "dataframe[\"cos_hour\"] = np.cos(2 * np.pi * dataframe[\"hour\"] / 24)\n",
    "\n",
    "#Dropando as colunas auxiliares / descartaveis de horas\n",
    "# dataframe.drop(columns=[\"transaction_time\", \"hour\"], inplace=True)\n",
    "\n",
    "\n",
    "# Criando um label (ID) para os valores em string\n",
    "label_encoder = LabelEncoder()\n",
    "dataframe[\"store_location\"] = label_encoder.fit_transform(dataframe[\"store_location\"])\n",
    "dataframe[\"product_category\"] = label_encoder.fit_transform(dataframe[\"product_category\"])\n",
    "dataframe[\"product_type\"] = label_encoder.fit_transform(dataframe[\"product_type\"])\n",
    "dataframe[\"product_detail\"] = label_encoder.fit_transform(dataframe[\"product_detail\"])"
   ]
  },
  {
   "cell_type": "code",
   "execution_count": 49,
   "metadata": {},
   "outputs": [
    {
     "data": {
      "text/html": [
       "<div>\n",
       "<style scoped>\n",
       "    .dataframe tbody tr th:only-of-type {\n",
       "        vertical-align: middle;\n",
       "    }\n",
       "\n",
       "    .dataframe tbody tr th {\n",
       "        vertical-align: top;\n",
       "    }\n",
       "\n",
       "    .dataframe thead th {\n",
       "        text-align: right;\n",
       "    }\n",
       "</style>\n",
       "<table border=\"1\" class=\"dataframe\">\n",
       "  <thead>\n",
       "    <tr style=\"text-align: right;\">\n",
       "      <th></th>\n",
       "      <th>transaction_id</th>\n",
       "      <th>transaction_time</th>\n",
       "      <th>transaction_qty</th>\n",
       "      <th>store_id</th>\n",
       "      <th>store_location</th>\n",
       "      <th>product_id</th>\n",
       "      <th>unit_price</th>\n",
       "      <th>product_category</th>\n",
       "      <th>product_type</th>\n",
       "      <th>product_detail</th>\n",
       "      <th>Year</th>\n",
       "      <th>Month</th>\n",
       "      <th>Day</th>\n",
       "      <th>hour</th>\n",
       "      <th>sin_hour</th>\n",
       "      <th>cos_hour</th>\n",
       "    </tr>\n",
       "  </thead>\n",
       "  <tbody>\n",
       "    <tr>\n",
       "      <th>0</th>\n",
       "      <td>1</td>\n",
       "      <td>1900-01-01 07:06:11</td>\n",
       "      <td>2</td>\n",
       "      <td>5</td>\n",
       "      <td>2</td>\n",
       "      <td>32</td>\n",
       "      <td>3.0</td>\n",
       "      <td>2</td>\n",
       "      <td>13</td>\n",
       "      <td>32</td>\n",
       "      <td>2023</td>\n",
       "      <td>1</td>\n",
       "      <td>1</td>\n",
       "      <td>7</td>\n",
       "      <td>0.965926</td>\n",
       "      <td>-0.258819</td>\n",
       "    </tr>\n",
       "    <tr>\n",
       "      <th>1</th>\n",
       "      <td>2</td>\n",
       "      <td>1900-01-01 07:08:56</td>\n",
       "      <td>2</td>\n",
       "      <td>5</td>\n",
       "      <td>2</td>\n",
       "      <td>57</td>\n",
       "      <td>3.1</td>\n",
       "      <td>8</td>\n",
       "      <td>4</td>\n",
       "      <td>71</td>\n",
       "      <td>2023</td>\n",
       "      <td>1</td>\n",
       "      <td>1</td>\n",
       "      <td>7</td>\n",
       "      <td>0.965926</td>\n",
       "      <td>-0.258819</td>\n",
       "    </tr>\n",
       "    <tr>\n",
       "      <th>2</th>\n",
       "      <td>3</td>\n",
       "      <td>1900-01-01 07:14:04</td>\n",
       "      <td>2</td>\n",
       "      <td>5</td>\n",
       "      <td>2</td>\n",
       "      <td>59</td>\n",
       "      <td>4.5</td>\n",
       "      <td>4</td>\n",
       "      <td>17</td>\n",
       "      <td>20</td>\n",
       "      <td>2023</td>\n",
       "      <td>1</td>\n",
       "      <td>1</td>\n",
       "      <td>7</td>\n",
       "      <td>0.965926</td>\n",
       "      <td>-0.258819</td>\n",
       "    </tr>\n",
       "    <tr>\n",
       "      <th>3</th>\n",
       "      <td>4</td>\n",
       "      <td>1900-01-01 07:20:24</td>\n",
       "      <td>1</td>\n",
       "      <td>5</td>\n",
       "      <td>2</td>\n",
       "      <td>22</td>\n",
       "      <td>2.0</td>\n",
       "      <td>2</td>\n",
       "      <td>10</td>\n",
       "      <td>60</td>\n",
       "      <td>2023</td>\n",
       "      <td>1</td>\n",
       "      <td>1</td>\n",
       "      <td>7</td>\n",
       "      <td>0.965926</td>\n",
       "      <td>-0.258819</td>\n",
       "    </tr>\n",
       "    <tr>\n",
       "      <th>4</th>\n",
       "      <td>5</td>\n",
       "      <td>1900-01-01 07:22:41</td>\n",
       "      <td>2</td>\n",
       "      <td>5</td>\n",
       "      <td>2</td>\n",
       "      <td>57</td>\n",
       "      <td>3.1</td>\n",
       "      <td>8</td>\n",
       "      <td>4</td>\n",
       "      <td>71</td>\n",
       "      <td>2023</td>\n",
       "      <td>1</td>\n",
       "      <td>1</td>\n",
       "      <td>7</td>\n",
       "      <td>0.965926</td>\n",
       "      <td>-0.258819</td>\n",
       "    </tr>\n",
       "  </tbody>\n",
       "</table>\n",
       "</div>"
      ],
      "text/plain": [
       "   transaction_id    transaction_time  transaction_qty  store_id  \\\n",
       "0               1 1900-01-01 07:06:11                2         5   \n",
       "1               2 1900-01-01 07:08:56                2         5   \n",
       "2               3 1900-01-01 07:14:04                2         5   \n",
       "3               4 1900-01-01 07:20:24                1         5   \n",
       "4               5 1900-01-01 07:22:41                2         5   \n",
       "\n",
       "   store_location  product_id  unit_price  product_category  product_type  \\\n",
       "0               2          32         3.0                 2            13   \n",
       "1               2          57         3.1                 8             4   \n",
       "2               2          59         4.5                 4            17   \n",
       "3               2          22         2.0                 2            10   \n",
       "4               2          57         3.1                 8             4   \n",
       "\n",
       "   product_detail  Year  Month  Day  hour  sin_hour  cos_hour  \n",
       "0              32  2023      1    1     7  0.965926 -0.258819  \n",
       "1              71  2023      1    1     7  0.965926 -0.258819  \n",
       "2              20  2023      1    1     7  0.965926 -0.258819  \n",
       "3              60  2023      1    1     7  0.965926 -0.258819  \n",
       "4              71  2023      1    1     7  0.965926 -0.258819  "
      ]
     },
     "execution_count": 49,
     "metadata": {},
     "output_type": "execute_result"
    }
   ],
   "source": [
    "dataframe.head()"
   ]
  },
  {
   "cell_type": "markdown",
   "metadata": {},
   "source": [
    "### O que vamos tentar prever?\n",
    "\n",
    "Possíveis problemas:\n",
    "\n",
    "- Existe um padrão de horário e quantidade de vendas em certas lojas?\n",
    "- Há lojas ou produtos que têm padrões de vendas incomuns (outliers)?\n",
    "- Os clientes seguem padrões de compras baseados em preço e quantidade?\n",
    "- Há algum padrão nas transações?\n",
    "- Existe um grupo de produtos frequentemente comprados juntos?\n"
   ]
  },
  {
   "cell_type": "markdown",
   "metadata": {},
   "source": [
    "## Identificando Padrões\n",
    "### Verificando os diferentes grupos de transações\n",
    "Dado a categoria do produto, o tipo de produto, o preço unitário e a quantidade vendida, quais tipos de transações podemos identificar?"
   ]
  },
  {
   "cell_type": "markdown",
   "metadata": {},
   "source": [
    "#### Padronizando os dados"
   ]
  },
  {
   "cell_type": "code",
   "execution_count": 50,
   "metadata": {},
   "outputs": [],
   "source": [
    "from sklearn.preprocessing import StandardScaler\n",
    "\n",
    "# Colunas a serem estudadas\n",
    "features = [\"product_category\", \"product_type\", \"unit_price\", \"transaction_qty\"]\n",
    "X = dataframe[features]\n",
    "\n",
    "# Padronizando os dados\n",
    "scaler = StandardScaler()\n",
    "data_scaled = scaler.fit_transform(X)"
   ]
  },
  {
   "cell_type": "markdown",
   "metadata": {},
   "source": [
    "#### KMEANS"
   ]
  },
  {
   "cell_type": "code",
   "execution_count": 51,
   "metadata": {},
   "outputs": [
    {
     "data": {
      "text/plain": [
       "array([2, 2, 2, ..., 0, 0, 2], dtype=int32)"
      ]
     },
     "execution_count": 51,
     "metadata": {},
     "output_type": "execute_result"
    }
   ],
   "source": [
    "from sklearn.cluster import KMeans\n",
    "import matplotlib.pyplot as plt\n",
    "\n",
    "kmeans = KMeans(n_clusters=3, random_state=0).fit(data_scaled)\n",
    "kmeans.labels_"
   ]
  },
  {
   "cell_type": "code",
   "execution_count": 52,
   "metadata": {},
   "outputs": [
    {
     "data": {
      "image/png": "[encoded data removed]",
      "text/plain": [
       "<Figure size 800x600 with 2 Axes>"
      ]
     },
     "metadata": {},
     "output_type": "display_data"
    }
   ],
   "source": [
    "plt.figure(figsize=(8, 6))\n",
    "# Selecionando duas colunas para plotar: unit_price e transaction_qty\n",
    "scatter = plt.scatter(\n",
    "  dataframe[\"unit_price\"], \n",
    "  dataframe[\"transaction_qty\"], \n",
    "  c=kmeans.labels_, \n",
    "  cmap='cividis', \n",
    "  s=80,\n",
    "  alpha=0.7\n",
    ")\n",
    "\n",
    "plt.xlabel('Unit Price')\n",
    "plt.ylabel('Transaction Quantity')\n",
    "plt.title('KMeans Clusters - Unit Price vs Transaction Quantity')\n",
    "plt.colorbar(scatter, label='Cluster')\n",
    "plt.show()"
   ]
  },
  {
   "cell_type": "markdown",
   "metadata": {},
   "source": [
    "Podemos observar no gráfico alguns outliers, como por exemplo uma transação de um produto com um valor alto em alta quantidade, o que não é comum!"
   ]
  },
  {
   "cell_type": "markdown",
   "metadata": {},
   "source": [
    "### DBSCAN"
   ]
  },
  {
   "cell_type": "code",
   "execution_count": 53,
   "metadata": {},
   "outputs": [
    {
     "data": {
      "text/plain": [
       "115"
      ]
     },
     "execution_count": 53,
     "metadata": {},
     "output_type": "execute_result"
    }
   ],
   "source": [
    "from sklearn.cluster import DBSCAN\n",
    "dbscan = DBSCAN(eps=0.15, min_samples=5)\n",
    "clusters_dsbcan = dbscan.fit_predict(data_scaled)\n",
    "unique_clusters = np.unique(clusters_dsbcan)\n",
    "len(unique_clusters)"
   ]
  },
  {
   "cell_type": "code",
   "execution_count": 54,
   "metadata": {},
   "outputs": [
    {
     "data": {
      "image/png": "[encoded data removed]",
      "text/plain": [
       "<Figure size 800x600 with 2 Axes>"
      ]
     },
     "metadata": {},
     "output_type": "display_data"
    }
   ],
   "source": [
    "plt.figure(figsize=(8, 6))\n",
    "# Selecionando duas colunas para plotar: unit_price e transaction_qty\n",
    "scatter = plt.scatter(\n",
    "  dataframe[\"unit_price\"], \n",
    "  dataframe[\"transaction_qty\"], \n",
    "  c=clusters_dsbcan, \n",
    "  cmap='cividis', \n",
    "  s=80,\n",
    "  alpha=0.7\n",
    ")\n",
    "\n",
    "plt.xlabel('Unit Price')\n",
    "plt.ylabel('Transaction Quantity')\n",
    "plt.title('dbscan Clusters - Unit Price vs Transaction Quantity')\n",
    "plt.colorbar(scatter, label='Cluster')\n",
    "plt.show()"
   ]
  },
  {
   "cell_type": "markdown",
   "metadata": {},
   "source": [
    "O dbscan identificou 115 tipo de clusters! Lembrando que o dataset possui um tamanho de 149 mil registros\n",
    "\n",
    "Lembrando que, não foi feito nem um estudo para a definição do epsilon e do min_samples (Até o momento)."
   ]
  },
  {
   "cell_type": "markdown",
   "metadata": {},
   "source": [
    "#### Hierárquico Aglomerativo"
   ]
  },
  {
   "cell_type": "code",
   "execution_count": 55,
   "metadata": {},
   "outputs": [
    {
     "data": {
      "text/plain": [
       "array([2, 0, 0, ..., 2, 0, 1])"
      ]
     },
     "execution_count": 55,
     "metadata": {},
     "output_type": "execute_result"
    }
   ],
   "source": [
    "from sklearn.cluster import KMeans, DBSCAN, AgglomerativeClustering\n",
    "from sklearn.model_selection import train_test_split\n",
    "from scipy.cluster.hierarchy import dendrogram, linkage\n",
    "frac = 0.1\n",
    "\n",
    "n_samples = int(len(data_scaled) * frac)\n",
    "random_indices = np.random.choice(len(data_scaled), n_samples, replace=False)\n",
    "data_sample = data_scaled[random_indices]\n",
    "\n",
    "agglo_cluster = AgglomerativeClustering(3)\n",
    "agglo_cluster.fit(data_sample)\n",
    "agglo_cluster.labels_"
   ]
  },
  {
   "cell_type": "markdown",
   "metadata": {},
   "source": [
    "Eu tive alguns problemas para executar o algoritmo aglomerativo.\n",
    "\n",
    "1 - Tive que pegar apenas 10% dos dados, pois acontecia um erro de \"Não foi possível alocar 81GB\"\n",
    "\n",
    "2 - Outra abordagem foi tentar convertar de float64 para float32, porém, sem sucesso."
   ]
  },
  {
   "cell_type": "code",
   "execution_count": 56,
   "metadata": {},
   "outputs": [],
   "source": [
    "# Calculando a matriz de ligação (Dendrograma)\n",
    "#O método Ward tenta minimizar a variância dentro dos clusters ao fundi-los, \n",
    "# sendo útil para formar grupos compactos e homogêneos.\n",
    "linked = linkage(data_sample, 'ward')"
   ]
  },
  {
   "cell_type": "code",
   "execution_count": 57,
   "metadata": {},
   "outputs": [
    {
     "data": {
      "image/png": "[encoded data removed]",
      "text/plain": [
       "<Figure size 1000x700 with 1 Axes>"
      ]
     },
     "metadata": {},
     "output_type": "display_data"
    }
   ],
   "source": [
    "plt.figure(figsize=(10, 7))\n",
    "dendrogram(linked,\n",
    "            orientation='top',\n",
    "            distance_sort='descending',\n",
    "            show_leaf_counts=True)\n",
    "plt.title(\"Dendrograma  para o Dataset Coffe Shop\")\n",
    "plt.xlabel(\"Pontos \")\n",
    "plt.ylabel(\"Distancia\")\n",
    "plt.show()"
   ]
  },
  {
   "cell_type": "markdown",
   "metadata": {},
   "source": [
    "Olhando para o dendrograma atual treinado com 3 clusters, no momento, a melhor divisão aparenta ser com 4 grupos."
   ]
  },
  {
   "cell_type": "markdown",
   "metadata": {},
   "source": [
    "### Resumo da primeira parte"
   ]
  },
  {
   "cell_type": "markdown",
   "metadata": {},
   "source": [
    "Utilizando valores sem se preocupar com os hiperparâmetros, chegamos a diferentes conclusões para cada algoritmo.\n",
    "\n",
    "Para o KMeans foi utilizado um K = 3, o que não nos diz muita coisa dado que a escolha foi completamente arbitrária.\n",
    "\n",
    "Para o DBSCAN, o mesmo encontrou um total de 115 grupos com o epsilon de 0.15 e min_samples de 5. Ou seja, com estes parâmetros temos 115 tipos grupos de transações? Vamos ver se com a otimização isso ainda faz sentido. \n",
    "\n",
    "Já o hierárquico aglomerativo, com o número de clusters = 3 (Lembrando que foi utilizado o \"ward\"), podemos identificar um corte de 4 grupos. Novamente, faz sentido? Temos uma discrepância muito grande do dbscan para o aglomerativo. \n",
    "\n",
    "Vamos ver se na próxima parte os algoritmos irão convergir para um ponto comum. "
   ]
  },
  {
   "cell_type": "markdown",
   "metadata": {},
   "source": [
    "### Métricas que poderão ser utilizadas para a avaliação dos algoritmos\n",
    "\n",
    "\n",
    "- Método do Cotovelo (Elbow Method): O ponto onde a inércia para de diminuir significativamente é o melhor número de clusters.\n",
    "    - Utilizado no KMeans.\n",
    "\n",
    "- Silhouette Score: Quão bem os pontos estão agrupados dentro do cluster versus quão longe estão dos outros clusters.\n",
    "    - Utilizado no KMeans, DBscan e Hierárquico.\n",
    "\n",
    "\n",
    "\n"
   ]
  },
  {
   "cell_type": "markdown",
   "metadata": {},
   "source": [
    "# Parte 2\n",
    "\n",
    "Nessa segunda parte do trabalho vamos otimizar os hiperparâmetros."
   ]
  },
  {
   "cell_type": "markdown",
   "metadata": {},
   "source": [
    "#### Utilizando o \"Método do Cotovelo (Elbow Method)\" para determinar o melhor valor de K"
   ]
  },
  {
   "cell_type": "code",
   "execution_count": 58,
   "metadata": {},
   "outputs": [],
   "source": [
    "valores_k = []\n",
    "inercias = []\n",
    "for i in range(1, 100):\n",
    "  kmeans = KMeans(n_clusters=i, random_state=0).fit(data_scaled)\n",
    "  valores_k.append(i)\n",
    "  inercias.append(kmeans.inertia_)"
   ]
  },
  {
   "cell_type": "code",
   "execution_count": 59,
   "metadata": {},
   "outputs": [
    {
     "data": {
      "image/png": "[encoded data removed]",
      "text/plain": [
       "<Figure size 640x480 with 1 Axes>"
      ]
     },
     "metadata": {},
     "output_type": "display_data"
    }
   ],
   "source": [
    "fig, ax = plt.subplots()\n",
    "ax.plot(valores_k, inercias)\n",
    "plt.xlabel('Número de clusters (k)')\n",
    "plt.ylabel('Inércia')\n",
    "ax.set_xticks(range(0, max(valores_k) + 5, 5))\n",
    "plt.show()"
   ]
  },
  {
   "cell_type": "markdown",
   "metadata": {},
   "source": [
    "A inércia é a soma das distâncias quadradas dos pontos até o centro do seu cluster. Quanto menor, melhor (em geral), mas com mais clusters a inércia sempre tende a diminuir."
   ]
  },
  {
   "cell_type": "markdown",
   "metadata": {},
   "source": [
    "Olhando para o \"cotovelo\" do gráfico, podemos definir o melhor valor de K para algo em torno de 15 e 30.\n",
    "\n",
    "Vamos testar!"
   ]
  },
  {
   "cell_type": "code",
   "execution_count": 60,
   "metadata": {},
   "outputs": [
    {
     "data": {
      "text/plain": [
       "array([2, 3, 2, ..., 5, 0, 2], dtype=int32)"
      ]
     },
     "execution_count": 60,
     "metadata": {},
     "output_type": "execute_result"
    }
   ],
   "source": [
    "kmeans = KMeans(n_clusters=6, random_state=0).fit(data_scaled)\n",
    "kmeans.labels_"
   ]
  },
  {
   "cell_type": "markdown",
   "metadata": {},
   "source": [
    "### Não temos os rótulos verdadeiros!\n",
    "\n",
    "E por conta disso não podemos usar o rand score :(\n",
    "\n",
    "MAS, temos outra forma de verificar se a quantidade de clusters está nos dando bons resultados, a silhouette score!"
   ]
  },
  {
   "cell_type": "markdown",
   "metadata": {},
   "source": [
    "## KMEANS"
   ]
  },
  {
   "cell_type": "markdown",
   "metadata": {},
   "source": [
    "## Vamos plotar alguns gráficos para determinar o melhor valor de K\n",
    "\n",
    "Por conta da demora em executar o código, decidi selecionar apenas 10% do dataset, o que equivale a 14911 amostras."
   ]
  },
  {
   "cell_type": "code",
   "execution_count": 61,
   "metadata": {},
   "outputs": [],
   "source": [
    "from sklearn.metrics import silhouette_score\n",
    "\n",
    "#Redimensionando o dataset para 10%\n",
    "frac = 0.1\n",
    "n_samples = int(len(data_scaled) * frac)\n",
    "random_indices = np.random.choice(len(data_scaled), n_samples, replace=False)\n",
    "data_sample = data_scaled[random_indices]\n",
    "\n",
    "valores_k = []\n",
    "silhouette_score_variation = []\n",
    "# O silhouette score não permite k=1\n",
    "for i in range(2, 30):\n",
    "  kmeans = KMeans(n_clusters=i, random_state=0).fit(data_sample)\n",
    "  valores_k.append(i)\n",
    "  silhouette_score_variation.append(silhouette_score(data_sample, kmeans.labels_, metric=\"euclidean\"))\n",
    "\n"
   ]
  },
  {
   "cell_type": "code",
   "execution_count": 62,
   "metadata": {},
   "outputs": [
    {
     "data": {
      "image/png": "[encoded data removed]",
      "text/plain": [
       "<Figure size 640x480 with 1 Axes>"
      ]
     },
     "metadata": {},
     "output_type": "display_data"
    }
   ],
   "source": [
    "fig, ax = plt.subplots()\n",
    "ax.plot(valores_k, silhouette_score_variation, marker='o')\n",
    "plt.ylabel(\"Silhouette score\")\n",
    "plt.xlabel(\"Qtd de Clusters (K)\")\n",
    "ax.set_xticks(range(0, max(valores_k) + 5, 5))\n",
    "plt.show()"
   ]
  },
  {
   "cell_type": "markdown",
   "metadata": {},
   "source": [
    "Após amostra do gráfico, encontramos o melhor valor de K, sendo 25, do qual é maximizado a Silhouette Score!\n",
    "\n",
    "Vamos aplicar no código!"
   ]
  },
  {
   "cell_type": "code",
   "execution_count": 63,
   "metadata": {},
   "outputs": [
    {
     "data": {
      "text/plain": [
       "array([24,  3, 21, ..., 14,  6,  4], dtype=int32)"
      ]
     },
     "execution_count": 63,
     "metadata": {},
     "output_type": "execute_result"
    }
   ],
   "source": [
    "kmeans = KMeans(n_clusters=25, random_state=0).fit(data_sample)\n",
    "kmeans.labels_"
   ]
  },
  {
   "cell_type": "code",
   "execution_count": 64,
   "metadata": {},
   "outputs": [
    {
     "data": {
      "image/png": "[encoded data removed]",
      "text/plain": [
       "<Figure size 800x600 with 2 Axes>"
      ]
     },
     "metadata": {},
     "output_type": "display_data"
    }
   ],
   "source": [
    "plt.figure(figsize=(8, 6))\n",
    "# Selecionando duas colunas para plotar: unit_price e transaction_qty\n",
    "scatter = plt.scatter(\n",
    "  dataframe[\"unit_price\"][:n_samples], \n",
    "  dataframe[\"transaction_qty\"][:n_samples], \n",
    "  c=kmeans.labels_, \n",
    "  cmap='cividis', \n",
    "  s=80,\n",
    "  alpha=0.7\n",
    ")\n",
    "\n",
    "plt.xlabel('Unit Price')\n",
    "plt.ylabel('Transaction Quantity')\n",
    "plt.title('KMeans Clusters - Unit Price vs Transaction Quantity')\n",
    "plt.colorbar(scatter, label='Cluster')\n",
    "plt.show()"
   ]
  },
  {
   "cell_type": "markdown",
   "metadata": {},
   "source": [
    "## DBSCAN"
   ]
  },
  {
   "cell_type": "markdown",
   "metadata": {},
   "source": [
    "Para maximizar a silhouette score do DBSCAN, vamos criar um range de testes para o epsilon e para o min_samples. \n",
    "\n",
    "Vamos também criar algumas funções auxiliares."
   ]
  },
  {
   "cell_type": "markdown",
   "metadata": {},
   "source": [
    "Para melhor otimização de tempo, vamos usar 10% dos dados do dataset, o que equivale à 14911."
   ]
  },
  {
   "cell_type": "code",
   "execution_count": null,
   "metadata": {},
   "outputs": [
    {
     "name": "stdout",
     "output_type": "stream",
     "text": [
      "(np.float64(0.8441813581186898), np.float64(2.0999999999999996), 3)\n"
     ]
    },
    {
     "ename": "",
     "evalue": "",
     "output_type": "error",
     "traceback": [
      "\u001b[1;31mThe Kernel crashed while executing code in the current cell or a previous cell. \n",
      "\u001b[1;31mPlease review the code in the cell(s) to identify a possible cause of the failure. \n",
      "\u001b[1;31mClick <a href='https://aka.ms/vscodeJupyterKernelCrash'>here</a> for more info. \n",
      "\u001b[1;31mView Jupyter <a href='command:jupyter.viewOutput'>log</a> for further details."
     ]
    }
   ],
   "source": [
    "def max_dbscan(X, eps_range, min_samples_range):\n",
    "    best_score = -10\n",
    "    best_eps = None\n",
    "    best_samples = None\n",
    "\n",
    "    # Vamos testar diferentes combinações, ou seja, loop dentro de lopp!\n",
    "    for eps in eps_range:\n",
    "        for min_sample in min_samples_range:\n",
    "            dbscan = DBSCAN(eps=eps, min_samples=min_sample)\n",
    "            labels_dbscan = dbscan.fit_predict(X)\n",
    "\n",
    "            #Funcao \"set\" remove duplicatas\n",
    "            if(len(set(labels_dbscan)) > 1):\n",
    "                #Só podemos calcular o silhouete score se tiver mais de um cluster\n",
    "                score = silhouette_score(X, labels_dbscan)\n",
    "\n",
    "                if(score > best_score):\n",
    "                    best_score = score\n",
    "                    best_eps = eps\n",
    "                    best_samples = min_sample\n",
    "    \n",
    "    return best_score, best_eps, best_samples\n",
    "\n",
    "#Vamos testar o eps de 0.1, até 5.0, de 0.1 em 0.1\n",
    "eps_range = np.arange(0.5, 2.5, 0.2)\n",
    "\n",
    "#Vamos testar a quantidade de samples de 2 até 10\n",
    "min_samples_range = range(3, 8)\n",
    "\n",
    "#Redimensionando o dataset para 10%\n",
    "frac = 0.1\n",
    "n_samples = int(len(data_scaled) * frac)\n",
    "random_indices = np.random.choice(len(data_scaled), n_samples, replace=False)\n",
    "data_sample = data_scaled[random_indices]\n",
    "print(max_dbscan(data_sample, eps_range, min_samples_range))"
   ]
  },
  {
   "cell_type": "code",
   "execution_count": null,
   "metadata": {},
   "outputs": [],
   "source": [
    "eps = 1.89 #@param\n",
    "min_sample = 3 #@param\n",
    "dbscan = DBSCAN(eps=eps, min_samples=min_sample)\n",
    "clusters_dsbcan = dbscan.fit_predict(data_scaled)"
   ]
  }
 ],
 "metadata": {
  "kernelspec": {
   "display_name": "Python 3",
   "language": "python",
   "name": "python3"
  },
  "language_info": {
   "codemirror_mode": {
    "name": "ipython",
    "version": 3
   },
   "file_extension": ".py",
   "mimetype": "text/x-python",
   "name": "python",
   "nbconvert_exporter": "python",
   "pygments_lexer": "ipython3",
   "version": "3.10.12"
  }
 },
 "nbformat": 4,
 "nbformat_minor": 2
}
