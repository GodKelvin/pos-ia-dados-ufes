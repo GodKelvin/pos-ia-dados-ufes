{
 "cells": [
  {
   "cell_type": "markdown",
   "id": "ada84feb",
   "metadata": {},
   "source": [
    "# Trab Regressão Multivariada"
   ]
  },
  {
   "cell_type": "code",
   "execution_count": 169,
   "id": "7bfb8d46",
   "metadata": {},
   "outputs": [],
   "source": [
    "import pandas as pd\n",
    "dataframe = pd.read_csv(\"dados_regressao_mult.csv\")"
   ]
  },
  {
   "cell_type": "markdown",
   "id": "1181d611",
   "metadata": {},
   "source": [
    "## Interepretando o Dataset"
   ]
  },
  {
   "cell_type": "code",
   "execution_count": 170,
   "id": "f9848272",
   "metadata": {},
   "outputs": [
    {
     "data": {
      "text/html": [
       "<div>\n",
       "<style scoped>\n",
       "    .dataframe tbody tr th:only-of-type {\n",
       "        vertical-align: middle;\n",
       "    }\n",
       "\n",
       "    .dataframe tbody tr th {\n",
       "        vertical-align: top;\n",
       "    }\n",
       "\n",
       "    .dataframe thead th {\n",
       "        text-align: right;\n",
       "    }\n",
       "</style>\n",
       "<table border=\"1\" class=\"dataframe\">\n",
       "  <thead>\n",
       "    <tr style=\"text-align: right;\">\n",
       "      <th></th>\n",
       "      <th>matr_aluno</th>\n",
       "      <th>idade</th>\n",
       "      <th>altura (cm)</th>\n",
       "      <th>sexo</th>\n",
       "      <th>peso (kg)</th>\n",
       "      <th>sono_h</th>\n",
       "      <th>exercicio_dias</th>\n",
       "      <th>exercicio_min</th>\n",
       "      <th>alimentacao</th>\n",
       "      <th>sedentario_h</th>\n",
       "      <th>agua_L</th>\n",
       "      <th>cafe_xic</th>\n",
       "      <th>refeicoes</th>\n",
       "      <th>polo</th>\n",
       "    </tr>\n",
       "  </thead>\n",
       "  <tbody>\n",
       "    <tr>\n",
       "      <th>0</th>\n",
       "      <td>20242510284</td>\n",
       "      <td>50.0</td>\n",
       "      <td>177.0</td>\n",
       "      <td>M</td>\n",
       "      <td>91.0</td>\n",
       "      <td>7.0</td>\n",
       "      <td>4.0</td>\n",
       "      <td>45.0</td>\n",
       "      <td>1.0</td>\n",
       "      <td>12.0</td>\n",
       "      <td>2.0</td>\n",
       "      <td>4.0</td>\n",
       "      <td>4.0</td>\n",
       "      <td>Vila Velha</td>\n",
       "    </tr>\n",
       "    <tr>\n",
       "      <th>1</th>\n",
       "      <td>20242510285</td>\n",
       "      <td>NaN</td>\n",
       "      <td>NaN</td>\n",
       "      <td>NaN</td>\n",
       "      <td>NaN</td>\n",
       "      <td>NaN</td>\n",
       "      <td>NaN</td>\n",
       "      <td>NaN</td>\n",
       "      <td>NaN</td>\n",
       "      <td>NaN</td>\n",
       "      <td>NaN</td>\n",
       "      <td>NaN</td>\n",
       "      <td>NaN</td>\n",
       "      <td>NaN</td>\n",
       "    </tr>\n",
       "    <tr>\n",
       "      <th>2</th>\n",
       "      <td>20242510286</td>\n",
       "      <td>NaN</td>\n",
       "      <td>NaN</td>\n",
       "      <td>NaN</td>\n",
       "      <td>NaN</td>\n",
       "      <td>NaN</td>\n",
       "      <td>NaN</td>\n",
       "      <td>NaN</td>\n",
       "      <td>NaN</td>\n",
       "      <td>NaN</td>\n",
       "      <td>NaN</td>\n",
       "      <td>NaN</td>\n",
       "      <td>NaN</td>\n",
       "      <td>NaN</td>\n",
       "    </tr>\n",
       "    <tr>\n",
       "      <th>3</th>\n",
       "      <td>20242510287</td>\n",
       "      <td>NaN</td>\n",
       "      <td>NaN</td>\n",
       "      <td>NaN</td>\n",
       "      <td>NaN</td>\n",
       "      <td>NaN</td>\n",
       "      <td>NaN</td>\n",
       "      <td>NaN</td>\n",
       "      <td>NaN</td>\n",
       "      <td>NaN</td>\n",
       "      <td>NaN</td>\n",
       "      <td>NaN</td>\n",
       "      <td>NaN</td>\n",
       "      <td>NaN</td>\n",
       "    </tr>\n",
       "    <tr>\n",
       "      <th>4</th>\n",
       "      <td>20242510288</td>\n",
       "      <td>NaN</td>\n",
       "      <td>NaN</td>\n",
       "      <td>NaN</td>\n",
       "      <td>NaN</td>\n",
       "      <td>NaN</td>\n",
       "      <td>NaN</td>\n",
       "      <td>NaN</td>\n",
       "      <td>NaN</td>\n",
       "      <td>NaN</td>\n",
       "      <td>NaN</td>\n",
       "      <td>NaN</td>\n",
       "      <td>NaN</td>\n",
       "      <td>NaN</td>\n",
       "    </tr>\n",
       "  </tbody>\n",
       "</table>\n",
       "</div>"
      ],
      "text/plain": [
       "    matr_aluno  idade  altura (cm) sexo  peso (kg)  sono_h  exercicio_dias  \\\n",
       "0  20242510284   50.0        177.0    M       91.0     7.0             4.0   \n",
       "1  20242510285    NaN          NaN  NaN        NaN     NaN             NaN   \n",
       "2  20242510286    NaN          NaN  NaN        NaN     NaN             NaN   \n",
       "3  20242510287    NaN          NaN  NaN        NaN     NaN             NaN   \n",
       "4  20242510288    NaN          NaN  NaN        NaN     NaN             NaN   \n",
       "\n",
       "   exercicio_min  alimentacao  sedentario_h  agua_L  cafe_xic  refeicoes  \\\n",
       "0           45.0          1.0          12.0     2.0       4.0        4.0   \n",
       "1            NaN          NaN           NaN     NaN       NaN        NaN   \n",
       "2            NaN          NaN           NaN     NaN       NaN        NaN   \n",
       "3            NaN          NaN           NaN     NaN       NaN        NaN   \n",
       "4            NaN          NaN           NaN     NaN       NaN        NaN   \n",
       "\n",
       "         polo  \n",
       "0  Vila Velha  \n",
       "1         NaN  \n",
       "2         NaN  \n",
       "3         NaN  \n",
       "4         NaN  "
      ]
     },
     "execution_count": 170,
     "metadata": {},
     "output_type": "execute_result"
    }
   ],
   "source": [
    "dataframe.head()"
   ]
  },
  {
   "cell_type": "code",
   "execution_count": 171,
   "id": "02dc0083",
   "metadata": {},
   "outputs": [
    {
     "name": "stdout",
     "output_type": "stream",
     "text": [
      "(188, 14)\n"
     ]
    }
   ],
   "source": [
    "print(dataframe.shape)"
   ]
  },
  {
   "cell_type": "code",
   "execution_count": 172,
   "id": "8eeb1537",
   "metadata": {},
   "outputs": [
    {
     "data": {
      "text/html": [
       "<div>\n",
       "<style scoped>\n",
       "    .dataframe tbody tr th:only-of-type {\n",
       "        vertical-align: middle;\n",
       "    }\n",
       "\n",
       "    .dataframe tbody tr th {\n",
       "        vertical-align: top;\n",
       "    }\n",
       "\n",
       "    .dataframe thead th {\n",
       "        text-align: right;\n",
       "    }\n",
       "</style>\n",
       "<table border=\"1\" class=\"dataframe\">\n",
       "  <thead>\n",
       "    <tr style=\"text-align: right;\">\n",
       "      <th></th>\n",
       "      <th>matr_aluno</th>\n",
       "      <th>idade</th>\n",
       "      <th>altura (cm)</th>\n",
       "      <th>peso (kg)</th>\n",
       "      <th>sono_h</th>\n",
       "      <th>exercicio_dias</th>\n",
       "      <th>exercicio_min</th>\n",
       "      <th>alimentacao</th>\n",
       "      <th>sedentario_h</th>\n",
       "      <th>agua_L</th>\n",
       "      <th>cafe_xic</th>\n",
       "      <th>refeicoes</th>\n",
       "    </tr>\n",
       "  </thead>\n",
       "  <tbody>\n",
       "    <tr>\n",
       "      <th>count</th>\n",
       "      <td>1.880000e+02</td>\n",
       "      <td>134.000000</td>\n",
       "      <td>134.000000</td>\n",
       "      <td>134.000000</td>\n",
       "      <td>134.000000</td>\n",
       "      <td>134.000000</td>\n",
       "      <td>134.000000</td>\n",
       "      <td>134.000000</td>\n",
       "      <td>134.000000</td>\n",
       "      <td>134.000000</td>\n",
       "      <td>134.000000</td>\n",
       "      <td>135.000000</td>\n",
       "    </tr>\n",
       "    <tr>\n",
       "      <th>mean</th>\n",
       "      <td>2.024251e+10</td>\n",
       "      <td>35.477612</td>\n",
       "      <td>174.134328</td>\n",
       "      <td>83.811194</td>\n",
       "      <td>6.906716</td>\n",
       "      <td>3.216418</td>\n",
       "      <td>52.097015</td>\n",
       "      <td>1.149254</td>\n",
       "      <td>9.955224</td>\n",
       "      <td>2.400746</td>\n",
       "      <td>2.395522</td>\n",
       "      <td>3.837037</td>\n",
       "    </tr>\n",
       "    <tr>\n",
       "      <th>std</th>\n",
       "      <td>5.511140e+01</td>\n",
       "      <td>8.174522</td>\n",
       "      <td>8.117364</td>\n",
       "      <td>18.728374</td>\n",
       "      <td>0.934244</td>\n",
       "      <td>1.885289</td>\n",
       "      <td>28.239276</td>\n",
       "      <td>0.482903</td>\n",
       "      <td>2.241494</td>\n",
       "      <td>0.926429</td>\n",
       "      <td>2.048358</td>\n",
       "      <td>0.812288</td>\n",
       "    </tr>\n",
       "    <tr>\n",
       "      <th>min</th>\n",
       "      <td>2.024251e+10</td>\n",
       "      <td>22.000000</td>\n",
       "      <td>155.000000</td>\n",
       "      <td>52.500000</td>\n",
       "      <td>3.000000</td>\n",
       "      <td>0.000000</td>\n",
       "      <td>0.000000</td>\n",
       "      <td>1.000000</td>\n",
       "      <td>4.000000</td>\n",
       "      <td>1.000000</td>\n",
       "      <td>0.000000</td>\n",
       "      <td>2.000000</td>\n",
       "    </tr>\n",
       "    <tr>\n",
       "      <th>25%</th>\n",
       "      <td>2.024251e+10</td>\n",
       "      <td>29.250000</td>\n",
       "      <td>170.000000</td>\n",
       "      <td>71.250000</td>\n",
       "      <td>6.000000</td>\n",
       "      <td>2.000000</td>\n",
       "      <td>40.000000</td>\n",
       "      <td>1.000000</td>\n",
       "      <td>8.000000</td>\n",
       "      <td>2.000000</td>\n",
       "      <td>1.000000</td>\n",
       "      <td>3.000000</td>\n",
       "    </tr>\n",
       "    <tr>\n",
       "      <th>50%</th>\n",
       "      <td>2.024251e+10</td>\n",
       "      <td>34.000000</td>\n",
       "      <td>174.000000</td>\n",
       "      <td>82.000000</td>\n",
       "      <td>7.000000</td>\n",
       "      <td>3.000000</td>\n",
       "      <td>60.000000</td>\n",
       "      <td>1.000000</td>\n",
       "      <td>10.000000</td>\n",
       "      <td>2.000000</td>\n",
       "      <td>2.000000</td>\n",
       "      <td>4.000000</td>\n",
       "    </tr>\n",
       "    <tr>\n",
       "      <th>75%</th>\n",
       "      <td>2.024251e+10</td>\n",
       "      <td>39.000000</td>\n",
       "      <td>179.000000</td>\n",
       "      <td>95.000000</td>\n",
       "      <td>7.500000</td>\n",
       "      <td>5.000000</td>\n",
       "      <td>60.000000</td>\n",
       "      <td>1.000000</td>\n",
       "      <td>12.000000</td>\n",
       "      <td>3.000000</td>\n",
       "      <td>4.000000</td>\n",
       "      <td>4.000000</td>\n",
       "    </tr>\n",
       "    <tr>\n",
       "      <th>max</th>\n",
       "      <td>2.024251e+10</td>\n",
       "      <td>62.000000</td>\n",
       "      <td>197.000000</td>\n",
       "      <td>180.000000</td>\n",
       "      <td>9.000000</td>\n",
       "      <td>7.000000</td>\n",
       "      <td>180.000000</td>\n",
       "      <td>3.000000</td>\n",
       "      <td>16.000000</td>\n",
       "      <td>6.000000</td>\n",
       "      <td>10.000000</td>\n",
       "      <td>7.000000</td>\n",
       "    </tr>\n",
       "  </tbody>\n",
       "</table>\n",
       "</div>"
      ],
      "text/plain": [
       "         matr_aluno       idade  altura (cm)   peso (kg)      sono_h  \\\n",
       "count  1.880000e+02  134.000000   134.000000  134.000000  134.000000   \n",
       "mean   2.024251e+10   35.477612   174.134328   83.811194    6.906716   \n",
       "std    5.511140e+01    8.174522     8.117364   18.728374    0.934244   \n",
       "min    2.024251e+10   22.000000   155.000000   52.500000    3.000000   \n",
       "25%    2.024251e+10   29.250000   170.000000   71.250000    6.000000   \n",
       "50%    2.024251e+10   34.000000   174.000000   82.000000    7.000000   \n",
       "75%    2.024251e+10   39.000000   179.000000   95.000000    7.500000   \n",
       "max    2.024251e+10   62.000000   197.000000  180.000000    9.000000   \n",
       "\n",
       "       exercicio_dias  exercicio_min  alimentacao  sedentario_h      agua_L  \\\n",
       "count      134.000000     134.000000   134.000000    134.000000  134.000000   \n",
       "mean         3.216418      52.097015     1.149254      9.955224    2.400746   \n",
       "std          1.885289      28.239276     0.482903      2.241494    0.926429   \n",
       "min          0.000000       0.000000     1.000000      4.000000    1.000000   \n",
       "25%          2.000000      40.000000     1.000000      8.000000    2.000000   \n",
       "50%          3.000000      60.000000     1.000000     10.000000    2.000000   \n",
       "75%          5.000000      60.000000     1.000000     12.000000    3.000000   \n",
       "max          7.000000     180.000000     3.000000     16.000000    6.000000   \n",
       "\n",
       "         cafe_xic   refeicoes  \n",
       "count  134.000000  135.000000  \n",
       "mean     2.395522    3.837037  \n",
       "std      2.048358    0.812288  \n",
       "min      0.000000    2.000000  \n",
       "25%      1.000000    3.000000  \n",
       "50%      2.000000    4.000000  \n",
       "75%      4.000000    4.000000  \n",
       "max     10.000000    7.000000  "
      ]
     },
     "execution_count": 172,
     "metadata": {},
     "output_type": "execute_result"
    }
   ],
   "source": [
    "dataframe.describe()"
   ]
  },
  {
   "cell_type": "code",
   "execution_count": 173,
   "id": "5d8eea45",
   "metadata": {},
   "outputs": [
    {
     "data": {
      "image/png": "[encoded data removed]",
      "text/plain": [
       "<Figure size 640x480 with 1 Axes>"
      ]
     },
     "metadata": {},
     "output_type": "display_data"
    }
   ],
   "source": [
    "import matplotlib.pyplot as plt\n",
    "import seaborn as sns\n",
    "plt.title(\"Distribuição de peso\")\n",
    "sns.histplot(dataframe[\"peso (kg)\"])\n",
    "plt.show()"
   ]
  },
  {
   "cell_type": "code",
   "execution_count": 174,
   "id": "6a1983d1",
   "metadata": {},
   "outputs": [
    {
     "data": {
      "image/png": "[encoded data removed]",
      "text/plain": [
       "<Figure size 640x480 with 1 Axes>"
      ]
     },
     "metadata": {},
     "output_type": "display_data"
    }
   ],
   "source": [
    "sns.boxplot(data=dataframe, y='peso (kg)')\n",
    "plt.show()"
   ]
  },
  {
   "cell_type": "markdown",
   "id": "8fbfb5d8",
   "metadata": {},
   "source": [
    "### Onde há valores nulos?\n"
   ]
  },
  {
   "cell_type": "code",
   "execution_count": 175,
   "id": "0311e490",
   "metadata": {},
   "outputs": [
    {
     "name": "stdout",
     "output_type": "stream",
     "text": [
      "matr_aluno         0\n",
      "idade             54\n",
      "altura (cm)       54\n",
      "sexo              54\n",
      "peso (kg)         54\n",
      "sono_h            54\n",
      "exercicio_dias    54\n",
      "exercicio_min     54\n",
      "alimentacao       54\n",
      "sedentario_h      54\n",
      "agua_L            54\n",
      "cafe_xic          54\n",
      "refeicoes         53\n",
      "polo              54\n",
      "dtype: int64\n"
     ]
    }
   ],
   "source": [
    "print(dataframe.isnull().sum())"
   ]
  },
  {
   "cell_type": "markdown",
   "id": "b1e93c83",
   "metadata": {},
   "source": [
    "## Tratando os dados"
   ]
  },
  {
   "cell_type": "code",
   "execution_count": 176,
   "id": "9e30562c",
   "metadata": {},
   "outputs": [],
   "source": [
    "# Removendo os outliers\n",
    "dataframe = dataframe[dataframe[\"peso (kg)\"] < 120]\n",
    "\n",
    "import numpy as np\n",
    "# Removendo valores nulos\n",
    "dataframe.replace(\"\", np.nan, inplace=True)\n",
    "dataframe = dataframe.dropna(subset=[\"peso (kg)\"])\n",
    "\n",
    "\n",
    "# Porém, como eu filtrei pelo peso, automaticamente eu já removi os valores nulos,\n",
    "# mas deixei aqui apenas para fins didáticos."
   ]
  },
  {
   "cell_type": "code",
   "execution_count": 177,
   "id": "4f436a2f",
   "metadata": {},
   "outputs": [
    {
     "name": "stdout",
     "output_type": "stream",
     "text": [
      "(130, 14)\n"
     ]
    }
   ],
   "source": [
    "print(dataframe.shape)"
   ]
  },
  {
   "cell_type": "code",
   "execution_count": 178,
   "id": "4eb315ec",
   "metadata": {},
   "outputs": [
    {
     "data": {
      "image/png": "[encoded data removed]",
      "text/plain": [
       "<Figure size 640x480 with 1 Axes>"
      ]
     },
     "metadata": {},
     "output_type": "display_data"
    }
   ],
   "source": [
    "plt.title(\"Distribuição de peso\")\n",
    "sns.histplot(dataframe[\"peso (kg)\"])\n",
    "plt.show()"
   ]
  },
  {
   "cell_type": "code",
   "execution_count": 179,
   "id": "bb11d8d5",
   "metadata": {},
   "outputs": [
    {
     "data": {
      "image/png": "[encoded data removed]",
      "text/plain": [
       "<Figure size 640x480 with 1 Axes>"
      ]
     },
     "metadata": {},
     "output_type": "display_data"
    }
   ],
   "source": [
    "sns.boxplot(data=dataframe, y='peso (kg)')\n",
    "plt.show()"
   ]
  },
  {
   "cell_type": "code",
   "execution_count": 180,
   "id": "0ba1b953",
   "metadata": {},
   "outputs": [
    {
     "name": "stdout",
     "output_type": "stream",
     "text": [
      "matr_aluno        0\n",
      "idade             0\n",
      "altura (cm)       0\n",
      "sexo              0\n",
      "peso (kg)         0\n",
      "sono_h            0\n",
      "exercicio_dias    0\n",
      "exercicio_min     0\n",
      "alimentacao       0\n",
      "sedentario_h      0\n",
      "agua_L            0\n",
      "cafe_xic          0\n",
      "refeicoes         0\n",
      "polo              1\n",
      "dtype: int64\n"
     ]
    }
   ],
   "source": [
    "print(dataframe.isnull().sum())"
   ]
  },
  {
   "cell_type": "code",
   "execution_count": 181,
   "id": "ce158aa5",
   "metadata": {},
   "outputs": [
    {
     "data": {
      "text/html": [
       "<div>\n",
       "<style scoped>\n",
       "    .dataframe tbody tr th:only-of-type {\n",
       "        vertical-align: middle;\n",
       "    }\n",
       "\n",
       "    .dataframe tbody tr th {\n",
       "        vertical-align: top;\n",
       "    }\n",
       "\n",
       "    .dataframe thead th {\n",
       "        text-align: right;\n",
       "    }\n",
       "</style>\n",
       "<table border=\"1\" class=\"dataframe\">\n",
       "  <thead>\n",
       "    <tr style=\"text-align: right;\">\n",
       "      <th></th>\n",
       "      <th>matr_aluno</th>\n",
       "      <th>idade</th>\n",
       "      <th>altura (cm)</th>\n",
       "      <th>sexo</th>\n",
       "      <th>peso (kg)</th>\n",
       "      <th>sono_h</th>\n",
       "      <th>exercicio_dias</th>\n",
       "      <th>exercicio_min</th>\n",
       "      <th>alimentacao</th>\n",
       "      <th>sedentario_h</th>\n",
       "      <th>agua_L</th>\n",
       "      <th>cafe_xic</th>\n",
       "      <th>refeicoes</th>\n",
       "      <th>polo</th>\n",
       "    </tr>\n",
       "  </thead>\n",
       "  <tbody>\n",
       "    <tr>\n",
       "      <th>0</th>\n",
       "      <td>20242510284</td>\n",
       "      <td>50.0</td>\n",
       "      <td>177.0</td>\n",
       "      <td>M</td>\n",
       "      <td>91.0</td>\n",
       "      <td>7.0</td>\n",
       "      <td>4.0</td>\n",
       "      <td>45.0</td>\n",
       "      <td>1.0</td>\n",
       "      <td>12.0</td>\n",
       "      <td>2.0</td>\n",
       "      <td>4.0</td>\n",
       "      <td>4.0</td>\n",
       "      <td>Vila Velha</td>\n",
       "    </tr>\n",
       "    <tr>\n",
       "      <th>5</th>\n",
       "      <td>20242510289</td>\n",
       "      <td>47.0</td>\n",
       "      <td>176.0</td>\n",
       "      <td>M</td>\n",
       "      <td>72.0</td>\n",
       "      <td>8.0</td>\n",
       "      <td>3.0</td>\n",
       "      <td>50.0</td>\n",
       "      <td>1.0</td>\n",
       "      <td>7.0</td>\n",
       "      <td>2.0</td>\n",
       "      <td>1.0</td>\n",
       "      <td>4.0</td>\n",
       "      <td>Cachoeiro de Itapemirim</td>\n",
       "    </tr>\n",
       "    <tr>\n",
       "      <th>6</th>\n",
       "      <td>20242510290</td>\n",
       "      <td>43.0</td>\n",
       "      <td>176.0</td>\n",
       "      <td>M</td>\n",
       "      <td>115.0</td>\n",
       "      <td>6.0</td>\n",
       "      <td>3.0</td>\n",
       "      <td>60.0</td>\n",
       "      <td>1.0</td>\n",
       "      <td>12.0</td>\n",
       "      <td>3.0</td>\n",
       "      <td>2.0</td>\n",
       "      <td>3.0</td>\n",
       "      <td>Viana</td>\n",
       "    </tr>\n",
       "    <tr>\n",
       "      <th>7</th>\n",
       "      <td>20242510291</td>\n",
       "      <td>39.0</td>\n",
       "      <td>175.0</td>\n",
       "      <td>M</td>\n",
       "      <td>112.0</td>\n",
       "      <td>7.0</td>\n",
       "      <td>2.0</td>\n",
       "      <td>50.0</td>\n",
       "      <td>1.0</td>\n",
       "      <td>12.0</td>\n",
       "      <td>2.0</td>\n",
       "      <td>4.0</td>\n",
       "      <td>4.0</td>\n",
       "      <td>Viana</td>\n",
       "    </tr>\n",
       "    <tr>\n",
       "      <th>8</th>\n",
       "      <td>20242510292</td>\n",
       "      <td>26.0</td>\n",
       "      <td>183.0</td>\n",
       "      <td>M</td>\n",
       "      <td>99.0</td>\n",
       "      <td>8.0</td>\n",
       "      <td>2.0</td>\n",
       "      <td>60.0</td>\n",
       "      <td>1.0</td>\n",
       "      <td>10.0</td>\n",
       "      <td>3.0</td>\n",
       "      <td>3.0</td>\n",
       "      <td>4.0</td>\n",
       "      <td>Vitória</td>\n",
       "    </tr>\n",
       "  </tbody>\n",
       "</table>\n",
       "</div>"
      ],
      "text/plain": [
       "    matr_aluno  idade  altura (cm) sexo  peso (kg)  sono_h  exercicio_dias  \\\n",
       "0  20242510284   50.0        177.0    M       91.0     7.0             4.0   \n",
       "5  20242510289   47.0        176.0    M       72.0     8.0             3.0   \n",
       "6  20242510290   43.0        176.0    M      115.0     6.0             3.0   \n",
       "7  20242510291   39.0        175.0    M      112.0     7.0             2.0   \n",
       "8  20242510292   26.0        183.0    M       99.0     8.0             2.0   \n",
       "\n",
       "   exercicio_min  alimentacao  sedentario_h  agua_L  cafe_xic  refeicoes  \\\n",
       "0           45.0          1.0          12.0     2.0       4.0        4.0   \n",
       "5           50.0          1.0           7.0     2.0       1.0        4.0   \n",
       "6           60.0          1.0          12.0     3.0       2.0        3.0   \n",
       "7           50.0          1.0          12.0     2.0       4.0        4.0   \n",
       "8           60.0          1.0          10.0     3.0       3.0        4.0   \n",
       "\n",
       "                      polo  \n",
       "0               Vila Velha  \n",
       "5  Cachoeiro de Itapemirim  \n",
       "6                    Viana  \n",
       "7                    Viana  \n",
       "8                  Vitória  "
      ]
     },
     "execution_count": 181,
     "metadata": {},
     "output_type": "execute_result"
    }
   ],
   "source": [
    "dataframe.head()"
   ]
  }
 ],
 "metadata": {
  "kernelspec": {
   "display_name": "Python 3",
   "language": "python",
   "name": "python3"
  },
  "language_info": {
   "codemirror_mode": {
    "name": "ipython",
    "version": 3
   },
   "file_extension": ".py",
   "mimetype": "text/x-python",
   "name": "python",
   "nbconvert_exporter": "python",
   "pygments_lexer": "ipython3",
   "version": "3.10.12"
  }
 },
 "nbformat": 4,
 "nbformat_minor": 5
}
