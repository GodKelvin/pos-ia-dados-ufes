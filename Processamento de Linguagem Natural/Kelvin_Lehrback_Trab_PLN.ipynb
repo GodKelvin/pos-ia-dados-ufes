{
 "cells": [
  {
   "cell_type": "markdown",
   "id": "74f42586",
   "metadata": {},
   "source": [
    "Disponível em: https://tatoeba.org/pt-br/downloads"
   ]
  },
  {
   "cell_type": "markdown",
   "id": "2034df5d",
   "metadata": {},
   "source": [
    "## Características do Dataset"
   ]
  },
  {
   "cell_type": "markdown",
   "id": "cff43b85",
   "metadata": {},
   "source": [
    "## Interpretando o dataset"
   ]
  },
  {
   "cell_type": "code",
   "execution_count": 126,
   "id": "dc6a4f93",
   "metadata": {},
   "outputs": [],
   "source": [
    "import pandas as pd\n",
    "dataframe = pd.read_csv(\"datasets/sentences_CC0.csv\", sep=\"\\t\", header=None, names=[\"id\", \"lang\", \"text\", \"created_at\"])"
   ]
  },
  {
   "cell_type": "code",
   "execution_count": 127,
   "id": "517e1299",
   "metadata": {},
   "outputs": [
    {
     "data": {
      "text/html": [
       "<div>\n",
       "<style scoped>\n",
       "    .dataframe tbody tr th:only-of-type {\n",
       "        vertical-align: middle;\n",
       "    }\n",
       "\n",
       "    .dataframe tbody tr th {\n",
       "        vertical-align: top;\n",
       "    }\n",
       "\n",
       "    .dataframe thead th {\n",
       "        text-align: right;\n",
       "    }\n",
       "</style>\n",
       "<table border=\"1\" class=\"dataframe\">\n",
       "  <thead>\n",
       "    <tr style=\"text-align: right;\">\n",
       "      <th></th>\n",
       "      <th>id</th>\n",
       "      <th>lang</th>\n",
       "      <th>text</th>\n",
       "      <th>created_at</th>\n",
       "    </tr>\n",
       "  </thead>\n",
       "  <tbody>\n",
       "    <tr>\n",
       "      <th>0</th>\n",
       "      <td>330998</td>\n",
       "      <td>eng</td>\n",
       "      <td>Children who spend more time outdoors have a l...</td>\n",
       "      <td>2019-01-12 19:39:42</td>\n",
       "    </tr>\n",
       "    <tr>\n",
       "      <th>1</th>\n",
       "      <td>331000</td>\n",
       "      <td>eng</td>\n",
       "      <td>The idea that reading makes you short-sighted ...</td>\n",
       "      <td>2019-01-12 19:39:42</td>\n",
       "    </tr>\n",
       "    <tr>\n",
       "      <th>2</th>\n",
       "      <td>331259</td>\n",
       "      <td>eng</td>\n",
       "      <td>Most people think computers will never be able...</td>\n",
       "      <td>2019-01-12 19:39:42</td>\n",
       "    </tr>\n",
       "    <tr>\n",
       "      <th>3</th>\n",
       "      <td>331708</td>\n",
       "      <td>fra</td>\n",
       "      <td>Je rajoute une phrase d'exemple.</td>\n",
       "      <td>2019-01-12 19:39:42</td>\n",
       "    </tr>\n",
       "    <tr>\n",
       "      <th>4</th>\n",
       "      <td>331955</td>\n",
       "      <td>fra</td>\n",
       "      <td>J'espère que je ne serai plus malade la semain...</td>\n",
       "      <td>2019-01-12 19:39:42</td>\n",
       "    </tr>\n",
       "  </tbody>\n",
       "</table>\n",
       "</div>"
      ],
      "text/plain": [
       "       id lang                                               text  \\\n",
       "0  330998  eng  Children who spend more time outdoors have a l...   \n",
       "1  331000  eng  The idea that reading makes you short-sighted ...   \n",
       "2  331259  eng  Most people think computers will never be able...   \n",
       "3  331708  fra                   Je rajoute une phrase d'exemple.   \n",
       "4  331955  fra  J'espère que je ne serai plus malade la semain...   \n",
       "\n",
       "            created_at  \n",
       "0  2019-01-12 19:39:42  \n",
       "1  2019-01-12 19:39:42  \n",
       "2  2019-01-12 19:39:42  \n",
       "3  2019-01-12 19:39:42  \n",
       "4  2019-01-12 19:39:42  "
      ]
     },
     "execution_count": 127,
     "metadata": {},
     "output_type": "execute_result"
    }
   ],
   "source": [
    "dataframe.head()"
   ]
  },
  {
   "cell_type": "code",
   "execution_count": 128,
   "id": "e6253f75",
   "metadata": {},
   "outputs": [
    {
     "name": "stdout",
     "output_type": "stream",
     "text": [
      "(556930, 4)\n"
     ]
    }
   ],
   "source": [
    "print(dataframe.shape)"
   ]
  },
  {
   "cell_type": "markdown",
   "id": "eecd83c3",
   "metadata": {},
   "source": [
    "### Transformação, tratamento e limpeza dos dados"
   ]
  },
  {
   "cell_type": "code",
   "execution_count": 129,
   "id": "09b5fb0a",
   "metadata": {},
   "outputs": [],
   "source": [
    "# As respectivas colunas não servem para nada nesse problema\n",
    "dataframe.drop(columns=[\"id\", \"created_at\"], inplace=True)"
   ]
  },
  {
   "cell_type": "code",
   "execution_count": 130,
   "id": "0bd3f81b",
   "metadata": {},
   "outputs": [
    {
     "data": {
      "text/html": [
       "<div>\n",
       "<style scoped>\n",
       "    .dataframe tbody tr th:only-of-type {\n",
       "        vertical-align: middle;\n",
       "    }\n",
       "\n",
       "    .dataframe tbody tr th {\n",
       "        vertical-align: top;\n",
       "    }\n",
       "\n",
       "    .dataframe thead th {\n",
       "        text-align: right;\n",
       "    }\n",
       "</style>\n",
       "<table border=\"1\" class=\"dataframe\">\n",
       "  <thead>\n",
       "    <tr style=\"text-align: right;\">\n",
       "      <th></th>\n",
       "      <th>lang</th>\n",
       "      <th>text</th>\n",
       "    </tr>\n",
       "  </thead>\n",
       "  <tbody>\n",
       "    <tr>\n",
       "      <th>0</th>\n",
       "      <td>eng</td>\n",
       "      <td>Children who spend more time outdoors have a l...</td>\n",
       "    </tr>\n",
       "    <tr>\n",
       "      <th>1</th>\n",
       "      <td>eng</td>\n",
       "      <td>The idea that reading makes you short-sighted ...</td>\n",
       "    </tr>\n",
       "    <tr>\n",
       "      <th>2</th>\n",
       "      <td>eng</td>\n",
       "      <td>Most people think computers will never be able...</td>\n",
       "    </tr>\n",
       "    <tr>\n",
       "      <th>3</th>\n",
       "      <td>fra</td>\n",
       "      <td>Je rajoute une phrase d'exemple.</td>\n",
       "    </tr>\n",
       "    <tr>\n",
       "      <th>4</th>\n",
       "      <td>fra</td>\n",
       "      <td>J'espère que je ne serai plus malade la semain...</td>\n",
       "    </tr>\n",
       "  </tbody>\n",
       "</table>\n",
       "</div>"
      ],
      "text/plain": [
       "  lang                                               text\n",
       "0  eng  Children who spend more time outdoors have a l...\n",
       "1  eng  The idea that reading makes you short-sighted ...\n",
       "2  eng  Most people think computers will never be able...\n",
       "3  fra                   Je rajoute une phrase d'exemple.\n",
       "4  fra  J'espère que je ne serai plus malade la semain..."
      ]
     },
     "execution_count": 130,
     "metadata": {},
     "output_type": "execute_result"
    }
   ],
   "source": [
    "dataframe.head()"
   ]
  },
  {
   "cell_type": "markdown",
   "id": "daa3d620",
   "metadata": {},
   "source": [
    "### Vamos ver agora a proporção de cada idioma"
   ]
  },
  {
   "cell_type": "code",
   "execution_count": 131,
   "id": "662924f0",
   "metadata": {},
   "outputs": [
    {
     "name": "stdout",
     "output_type": "stream",
     "text": [
      "lang\n",
      "kab    67.017938\n",
      "ber    16.537626\n",
      "eng     7.445999\n",
      "rus     3.948611\n",
      "fra     2.538200\n",
      "         ...    \n",
      "zgh     0.000180\n",
      "cmn     0.000180\n",
      "hoc     0.000180\n",
      "non     0.000180\n",
      "ile     0.000180\n",
      "Name: proportion, Length: 62, dtype: float64\n"
     ]
    }
   ],
   "source": [
    "print(dataframe[\"lang\"].value_counts(normalize=True) * 100)"
   ]
  },
  {
   "cell_type": "code",
   "execution_count": 132,
   "id": "efc1024b",
   "metadata": {},
   "outputs": [
    {
     "name": "stdout",
     "output_type": "stream",
     "text": [
      "lang\n",
      "kab    67.017938\n",
      "ber    16.537626\n",
      "eng     7.445999\n",
      "rus     3.948611\n",
      "fra     2.538200\n",
      "ben     1.284003\n",
      "bel     0.346363\n",
      "fin     0.277055\n",
      "Name: proportion, dtype: float64\n"
     ]
    }
   ],
   "source": [
    "# Frequência percentual de cada idioma\n",
    "lang_freq = dataframe[\"lang\"].value_counts(normalize=True) * 100\n",
    "\n",
    "# Filtra apenas os idiomas com mais de 1%\n",
    "langs_over_2 = lang_freq[lang_freq > 0.25]\n",
    "\n",
    "print(langs_over_2)\n"
   ]
  },
  {
   "cell_type": "markdown",
   "id": "695a0647",
   "metadata": {},
   "source": [
    "## Kabyle e Berber estão desproporcionando o dataset\n",
    "Kabyle: Idioma falado principalmente na Argélia.\n",
    "\n",
    "Berber: Idioma falado no norte da África (Marrocos, Argélia, Tunísia, Líbia)\n",
    "\n",
    "\n",
    "### Decisão\n",
    "Ao invés de apagar os dados, vou simplesmente rebalancear-los!\n",
    "\n",
    "Levando em conta que 67% de 550 mil é 368 mil registros e 2% de 550 mil é 11 mil, vamos ajustar para a proporção mínima acima de 1% indicado no percentual acima.\n"
   ]
  },
  {
   "cell_type": "code",
   "execution_count": 133,
   "id": "51d19af6",
   "metadata": {},
   "outputs": [
    {
     "name": "stdout",
     "output_type": "stream",
     "text": [
      "lang\n",
      "eng    41469\n",
      "rus    21991\n",
      "fra    14136\n",
      "kab    11000\n",
      "ber    10000\n",
      "       ...  \n",
      "non        1\n",
      "yue        1\n",
      "lad        1\n",
      "nys        1\n",
      "jpa        1\n",
      "Name: count, Length: 62, dtype: int64\n"
     ]
    }
   ],
   "source": [
    "kab_ber = dataframe[dataframe[\"lang\"].isin([\"kab\", \"ber\"])]\n",
    "\n",
    "# Pega a quantidade de amostrar para cada classe\n",
    "amostras_kab = kab_ber[kab_ber[\"lang\"] == \"kab\"].sample(n=11000, random_state=42)\n",
    "amostras_ber = kab_ber[kab_ber[\"lang\"] == \"ber\"].sample(n=10000, random_state=42)\n",
    "\n",
    "# Separar o restante do dataset (não kab/ber)\n",
    "rest = dataframe[~dataframe[\"lang\"].isin([\"kab\", \"ber\"])]\n",
    "\n",
    "# Concatenar tudo de volta\n",
    "dataframe = pd.concat([rest, amostras_kab, amostras_ber])\n",
    "\n",
    "# Embaralhar o dataframe\n",
    "dataframe = dataframe.sample(frac=1, random_state=42).reset_index(drop=True)\n",
    "\n",
    "# Conferir distribuição final\n",
    "print(dataframe[\"lang\"].value_counts())\n"
   ]
  },
  {
   "cell_type": "code",
   "execution_count": 134,
   "id": "a42756a3",
   "metadata": {},
   "outputs": [
    {
     "name": "stdout",
     "output_type": "stream",
     "text": [
      "lang\n",
      "eng    36.833831\n",
      "rus    19.532971\n",
      "fra    12.555958\n",
      "kab     9.770482\n",
      "ber     8.882257\n",
      "ben     6.351702\n",
      "bel     1.713387\n",
      "fin     1.370532\n",
      "Name: proportion, dtype: float64\n"
     ]
    }
   ],
   "source": [
    "# Frequência percentual de cada idioma\n",
    "lang_freq = dataframe[\"lang\"].value_counts(normalize=True) * 100\n",
    "\n",
    "# Filtra apenas os idiomas com mais de 1%\n",
    "langs_over_2 = lang_freq[lang_freq > 1]\n",
    "\n",
    "print(langs_over_2)"
   ]
  },
  {
   "cell_type": "code",
   "execution_count": 135,
   "id": "a64bb771",
   "metadata": {},
   "outputs": [
    {
     "data": {
      "text/plain": [
       "(112584, 2)"
      ]
     },
     "execution_count": 135,
     "metadata": {},
     "output_type": "execute_result"
    }
   ],
   "source": [
    "dataframe.shape"
   ]
  },
  {
   "cell_type": "markdown",
   "id": "14defc1e",
   "metadata": {},
   "source": [
    "# 0.5% == cerca de 4579 registros.\n",
    "\n",
    "Feito essa limpeza de idiomas, vamos limpar as colunas irrelevantes: ID e created_at."
   ]
  }
 ],
 "metadata": {
  "kernelspec": {
   "display_name": "Python 3",
   "language": "python",
   "name": "python3"
  },
  "language_info": {
   "codemirror_mode": {
    "name": "ipython",
    "version": 3
   },
   "file_extension": ".py",
   "mimetype": "text/x-python",
   "name": "python",
   "nbconvert_exporter": "python",
   "pygments_lexer": "ipython3",
   "version": "3.10.12"
  }
 },
 "nbformat": 4,
 "nbformat_minor": 5
}
