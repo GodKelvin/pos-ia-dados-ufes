{
 "cells": [
  {
   "cell_type": "markdown",
   "id": "74f42586",
   "metadata": {},
   "source": [
    "# Detecção de idiomas!\n",
    "\n",
    "O dataset escolhido para este trabalho contém frases em vários idiomas.\n",
    "\n",
    "Disponível em: https://tatoeba.org/pt-br/downloads\n",
    "\n",
    "O objetivo é classificar qual o idioma da respectiva frase!"
   ]
  },
  {
   "cell_type": "markdown",
   "id": "2034df5d",
   "metadata": {},
   "source": [
    "## Características do Dataset\n",
    "\n",
    "- ID: Identificador da frase\n",
    "\n",
    "- lang: Idioma da frase\n",
    "\n",
    "- text: A frase em si.\n",
    "\n",
    "- created_at: Data de criação da frase (de acordo com o site de download, o dataset é atualizado todos os sábados às 6:30 UTC )\n",
    "\n",
    "No momento, o mesmo possui 556930 registros."
   ]
  },
  {
   "cell_type": "markdown",
   "id": "cff43b85",
   "metadata": {},
   "source": [
    "## Interpretando o dataset"
   ]
  },
  {
   "cell_type": "code",
   "execution_count": 1,
   "id": "dc6a4f93",
   "metadata": {},
   "outputs": [],
   "source": [
    "import pandas as pd\n",
    "dataframe = pd.read_csv(\"datasets/sentences_CC0.csv\", sep=\"\\t\", header=None, names=[\"id\", \"lang\", \"text\", \"created_at\"])"
   ]
  },
  {
   "cell_type": "code",
   "execution_count": 2,
   "id": "517e1299",
   "metadata": {},
   "outputs": [
    {
     "data": {
      "text/html": [
       "<div>\n",
       "<style scoped>\n",
       "    .dataframe tbody tr th:only-of-type {\n",
       "        vertical-align: middle;\n",
       "    }\n",
       "\n",
       "    .dataframe tbody tr th {\n",
       "        vertical-align: top;\n",
       "    }\n",
       "\n",
       "    .dataframe thead th {\n",
       "        text-align: right;\n",
       "    }\n",
       "</style>\n",
       "<table border=\"1\" class=\"dataframe\">\n",
       "  <thead>\n",
       "    <tr style=\"text-align: right;\">\n",
       "      <th></th>\n",
       "      <th>id</th>\n",
       "      <th>lang</th>\n",
       "      <th>text</th>\n",
       "      <th>created_at</th>\n",
       "    </tr>\n",
       "  </thead>\n",
       "  <tbody>\n",
       "    <tr>\n",
       "      <th>0</th>\n",
       "      <td>330998</td>\n",
       "      <td>eng</td>\n",
       "      <td>Children who spend more time outdoors have a l...</td>\n",
       "      <td>2019-01-12 19:39:42</td>\n",
       "    </tr>\n",
       "    <tr>\n",
       "      <th>1</th>\n",
       "      <td>331000</td>\n",
       "      <td>eng</td>\n",
       "      <td>The idea that reading makes you short-sighted ...</td>\n",
       "      <td>2019-01-12 19:39:42</td>\n",
       "    </tr>\n",
       "    <tr>\n",
       "      <th>2</th>\n",
       "      <td>331259</td>\n",
       "      <td>eng</td>\n",
       "      <td>Most people think computers will never be able...</td>\n",
       "      <td>2019-01-12 19:39:42</td>\n",
       "    </tr>\n",
       "    <tr>\n",
       "      <th>3</th>\n",
       "      <td>331708</td>\n",
       "      <td>fra</td>\n",
       "      <td>Je rajoute une phrase d'exemple.</td>\n",
       "      <td>2019-01-12 19:39:42</td>\n",
       "    </tr>\n",
       "    <tr>\n",
       "      <th>4</th>\n",
       "      <td>331955</td>\n",
       "      <td>fra</td>\n",
       "      <td>J'espère que je ne serai plus malade la semain...</td>\n",
       "      <td>2019-01-12 19:39:42</td>\n",
       "    </tr>\n",
       "  </tbody>\n",
       "</table>\n",
       "</div>"
      ],
      "text/plain": [
       "       id lang                                               text  \\\n",
       "0  330998  eng  Children who spend more time outdoors have a l...   \n",
       "1  331000  eng  The idea that reading makes you short-sighted ...   \n",
       "2  331259  eng  Most people think computers will never be able...   \n",
       "3  331708  fra                   Je rajoute une phrase d'exemple.   \n",
       "4  331955  fra  J'espère que je ne serai plus malade la semain...   \n",
       "\n",
       "            created_at  \n",
       "0  2019-01-12 19:39:42  \n",
       "1  2019-01-12 19:39:42  \n",
       "2  2019-01-12 19:39:42  \n",
       "3  2019-01-12 19:39:42  \n",
       "4  2019-01-12 19:39:42  "
      ]
     },
     "execution_count": 2,
     "metadata": {},
     "output_type": "execute_result"
    }
   ],
   "source": [
    "dataframe.head()"
   ]
  },
  {
   "cell_type": "code",
   "execution_count": 3,
   "id": "e6253f75",
   "metadata": {},
   "outputs": [
    {
     "name": "stdout",
     "output_type": "stream",
     "text": [
      "(556930, 4)\n"
     ]
    }
   ],
   "source": [
    "print(dataframe.shape)"
   ]
  },
  {
   "cell_type": "markdown",
   "id": "eecd83c3",
   "metadata": {},
   "source": [
    "### Transformação, tratamento e limpeza dos dados"
   ]
  },
  {
   "cell_type": "code",
   "execution_count": 4,
   "id": "09b5fb0a",
   "metadata": {},
   "outputs": [],
   "source": [
    "# As respectivas colunas não servem para nada nesse problema\n",
    "dataframe.drop(columns=[\"id\", \"created_at\"], inplace=True)"
   ]
  },
  {
   "cell_type": "code",
   "execution_count": 5,
   "id": "0bd3f81b",
   "metadata": {},
   "outputs": [
    {
     "data": {
      "text/html": [
       "<div>\n",
       "<style scoped>\n",
       "    .dataframe tbody tr th:only-of-type {\n",
       "        vertical-align: middle;\n",
       "    }\n",
       "\n",
       "    .dataframe tbody tr th {\n",
       "        vertical-align: top;\n",
       "    }\n",
       "\n",
       "    .dataframe thead th {\n",
       "        text-align: right;\n",
       "    }\n",
       "</style>\n",
       "<table border=\"1\" class=\"dataframe\">\n",
       "  <thead>\n",
       "    <tr style=\"text-align: right;\">\n",
       "      <th></th>\n",
       "      <th>lang</th>\n",
       "      <th>text</th>\n",
       "    </tr>\n",
       "  </thead>\n",
       "  <tbody>\n",
       "    <tr>\n",
       "      <th>0</th>\n",
       "      <td>eng</td>\n",
       "      <td>Children who spend more time outdoors have a l...</td>\n",
       "    </tr>\n",
       "    <tr>\n",
       "      <th>1</th>\n",
       "      <td>eng</td>\n",
       "      <td>The idea that reading makes you short-sighted ...</td>\n",
       "    </tr>\n",
       "    <tr>\n",
       "      <th>2</th>\n",
       "      <td>eng</td>\n",
       "      <td>Most people think computers will never be able...</td>\n",
       "    </tr>\n",
       "    <tr>\n",
       "      <th>3</th>\n",
       "      <td>fra</td>\n",
       "      <td>Je rajoute une phrase d'exemple.</td>\n",
       "    </tr>\n",
       "    <tr>\n",
       "      <th>4</th>\n",
       "      <td>fra</td>\n",
       "      <td>J'espère que je ne serai plus malade la semain...</td>\n",
       "    </tr>\n",
       "  </tbody>\n",
       "</table>\n",
       "</div>"
      ],
      "text/plain": [
       "  lang                                               text\n",
       "0  eng  Children who spend more time outdoors have a l...\n",
       "1  eng  The idea that reading makes you short-sighted ...\n",
       "2  eng  Most people think computers will never be able...\n",
       "3  fra                   Je rajoute une phrase d'exemple.\n",
       "4  fra  J'espère que je ne serai plus malade la semain..."
      ]
     },
     "execution_count": 5,
     "metadata": {},
     "output_type": "execute_result"
    }
   ],
   "source": [
    "dataframe.head()"
   ]
  },
  {
   "cell_type": "markdown",
   "id": "daa3d620",
   "metadata": {},
   "source": [
    "### Vamos ver agora a proporção de cada idioma"
   ]
  },
  {
   "cell_type": "code",
   "execution_count": 6,
   "id": "662924f0",
   "metadata": {},
   "outputs": [
    {
     "name": "stdout",
     "output_type": "stream",
     "text": [
      "lang\n",
      "kab    67.017938\n",
      "ber    16.537626\n",
      "eng     7.445999\n",
      "rus     3.948611\n",
      "fra     2.538200\n",
      "         ...    \n",
      "zgh     0.000180\n",
      "cmn     0.000180\n",
      "hoc     0.000180\n",
      "non     0.000180\n",
      "ile     0.000180\n",
      "Name: proportion, Length: 62, dtype: float64\n"
     ]
    }
   ],
   "source": [
    "print(dataframe[\"lang\"].value_counts(normalize=True) * 100)"
   ]
  },
  {
   "cell_type": "markdown",
   "id": "699e09d2",
   "metadata": {},
   "source": [
    "#### Apenas filtrando aqueles com mais de X%"
   ]
  },
  {
   "cell_type": "code",
   "execution_count": 7,
   "id": "efc1024b",
   "metadata": {},
   "outputs": [
    {
     "name": "stdout",
     "output_type": "stream",
     "text": [
      "lang\n",
      "kab    67.017938\n",
      "ber    16.537626\n",
      "eng     7.445999\n",
      "rus     3.948611\n",
      "fra     2.538200\n",
      "ben     1.284003\n",
      "bel     0.346363\n",
      "fin     0.277055\n",
      "Name: proportion, dtype: float64\n"
     ]
    }
   ],
   "source": [
    "# Frequência percentual de cada idioma\n",
    "lang_freq = dataframe[\"lang\"].value_counts(normalize=True) * 100\n",
    "\n",
    "# Filtra apenas os idiomas com mais de X%\n",
    "langs_over_2 = lang_freq[lang_freq > 0.25]\n",
    "\n",
    "print(langs_over_2)\n"
   ]
  },
  {
   "cell_type": "markdown",
   "id": "695a0647",
   "metadata": {},
   "source": [
    "## Kabyle e Berber estão desproporcionando o dataset\n",
    "Kabyle: Idioma falado principalmente na Argélia.\n",
    "\n",
    "Berber: Idioma falado no norte da África (Marrocos, Argélia, Tunísia, Líbia)\n",
    "\n",
    "\n",
    "### Decisão\n",
    "1 - Escolher apenas os principais idiomas do dataset (kab, ber, eng, rus, fra, ben).\n",
    "\n",
    "2 - Ao invés de apagar os dados, vou simplesmente rebalancear-los!\n",
    "\n",
    "Vamos balancear os dados a partir dos números do idioma francês, ou seja, cerca de 14 mil dados para cada idioma, além disso, vamos incluir também o idioma Bengali inteiro (idioma falado em Bangladesh e Índia).\n",
    "\n",
    "#### Ou seja, Undersampling!\n"
   ]
  },
  {
   "cell_type": "code",
   "execution_count": 8,
   "id": "51d19af6",
   "metadata": {},
   "outputs": [],
   "source": [
    "n_amostras = 14000\n",
    "amostras = []\n",
    "idiomas = [\"kab\", \"ber\", \"eng\", \"rus\", \"fra\"]\n",
    "\n",
    "##Decidir pegar também o idioma \"ben\" com 7100 registros\n",
    "amostras_idioma = dataframe[dataframe[\"lang\"] == \"ben\"]\n",
    "amostras.append(amostras_idioma.sample(n=7100, random_state=42))\n",
    "\n",
    "for lang in idiomas:\n",
    "  amostras_idioma = dataframe[dataframe[\"lang\"] == lang]\n",
    "  amostras.append(amostras_idioma.sample(n=n_amostras, random_state=42))\n",
    "\n",
    "dataframe = pd.concat(amostras)\n",
    "dataframe = dataframe.sample(frac=1, random_state=42).reset_index(drop=True)\n",
    "\n"
   ]
  },
  {
   "cell_type": "markdown",
   "id": "283374cb",
   "metadata": {},
   "source": [
    "### Ficamos então com a seguinte proporção!"
   ]
  },
  {
   "cell_type": "code",
   "execution_count": 9,
   "id": "0bc5017e",
   "metadata": {},
   "outputs": [
    {
     "name": "stdout",
     "output_type": "stream",
     "text": [
      "(77100, 2)\n",
      "--\n",
      "lang\n",
      "kab    14000\n",
      "ber    14000\n",
      "eng    14000\n",
      "rus    14000\n",
      "fra    14000\n",
      "ben     7100\n",
      "Name: count, dtype: int64\n",
      "--\n",
      "lang\n",
      "kab    18.158236\n",
      "ber    18.158236\n",
      "eng    18.158236\n",
      "rus    18.158236\n",
      "fra    18.158236\n",
      "ben     9.208820\n",
      "Name: proportion, dtype: float64\n"
     ]
    }
   ],
   "source": [
    "print(f\"{dataframe.shape}\\n--\")\n",
    "print(f\"{dataframe['lang'].value_counts()}\\n--\")\n",
    "lang_freq = dataframe[\"lang\"].value_counts(normalize=True) * 100\n",
    "\n",
    "print(lang_freq)"
   ]
  },
  {
   "cell_type": "code",
   "execution_count": 10,
   "id": "13fae500",
   "metadata": {},
   "outputs": [
    {
     "data": {
      "text/html": [
       "<div>\n",
       "<style scoped>\n",
       "    .dataframe tbody tr th:only-of-type {\n",
       "        vertical-align: middle;\n",
       "    }\n",
       "\n",
       "    .dataframe tbody tr th {\n",
       "        vertical-align: top;\n",
       "    }\n",
       "\n",
       "    .dataframe thead th {\n",
       "        text-align: right;\n",
       "    }\n",
       "</style>\n",
       "<table border=\"1\" class=\"dataframe\">\n",
       "  <thead>\n",
       "    <tr style=\"text-align: right;\">\n",
       "      <th></th>\n",
       "      <th>lang</th>\n",
       "      <th>text</th>\n",
       "    </tr>\n",
       "  </thead>\n",
       "  <tbody>\n",
       "    <tr>\n",
       "      <th>0</th>\n",
       "      <td>kab</td>\n",
       "      <td>Yettawi yid-s tiqwijt d ṭṭbel.</td>\n",
       "    </tr>\n",
       "    <tr>\n",
       "      <th>1</th>\n",
       "      <td>ber</td>\n",
       "      <td>Taɛekkemt n wurfan nettbbaba, ẓẓayet.</td>\n",
       "    </tr>\n",
       "    <tr>\n",
       "      <th>2</th>\n",
       "      <td>ben</td>\n",
       "      <td>চীন অত্যন্ত সাফল্যের সঙ্গে কোভিড প্রতিরোধ ও নি...</td>\n",
       "    </tr>\n",
       "    <tr>\n",
       "      <th>3</th>\n",
       "      <td>ber</td>\n",
       "      <td>Ifassen-nwent d ilmawen.</td>\n",
       "    </tr>\n",
       "    <tr>\n",
       "      <th>4</th>\n",
       "      <td>eng</td>\n",
       "      <td>She knows the city better than anyone.</td>\n",
       "    </tr>\n",
       "    <tr>\n",
       "      <th>5</th>\n",
       "      <td>rus</td>\n",
       "      <td>У тебя совести нет.</td>\n",
       "    </tr>\n",
       "    <tr>\n",
       "      <th>6</th>\n",
       "      <td>rus</td>\n",
       "      <td>Том – хороший игрок в шахматы.</td>\n",
       "    </tr>\n",
       "    <tr>\n",
       "      <th>7</th>\n",
       "      <td>fra</td>\n",
       "      <td>L'Algérie a peur du Maroc qui s'améliore de jo...</td>\n",
       "    </tr>\n",
       "    <tr>\n",
       "      <th>8</th>\n",
       "      <td>kab</td>\n",
       "      <td>Ur iɣawel ara ɣer Semɛun.</td>\n",
       "    </tr>\n",
       "    <tr>\n",
       "      <th>9</th>\n",
       "      <td>ben</td>\n",
       "      <td>কোন স্থানে নির্দিষ্ট আয়তনের বায়ুতে উপস্থিত জ...</td>\n",
       "    </tr>\n",
       "    <tr>\n",
       "      <th>10</th>\n",
       "      <td>fra</td>\n",
       "      <td>J’ai lu un article sur l’impact des médias soc...</td>\n",
       "    </tr>\n",
       "    <tr>\n",
       "      <th>11</th>\n",
       "      <td>ber</td>\n",
       "      <td>Acḥal d abrid i as-d-yecmummeḥ akken ad as-yeh...</td>\n",
       "    </tr>\n",
       "    <tr>\n",
       "      <th>12</th>\n",
       "      <td>fra</td>\n",
       "      <td>Le professeur agrège les données pour son étude.</td>\n",
       "    </tr>\n",
       "    <tr>\n",
       "      <th>13</th>\n",
       "      <td>rus</td>\n",
       "      <td>Ты такой один.</td>\n",
       "    </tr>\n",
       "    <tr>\n",
       "      <th>14</th>\n",
       "      <td>ber</td>\n",
       "      <td>Nudan ɣef yiwen n wawal deg usegzawal, ur t-uf...</td>\n",
       "    </tr>\n",
       "    <tr>\n",
       "      <th>15</th>\n",
       "      <td>rus</td>\n",
       "      <td>Добавьте пояснение.</td>\n",
       "    </tr>\n",
       "    <tr>\n",
       "      <th>16</th>\n",
       "      <td>kab</td>\n",
       "      <td>Ad imerreḥ ɣer Tezmalt.</td>\n",
       "    </tr>\n",
       "    <tr>\n",
       "      <th>17</th>\n",
       "      <td>ben</td>\n",
       "      <td>সাধারণভাবে বলা যায়, জনসংখ্যা সম্পর্কিত আলোচনা...</td>\n",
       "    </tr>\n",
       "    <tr>\n",
       "      <th>18</th>\n",
       "      <td>kab</td>\n",
       "      <td>Tɣabeḍ ɣer Xerrata.</td>\n",
       "    </tr>\n",
       "    <tr>\n",
       "      <th>19</th>\n",
       "      <td>kab</td>\n",
       "      <td>Ismawen yessemẓiyen, nutni ẓiyen ɣezzifit, ha-...</td>\n",
       "    </tr>\n",
       "  </tbody>\n",
       "</table>\n",
       "</div>"
      ],
      "text/plain": [
       "   lang                                               text\n",
       "0   kab                     Yettawi yid-s tiqwijt d ṭṭbel.\n",
       "1   ber              Taɛekkemt n wurfan nettbbaba, ẓẓayet.\n",
       "2   ben  চীন অত্যন্ত সাফল্যের সঙ্গে কোভিড প্রতিরোধ ও নি...\n",
       "3   ber                           Ifassen-nwent d ilmawen.\n",
       "4   eng             She knows the city better than anyone.\n",
       "5   rus                                У тебя совести нет.\n",
       "6   rus                     Том – хороший игрок в шахматы.\n",
       "7   fra  L'Algérie a peur du Maroc qui s'améliore de jo...\n",
       "8   kab                          Ur iɣawel ara ɣer Semɛun.\n",
       "9   ben  কোন স্থানে নির্দিষ্ট আয়তনের বায়ুতে উপস্থিত জ...\n",
       "10  fra  J’ai lu un article sur l’impact des médias soc...\n",
       "11  ber  Acḥal d abrid i as-d-yecmummeḥ akken ad as-yeh...\n",
       "12  fra   Le professeur agrège les données pour son étude.\n",
       "13  rus                                     Ты такой один.\n",
       "14  ber  Nudan ɣef yiwen n wawal deg usegzawal, ur t-uf...\n",
       "15  rus                                Добавьте пояснение.\n",
       "16  kab                            Ad imerreḥ ɣer Tezmalt.\n",
       "17  ben  সাধারণভাবে বলা যায়, জনসংখ্যা সম্পর্কিত আলোচনা...\n",
       "18  kab                                Tɣabeḍ ɣer Xerrata.\n",
       "19  kab  Ismawen yessemẓiyen, nutni ẓiyen ɣezzifit, ha-..."
      ]
     },
     "execution_count": 10,
     "metadata": {},
     "output_type": "execute_result"
    }
   ],
   "source": [
    "dataframe.head(20)"
   ]
  },
  {
   "cell_type": "markdown",
   "id": "f15fe4ad",
   "metadata": {},
   "source": [
    "## Tamanho das frases\n",
    "\n",
    "Agora com o dataset balanceado, vamos ver o tamanho mínimo, máximo e médio de cada frase.\n",
    "\n",
    "## LEMBRANDO QUE\n",
    "\n",
    "Como foi pego amostras aleatórias, os resultados a seguir podem variar um pouco a cada iteração do notebook."
   ]
  },
  {
   "cell_type": "markdown",
   "id": "913fcff2",
   "metadata": {},
   "source": [
    "#### Quantidade de caracteres"
   ]
  },
  {
   "cell_type": "code",
   "execution_count": 11,
   "id": "ce77c92c",
   "metadata": {},
   "outputs": [
    {
     "name": "stdout",
     "output_type": "stream",
     "text": [
      "Mínimo: 3\n",
      "Médio: 53.045525291828795\n",
      "Máximo: 1019\n"
     ]
    }
   ],
   "source": [
    "comprimentos = dataframe[\"text\"].str.len() \n",
    "print(\"Mínimo:\", comprimentos.min())\n",
    "print(\"Médio:\", comprimentos.mean())\n",
    "print(\"Máximo:\", comprimentos.max())\n"
   ]
  },
  {
   "cell_type": "markdown",
   "id": "deb51e8a",
   "metadata": {},
   "source": [
    "### Quantidade de palavras"
   ]
  },
  {
   "cell_type": "code",
   "execution_count": 12,
   "id": "75f37318",
   "metadata": {},
   "outputs": [
    {
     "name": "stdout",
     "output_type": "stream",
     "text": [
      "Mínimo: 1\n",
      "Médio: 8.637081712062256\n",
      "Máximo: 197\n"
     ]
    }
   ],
   "source": [
    "comprimentos = dataframe[\"text\"].str.split().str.len()\n",
    "print(\"Mínimo:\", comprimentos.min())\n",
    "print(\"Médio:\", comprimentos.mean())\n",
    "print(\"Máximo:\", comprimentos.max())\n"
   ]
  },
  {
   "cell_type": "markdown",
   "id": "b1afccf4",
   "metadata": {},
   "source": [
    "### Pré-Processamento\n",
    "\n",
    "Dado que os algarismos dos idiomas podem variar, vamos apenas remover os números e converter tudo para minúsculo.\n"
   ]
  },
  {
   "cell_type": "code",
   "execution_count": 7,
   "id": "1fd217b1",
   "metadata": {},
   "outputs": [],
   "source": [
    "import re\n",
    "def preprocessing(text):\n",
    "  new_text = re.sub(r'[0-9.,?!]', ' ', text)\n",
    "  new_text = new_text.lower()\n",
    "\n",
    "  # Convertendo as palavras para uma lista\n",
    "  return new_text.split()"
   ]
  },
  {
   "cell_type": "code",
   "execution_count": 14,
   "id": "6cefcc05",
   "metadata": {},
   "outputs": [
    {
     "data": {
      "text/html": [
       "<div>\n",
       "<style scoped>\n",
       "    .dataframe tbody tr th:only-of-type {\n",
       "        vertical-align: middle;\n",
       "    }\n",
       "\n",
       "    .dataframe tbody tr th {\n",
       "        vertical-align: top;\n",
       "    }\n",
       "\n",
       "    .dataframe thead th {\n",
       "        text-align: right;\n",
       "    }\n",
       "</style>\n",
       "<table border=\"1\" class=\"dataframe\">\n",
       "  <thead>\n",
       "    <tr style=\"text-align: right;\">\n",
       "      <th></th>\n",
       "      <th>lang</th>\n",
       "      <th>text</th>\n",
       "    </tr>\n",
       "  </thead>\n",
       "  <tbody>\n",
       "    <tr>\n",
       "      <th>0</th>\n",
       "      <td>kab</td>\n",
       "      <td>Yettawi yid-s tiqwijt d ṭṭbel.</td>\n",
       "    </tr>\n",
       "    <tr>\n",
       "      <th>1</th>\n",
       "      <td>ber</td>\n",
       "      <td>Taɛekkemt n wurfan nettbbaba, ẓẓayet.</td>\n",
       "    </tr>\n",
       "    <tr>\n",
       "      <th>2</th>\n",
       "      <td>ben</td>\n",
       "      <td>চীন অত্যন্ত সাফল্যের সঙ্গে কোভিড প্রতিরোধ ও নি...</td>\n",
       "    </tr>\n",
       "    <tr>\n",
       "      <th>3</th>\n",
       "      <td>ber</td>\n",
       "      <td>Ifassen-nwent d ilmawen.</td>\n",
       "    </tr>\n",
       "    <tr>\n",
       "      <th>4</th>\n",
       "      <td>eng</td>\n",
       "      <td>She knows the city better than anyone.</td>\n",
       "    </tr>\n",
       "  </tbody>\n",
       "</table>\n",
       "</div>"
      ],
      "text/plain": [
       "  lang                                               text\n",
       "0  kab                     Yettawi yid-s tiqwijt d ṭṭbel.\n",
       "1  ber              Taɛekkemt n wurfan nettbbaba, ẓẓayet.\n",
       "2  ben  চীন অত্যন্ত সাফল্যের সঙ্গে কোভিড প্রতিরোধ ও নি...\n",
       "3  ber                           Ifassen-nwent d ilmawen.\n",
       "4  eng             She knows the city better than anyone."
      ]
     },
     "execution_count": 14,
     "metadata": {},
     "output_type": "execute_result"
    }
   ],
   "source": [
    "dataframe.head()"
   ]
  },
  {
   "cell_type": "code",
   "execution_count": 15,
   "id": "0376a9be",
   "metadata": {},
   "outputs": [],
   "source": [
    "# Agora cada frase tem uma lista de palavras\n",
    "dataframe[\"words\"] = dataframe[\"text\"].apply(preprocessing)"
   ]
  },
  {
   "cell_type": "code",
   "execution_count": 16,
   "id": "1993a40d",
   "metadata": {},
   "outputs": [
    {
     "data": {
      "text/html": [
       "<div>\n",
       "<style scoped>\n",
       "    .dataframe tbody tr th:only-of-type {\n",
       "        vertical-align: middle;\n",
       "    }\n",
       "\n",
       "    .dataframe tbody tr th {\n",
       "        vertical-align: top;\n",
       "    }\n",
       "\n",
       "    .dataframe thead th {\n",
       "        text-align: right;\n",
       "    }\n",
       "</style>\n",
       "<table border=\"1\" class=\"dataframe\">\n",
       "  <thead>\n",
       "    <tr style=\"text-align: right;\">\n",
       "      <th></th>\n",
       "      <th>lang</th>\n",
       "      <th>text</th>\n",
       "      <th>words</th>\n",
       "    </tr>\n",
       "  </thead>\n",
       "  <tbody>\n",
       "    <tr>\n",
       "      <th>0</th>\n",
       "      <td>kab</td>\n",
       "      <td>Yettawi yid-s tiqwijt d ṭṭbel.</td>\n",
       "      <td>[yettawi, yid-s, tiqwijt, d, ṭṭbel]</td>\n",
       "    </tr>\n",
       "    <tr>\n",
       "      <th>1</th>\n",
       "      <td>ber</td>\n",
       "      <td>Taɛekkemt n wurfan nettbbaba, ẓẓayet.</td>\n",
       "      <td>[taɛekkemt, n, wurfan, nettbbaba, ẓẓayet]</td>\n",
       "    </tr>\n",
       "    <tr>\n",
       "      <th>2</th>\n",
       "      <td>ben</td>\n",
       "      <td>চীন অত্যন্ত সাফল্যের সঙ্গে কোভিড প্রতিরোধ ও নি...</td>\n",
       "      <td>[চীন, অত্যন্ত, সাফল্যের, সঙ্গে, কোভিড, প্রতিরো...</td>\n",
       "    </tr>\n",
       "    <tr>\n",
       "      <th>3</th>\n",
       "      <td>ber</td>\n",
       "      <td>Ifassen-nwent d ilmawen.</td>\n",
       "      <td>[ifassen-nwent, d, ilmawen]</td>\n",
       "    </tr>\n",
       "    <tr>\n",
       "      <th>4</th>\n",
       "      <td>eng</td>\n",
       "      <td>She knows the city better than anyone.</td>\n",
       "      <td>[she, knows, the, city, better, than, anyone]</td>\n",
       "    </tr>\n",
       "  </tbody>\n",
       "</table>\n",
       "</div>"
      ],
      "text/plain": [
       "  lang                                               text  \\\n",
       "0  kab                     Yettawi yid-s tiqwijt d ṭṭbel.   \n",
       "1  ber              Taɛekkemt n wurfan nettbbaba, ẓẓayet.   \n",
       "2  ben  চীন অত্যন্ত সাফল্যের সঙ্গে কোভিড প্রতিরোধ ও নি...   \n",
       "3  ber                           Ifassen-nwent d ilmawen.   \n",
       "4  eng             She knows the city better than anyone.   \n",
       "\n",
       "                                               words  \n",
       "0                [yettawi, yid-s, tiqwijt, d, ṭṭbel]  \n",
       "1          [taɛekkemt, n, wurfan, nettbbaba, ẓẓayet]  \n",
       "2  [চীন, অত্যন্ত, সাফল্যের, সঙ্গে, কোভিড, প্রতিরো...  \n",
       "3                        [ifassen-nwent, d, ilmawen]  \n",
       "4      [she, knows, the, city, better, than, anyone]  "
      ]
     },
     "execution_count": 16,
     "metadata": {},
     "output_type": "execute_result"
    }
   ],
   "source": [
    "dataframe.head()"
   ]
  },
  {
   "cell_type": "markdown",
   "id": "0f3fd169",
   "metadata": {},
   "source": [
    "### OU SEJA\n",
    "Não será aplicado a remoção de stop words, como \"le/la\" no francês, ou \"the\", \"and\" e \"is\" no inglês.\n",
    "\n",
    "E nem a lematização: \"correr\", \"correu\", \"correndo\" -> \"correr\".\n",
    "\n",
    "Pois o objetivo é classíficar os idiomas!"
   ]
  },
  {
   "cell_type": "markdown",
   "id": "c1fbedb0",
   "metadata": {},
   "source": [
    "### Criação da bag of words!\n",
    "\n",
    "Vamos utilizar o código visto no lab 01.\n",
    "\n",
    "#### Primeiro, criamos o dicionário!"
   ]
  },
  {
   "cell_type": "code",
   "execution_count": 17,
   "id": "9a9fd852",
   "metadata": {},
   "outputs": [],
   "source": [
    "# Primeiro, criamos o dicionário\n",
    "def constroi_dicionario(df):\n",
    "  dict = {}\n",
    "  index = 0\n",
    "  for _, row in df.iterrows():\n",
    "    for word in row.words:\n",
    "      if word not in dict:\n",
    "        dict[word] = index\n",
    "        index += 1 \n",
    "\n",
    "  return dict\n",
    "    "
   ]
  },
  {
   "cell_type": "code",
   "execution_count": 18,
   "id": "004d8555",
   "metadata": {},
   "outputs": [],
   "source": [
    "word_dict = constroi_dicionario(dataframe)"
   ]
  },
  {
   "cell_type": "code",
   "execution_count": 19,
   "id": "b2c9967b",
   "metadata": {},
   "outputs": [
    {
     "name": "stdout",
     "output_type": "stream",
     "text": [
      "Tamanho do dicionário: 107510\n",
      "0: yettawi\n",
      "1: yid-s\n",
      "2: tiqwijt\n",
      "3: d\n",
      "4: ṭṭbel\n",
      "5: taɛekkemt\n",
      "6: n\n",
      "7: wurfan\n",
      "8: nettbbaba\n",
      "9: ẓẓayet\n",
      "10: চীন\n",
      "11: অত্যন্ত\n",
      "12: সাফল্যের\n",
      "13: সঙ্গে\n",
      "14: কোভিড\n",
      "15: প্রতিরোধ\n",
      "16: ও\n",
      "17: নিয়ন্ত্রণে\n",
      "18: সক্ষম\n",
      "19: হয়েছে।\n",
      "20: ifassen-nwent\n"
     ]
    }
   ],
   "source": [
    "print(\"Tamanho do dicionário:\", len(word_dict))\n",
    "\n",
    "# print(\"Primeiros 10 itens:\", list(word_dict.items())[:20])\n",
    "for i, (word, index) in enumerate(word_dict.items()):\n",
    "  print(f\"{index}: {word}\")\n",
    "  if i >= 20: \n",
    "      break"
   ]
  },
  {
   "cell_type": "markdown",
   "id": "99860b13",
   "metadata": {},
   "source": [
    "### Construção da Representação vetorial"
   ]
  },
  {
   "cell_type": "code",
   "execution_count": 20,
   "id": "6cf17e67",
   "metadata": {},
   "outputs": [],
   "source": [
    "import numpy as np\n",
    "\n",
    "## Erro tentando alocar 61.8GB\n",
    "def cria_matriz_bow(df, word_dict):\n",
    "  counts = np.zeros((df.shape[0], len(word_dict)))\n",
    "\n",
    "  for i, (_, row) in enumerate(df.iterrows()):\n",
    "    for word in row.words:\n",
    "      if word in word_dict:\n",
    "        j = word_dict[word]\n",
    "        counts[i,j] += 1\n",
    "\n",
    "  return counts\n",
    "\n",
    "# Solução: Matriz esparsa!\n",
    "# Lembrei que fiz um trabalho sobre isso em C, lá em 2018.\n",
    "# https://github.com/GodKelvin/ED_Matriz_Esparsa\n",
    "# Resumo de como funciona\n",
    "\"\"\"\n",
    "# ISSO\n",
    "dense = np.array([\n",
    "  [0, 0, 1],\n",
    "  [2, 0, 0],\n",
    "  [0, 3, 0]\n",
    "])\n",
    "\n",
    "# VIRA ISSO:\n",
    "  (0, 2)    1\n",
    "  (1, 0)    2\n",
    "  (2, 1)    3\n",
    "\"\"\"\n",
    "\n",
    "# Obviamente não implementei na mão, então usei a biblioteca a seguir\n",
    "from scipy.sparse import lil_matrix\n",
    "\n",
    "def cria_matriz_bow_esparsa(df, word_dict):\n",
    "    counts = lil_matrix((df.shape[0], len(word_dict)), dtype=np.int32)  # tipo menor\n",
    "\n",
    "    for i, (_, row) in enumerate(df.iterrows()):\n",
    "      for word in row.words:\n",
    "        if word in word_dict:\n",
    "          j = word_dict[word]\n",
    "          counts[i, j] += 1\n",
    "\n",
    "    return counts\n"
   ]
  },
  {
   "cell_type": "code",
   "execution_count": 21,
   "id": "b29319b3",
   "metadata": {},
   "outputs": [
    {
     "name": "stdout",
     "output_type": "stream",
     "text": [
      "(77100, 107510)\n"
     ]
    },
    {
     "data": {
      "text/plain": [
       "<List of Lists sparse matrix of dtype 'int32'\n",
       "\twith 629613 stored elements and shape (77100, 107510)>"
      ]
     },
     "execution_count": 21,
     "metadata": {},
     "output_type": "execute_result"
    }
   ],
   "source": [
    "bow_mat = cria_matriz_bow_esparsa(dataframe, word_dict)\n",
    "print(bow_mat.shape)\n",
    "bow_mat"
   ]
  },
  {
   "cell_type": "markdown",
   "id": "3785b547",
   "metadata": {},
   "source": [
    "## Hora de criar o modelo!"
   ]
  },
  {
   "cell_type": "markdown",
   "id": "5cfc2417",
   "metadata": {},
   "source": [
    "### Divisão dos dados em conjunto de treino e teste"
   ]
  },
  {
   "cell_type": "code",
   "execution_count": 22,
   "id": "89e8b261",
   "metadata": {},
   "outputs": [
    {
     "data": {
      "text/html": [
       "<div>\n",
       "<style scoped>\n",
       "    .dataframe tbody tr th:only-of-type {\n",
       "        vertical-align: middle;\n",
       "    }\n",
       "\n",
       "    .dataframe tbody tr th {\n",
       "        vertical-align: top;\n",
       "    }\n",
       "\n",
       "    .dataframe thead th {\n",
       "        text-align: right;\n",
       "    }\n",
       "</style>\n",
       "<table border=\"1\" class=\"dataframe\">\n",
       "  <thead>\n",
       "    <tr style=\"text-align: right;\">\n",
       "      <th></th>\n",
       "      <th>lang</th>\n",
       "      <th>text</th>\n",
       "      <th>words</th>\n",
       "    </tr>\n",
       "  </thead>\n",
       "  <tbody>\n",
       "    <tr>\n",
       "      <th>0</th>\n",
       "      <td>kab</td>\n",
       "      <td>Yettawi yid-s tiqwijt d ṭṭbel.</td>\n",
       "      <td>[yettawi, yid-s, tiqwijt, d, ṭṭbel]</td>\n",
       "    </tr>\n",
       "    <tr>\n",
       "      <th>1</th>\n",
       "      <td>ber</td>\n",
       "      <td>Taɛekkemt n wurfan nettbbaba, ẓẓayet.</td>\n",
       "      <td>[taɛekkemt, n, wurfan, nettbbaba, ẓẓayet]</td>\n",
       "    </tr>\n",
       "    <tr>\n",
       "      <th>2</th>\n",
       "      <td>ben</td>\n",
       "      <td>চীন অত্যন্ত সাফল্যের সঙ্গে কোভিড প্রতিরোধ ও নি...</td>\n",
       "      <td>[চীন, অত্যন্ত, সাফল্যের, সঙ্গে, কোভিড, প্রতিরো...</td>\n",
       "    </tr>\n",
       "    <tr>\n",
       "      <th>3</th>\n",
       "      <td>ber</td>\n",
       "      <td>Ifassen-nwent d ilmawen.</td>\n",
       "      <td>[ifassen-nwent, d, ilmawen]</td>\n",
       "    </tr>\n",
       "    <tr>\n",
       "      <th>4</th>\n",
       "      <td>eng</td>\n",
       "      <td>She knows the city better than anyone.</td>\n",
       "      <td>[she, knows, the, city, better, than, anyone]</td>\n",
       "    </tr>\n",
       "    <tr>\n",
       "      <th>...</th>\n",
       "      <td>...</td>\n",
       "      <td>...</td>\n",
       "      <td>...</td>\n",
       "    </tr>\n",
       "    <tr>\n",
       "      <th>77095</th>\n",
       "      <td>ben</td>\n",
       "      <td>গত শনিবার ইসরায়েলে প্রথমবারের মতো সরাসরি হামল...</td>\n",
       "      <td>[গত, শনিবার, ইসরায়েলে, প্রথমবারের, মতো, সরাসর...</td>\n",
       "    </tr>\n",
       "    <tr>\n",
       "      <th>77096</th>\n",
       "      <td>rus</td>\n",
       "      <td>Я не буду в этом участвовать!</td>\n",
       "      <td>[я, не, буду, в, этом, участвовать]</td>\n",
       "    </tr>\n",
       "    <tr>\n",
       "      <th>77097</th>\n",
       "      <td>fra</td>\n",
       "      <td>Comment la théorie de la décroissance influenc...</td>\n",
       "      <td>[comment, la, théorie, de, la, décroissance, i...</td>\n",
       "    </tr>\n",
       "    <tr>\n",
       "      <th>77098</th>\n",
       "      <td>ben</td>\n",
       "      <td>রচনা হিসেবে এগুলো আলাদা স্বাতন্ত্র্যের দাবিদার।</td>\n",
       "      <td>[রচনা, হিসেবে, এগুলো, আলাদা, স্বাতন্ত্র্যের, দ...</td>\n",
       "    </tr>\n",
       "    <tr>\n",
       "      <th>77099</th>\n",
       "      <td>kab</td>\n",
       "      <td>Tekka-d yid-s.</td>\n",
       "      <td>[tekka-d, yid-s]</td>\n",
       "    </tr>\n",
       "  </tbody>\n",
       "</table>\n",
       "<p>77100 rows × 3 columns</p>\n",
       "</div>"
      ],
      "text/plain": [
       "      lang                                               text  \\\n",
       "0      kab                     Yettawi yid-s tiqwijt d ṭṭbel.   \n",
       "1      ber              Taɛekkemt n wurfan nettbbaba, ẓẓayet.   \n",
       "2      ben  চীন অত্যন্ত সাফল্যের সঙ্গে কোভিড প্রতিরোধ ও নি...   \n",
       "3      ber                           Ifassen-nwent d ilmawen.   \n",
       "4      eng             She knows the city better than anyone.   \n",
       "...    ...                                                ...   \n",
       "77095  ben  গত শনিবার ইসরায়েলে প্রথমবারের মতো সরাসরি হামল...   \n",
       "77096  rus                      Я не буду в этом участвовать!   \n",
       "77097  fra  Comment la théorie de la décroissance influenc...   \n",
       "77098  ben    রচনা হিসেবে এগুলো আলাদা স্বাতন্ত্র্যের দাবিদার।   \n",
       "77099  kab                                     Tekka-d yid-s.   \n",
       "\n",
       "                                                   words  \n",
       "0                    [yettawi, yid-s, tiqwijt, d, ṭṭbel]  \n",
       "1              [taɛekkemt, n, wurfan, nettbbaba, ẓẓayet]  \n",
       "2      [চীন, অত্যন্ত, সাফল্যের, সঙ্গে, কোভিড, প্রতিরো...  \n",
       "3                            [ifassen-nwent, d, ilmawen]  \n",
       "4          [she, knows, the, city, better, than, anyone]  \n",
       "...                                                  ...  \n",
       "77095  [গত, শনিবার, ইসরায়েলে, প্রথমবারের, মতো, সরাসর...  \n",
       "77096                [я, не, буду, в, этом, участвовать]  \n",
       "77097  [comment, la, théorie, de, la, décroissance, i...  \n",
       "77098  [রচনা, হিসেবে, এগুলো, আলাদা, স্বাতন্ত্র্যের, দ...  \n",
       "77099                                   [tekka-d, yid-s]  \n",
       "\n",
       "[77100 rows x 3 columns]"
      ]
     },
     "execution_count": 22,
     "metadata": {},
     "output_type": "execute_result"
    }
   ],
   "source": [
    "dataframe"
   ]
  },
  {
   "cell_type": "code",
   "execution_count": 23,
   "id": "4255b3f2",
   "metadata": {},
   "outputs": [
    {
     "name": "stdout",
     "output_type": "stream",
     "text": [
      "77100 frases categorizadas\n",
      "6 idiomas\n",
      "[0 1 2 3 4 5]\n"
     ]
    }
   ],
   "source": [
    "from sklearn.preprocessing import LabelEncoder\n",
    "\n",
    "# Vamos transformar cada idioma em um inteiro\n",
    "y = LabelEncoder().fit_transform(dataframe['lang'])\n",
    "y\n",
    "print(f\"{y.size} frases categorizadas\")\n",
    "print(f\"{np.unique(y).size} idiomas\" )\n",
    "print(np.unique(y))"
   ]
  },
  {
   "cell_type": "code",
   "execution_count": 24,
   "id": "19ead240",
   "metadata": {},
   "outputs": [
    {
     "name": "stdout",
     "output_type": "stream",
     "text": [
      "Shape x_bow_train: (53970, 107510)\n",
      "Shape x_bow_test: (23130, 107510)\n",
      "Shape y_train: (53970,)\n",
      "Shape y_test: (23130,)\n"
     ]
    }
   ],
   "source": [
    "\n",
    "# tamanho do conjunto de treino\n",
    "n = int(len(dataframe) * 0.7)\n",
    "\n",
    "# seleciona as amostras de treino\n",
    "x_bow_train = bow_mat[:n]\n",
    "y_train = y[:n]\n",
    "\n",
    "# seleciona as amostras de teste\n",
    "x_bow_test = bow_mat[n:]\n",
    "y_test = y[n:]\n",
    "\n",
    "print(\"Shape x_bow_train:\", x_bow_train.shape)\n",
    "print(\"Shape x_bow_test:\", x_bow_test.shape)\n",
    "print(\"Shape y_train:\", y_train.shape)\n",
    "print(\"Shape y_test:\", y_test.shape)"
   ]
  },
  {
   "cell_type": "code",
   "execution_count": null,
   "id": "104fc82b",
   "metadata": {},
   "outputs": [
    {
     "name": "stderr",
     "output_type": "stream",
     "text": [
      "/home/kelvin/.local/lib/python3.10/site-packages/tqdm/auto.py:21: TqdmWarning: IProgress not found. Please update jupyter and ipywidgets. See https://ipywidgets.readthedocs.io/en/stable/user_install.html\n",
      "  from .autonotebook import tqdm as notebook_tqdm\n",
      " 25%|██▌       | 1/4 [00:47<02:23, 47.99s/it]/home/kelvin/.local/lib/python3.10/site-packages/sklearn/linear_model/_sag.py:348: ConvergenceWarning: The max_iter was reached which means the coef_ did not converge\n",
      "  warnings.warn(\n",
      "100%|██████████| 4/4 [39:51<00:00, 597.77s/it]\n"
     ]
    },
    {
     "data": {
      "text/html": [
       "<div>\n",
       "<style scoped>\n",
       "    .dataframe tbody tr th:only-of-type {\n",
       "        vertical-align: middle;\n",
       "    }\n",
       "\n",
       "    .dataframe tbody tr th {\n",
       "        vertical-align: top;\n",
       "    }\n",
       "\n",
       "    .dataframe thead th {\n",
       "        text-align: right;\n",
       "    }\n",
       "</style>\n",
       "<table border=\"1\" class=\"dataframe\">\n",
       "  <thead>\n",
       "    <tr style=\"text-align: right;\">\n",
       "      <th></th>\n",
       "      <th>classifier</th>\n",
       "      <th>train_prc</th>\n",
       "      <th>train_rcl</th>\n",
       "      <th>train_f1</th>\n",
       "      <th>train_acc</th>\n",
       "      <th>test_prc</th>\n",
       "      <th>test_rcl</th>\n",
       "      <th>test_f1</th>\n",
       "      <th>test_acc</th>\n",
       "    </tr>\n",
       "  </thead>\n",
       "  <tbody>\n",
       "    <tr>\n",
       "      <th>0</th>\n",
       "      <td>KNN</td>\n",
       "      <td>0.952348</td>\n",
       "      <td>0.951353</td>\n",
       "      <td>0.950213</td>\n",
       "      <td>0.947341</td>\n",
       "      <td>0.934527</td>\n",
       "      <td>0.933857</td>\n",
       "      <td>0.931955</td>\n",
       "      <td>0.927324</td>\n",
       "    </tr>\n",
       "    <tr>\n",
       "      <th>1</th>\n",
       "      <td>Linear Classifier</td>\n",
       "      <td>0.992168</td>\n",
       "      <td>0.992088</td>\n",
       "      <td>0.992115</td>\n",
       "      <td>0.991458</td>\n",
       "      <td>0.950647</td>\n",
       "      <td>0.945281</td>\n",
       "      <td>0.947719</td>\n",
       "      <td>0.943493</td>\n",
       "    </tr>\n",
       "    <tr>\n",
       "      <th>2</th>\n",
       "      <td>Random Forest</td>\n",
       "      <td>0.999931</td>\n",
       "      <td>0.999932</td>\n",
       "      <td>0.999932</td>\n",
       "      <td>0.999926</td>\n",
       "      <td>0.941218</td>\n",
       "      <td>0.931543</td>\n",
       "      <td>0.935640</td>\n",
       "      <td>0.930912</td>\n",
       "    </tr>\n",
       "    <tr>\n",
       "      <th>3</th>\n",
       "      <td>Neural Net</td>\n",
       "      <td>0.999966</td>\n",
       "      <td>0.999966</td>\n",
       "      <td>0.999966</td>\n",
       "      <td>0.999963</td>\n",
       "      <td>0.956234</td>\n",
       "      <td>0.952549</td>\n",
       "      <td>0.954274</td>\n",
       "      <td>0.950540</td>\n",
       "    </tr>\n",
       "  </tbody>\n",
       "</table>\n",
       "</div>"
      ],
      "text/plain": [
       "          classifier  train_prc  train_rcl  train_f1  train_acc  test_prc  \\\n",
       "0                KNN   0.952348   0.951353  0.950213   0.947341  0.934527   \n",
       "1  Linear Classifier   0.992168   0.992088  0.992115   0.991458  0.950647   \n",
       "2      Random Forest   0.999931   0.999932  0.999932   0.999926  0.941218   \n",
       "3         Neural Net   0.999966   0.999966  0.999966   0.999963  0.956234   \n",
       "\n",
       "   test_rcl   test_f1  test_acc  \n",
       "0  0.933857  0.931955  0.927324  \n",
       "1  0.945281  0.947719  0.943493  \n",
       "2  0.931543  0.935640  0.930912  \n",
       "3  0.952549  0.954274  0.950540  "
      ]
     },
     "execution_count": 25,
     "metadata": {},
     "output_type": "execute_result"
    }
   ],
   "source": [
    "from sklearn.linear_model import LogisticRegression\n",
    "from sklearn.neighbors import KNeighborsClassifier\n",
    "from sklearn.ensemble import RandomForestClassifier\n",
    "from sklearn.neural_network import MLPClassifier\n",
    "from sklearn.metrics import confusion_matrix\n",
    "from sklearn.metrics import precision_recall_fscore_support, accuracy_score\n",
    "from tqdm.auto import tqdm\n",
    "names = [\n",
    "  \"KNN\",\n",
    "  \"Linear Classifier\",\n",
    "  \"Random Forest\",\n",
    "  \"Neural Net\",\n",
    "]\n",
    "\n",
    "classifiers = [\n",
    "  KNeighborsClassifier(5, metric='cosine'),\n",
    "  LogisticRegression(solver='saga', max_iter=500),\n",
    "  RandomForestClassifier(),\n",
    "  MLPClassifier(hidden_layer_sizes=(128, 128)),\n",
    "]\n",
    "\n",
    "result = []\n",
    "\n",
    "for idx in tqdm(range(len(names))):\n",
    "  name = names[idx]\n",
    "  clf = classifiers[idx]\n",
    "\n",
    "  # Treinamento do classificador\n",
    "  clf.fit(x_bow_train, y_train)\n",
    "\n",
    "  # Predições do classificador no conjunto de treino (para avaliar underfitting)\n",
    "  y_train_pred = clf.predict(x_bow_train)\n",
    "\n",
    "  # calcula métricas de treino\n",
    "  train_prc, train_rcl, train_f1, _ = precision_recall_fscore_support(y_train, y_train_pred, average='macro', zero_division=0.0)\n",
    "  train_acc = accuracy_score(y_train, y_train_pred)\n",
    "\n",
    "  # Predições do classificador no conjunto de teste (para avaliar overfitting)\n",
    "  y_test_pred = clf.predict(x_bow_test)\n",
    "\n",
    "  # calcula métricas de teste\n",
    "  test_prc, test_rcl, test_f1, _ = precision_recall_fscore_support(y_test, y_test_pred, average='macro', zero_division=0.0)\n",
    "  test_acc = accuracy_score(y_test, y_test_pred)\n",
    "\n",
    "  result.append({\n",
    "    \"classifier\": name,\n",
    "    \"train_prc\": train_prc,\n",
    "    \"train_rcl\": train_rcl,\n",
    "    \"train_f1\": train_f1,\n",
    "    \"train_acc\": train_acc,\n",
    "    \"test_prc\": test_prc,\n",
    "    \"test_rcl\": test_rcl,\n",
    "    \"test_f1\": test_f1,\n",
    "    \"test_acc\": test_acc,\n",
    "  })\n",
    "\n",
    "\n",
    "pd.DataFrame(result)\n"
   ]
  },
  {
   "cell_type": "markdown",
   "id": "d6c4a502",
   "metadata": {},
   "source": [
    "### Matriz de confusão"
   ]
  },
  {
   "cell_type": "code",
   "execution_count": 35,
   "id": "e8934068",
   "metadata": {},
   "outputs": [
    {
     "data": {
      "image/png": "[encoded data removed]",
      "text/plain": [
       "<Figure size 800x600 with 2 Axes>"
      ]
     },
     "metadata": {},
     "output_type": "display_data"
    }
   ],
   "source": [
    "from sklearn.metrics import confusion_matrix\n",
    "import matplotlib.pyplot as plt\n",
    "import seaborn as sns\n",
    "\n",
    "cm = confusion_matrix(y_test, y_test_pred)\n",
    "\n",
    "label_names=['kab','ber','eng','rus','fra','ben']\n",
    "\n",
    "plt.figure(figsize=(8,6))\n",
    "sns.heatmap(cm, annot=True, fmt='d', cmap='Blues', xticklabels=label_names, yticklabels=label_names)\n",
    "plt.xlabel(\"Classe Predita\")\n",
    "plt.ylabel(\"Classe Verdadeira\")\n",
    "plt.title(\"Matriz de Confusão qm QTD\")\n",
    "plt.show()\n"
   ]
  },
  {
   "cell_type": "code",
   "execution_count": 34,
   "id": "e14318da",
   "metadata": {},
   "outputs": [
    {
     "data": {
      "image/png": "[encoded data removed]",
      "text/plain": [
       "<Figure size 640x480 with 2 Axes>"
      ]
     },
     "metadata": {},
     "output_type": "display_data"
    }
   ],
   "source": [
    "cm_norm = cm.astype('float') / cm.sum(axis=1)[:, np.newaxis]\n",
    "sns.heatmap(cm_norm, annot=True, fmt='.2f', cmap='Blues', xticklabels=label_names, yticklabels=label_names)\n",
    "plt.xlabel(\"Classe Predita\")\n",
    "plt.ylabel(\"Classe Verdadeira\")\n",
    "plt.title(\"Matriz de Confusão em %\")\n",
    "plt.show()\n"
   ]
  },
  {
   "cell_type": "code",
   "execution_count": null,
   "id": "f34ed722",
   "metadata": {},
   "outputs": [
    {
     "data": {
      "image/png": "[encoded data removed]",
      "text/plain": [
       "<Figure size 1000x600 with 1 Axes>"
      ]
     },
     "metadata": {},
     "output_type": "display_data"
    }
   ],
   "source": [
    "import matplotlib.pyplot as plt\n",
    "import numpy as np\n",
    "\n",
    "classifiers = [r['classifier'] for r in result]\n",
    "train_acc = [r['train_acc'] for r in result]\n",
    "test_acc = [r['test_acc'] for r in result]\n",
    "\n",
    "x = np.arange(len(classifiers))\n",
    "width = 0.35\n",
    "\n",
    "plt.figure(figsize=(10,6))\n",
    "plt.bar(x - width/2, train_acc, width, label='Treino')\n",
    "plt.bar(x + width/2, test_acc, width, label='Teste')\n",
    "\n",
    "plt.xticks(x, classifiers)\n",
    "plt.ylim(0,1)\n",
    "plt.ylabel('Acurácia')\n",
    "plt.title('Comparação Acurácia Treino vs Teste (Overfitting)')\n",
    "plt.legend()\n",
    "plt.show()\n"
   ]
  },
  {
   "cell_type": "markdown",
   "id": "e61d7675",
   "metadata": {},
   "source": [
    "## Resultados: MUITO BONS!\n",
    "\n",
    "Os resultados obtidos nessa primeira parte do trabalho foram ótimos! Com todos os classificadores tendo uma acurácia acima de 90%!\n",
    "\n",
    "Para treinar todos os modelos demorou cerca de 40 minutos (Mesmo com a diminuição da quantidade de registros de meio milhão para 77 mil).\n",
    "\n",
    "Penso eu o que aconteceria se eu deixasse as classes desbalanceadas. Ele iria prever a maioria como determinado idioma ou iria conseguir distinguir dado que os caracteres são diferentes? \n",
    "\n"
   ]
  },
  {
   "cell_type": "markdown",
   "id": "8c104e9f",
   "metadata": {},
   "source": [
    "# Parte 2\n",
    "Utilizando Word Embeddings pré treinados com uma rede baseada em LSTM e embeddings extraídos usando BERT."
   ]
  },
  {
   "cell_type": "code",
   "execution_count": 1,
   "id": "47466847",
   "metadata": {},
   "outputs": [],
   "source": [
    "# Carregando a base de dados novamente\n",
    "import pandas as pd\n",
    "dataframe = pd.read_csv(\"datasets/sentences_CC0.csv\", sep=\"\\t\", header=None, names=[\"id\", \"lang\", \"text\", \"created_at\"])"
   ]
  },
  {
   "cell_type": "markdown",
   "id": "ccbbb613",
   "metadata": {},
   "source": [
    "### Decisões: Reescolher novamente os idiomas\n",
    "\n",
    "Não consegui encontrar um embedding pré treinado para os idiomas Kabyle, Berber e Bengali.\n",
    "\n",
    "Os mesmos foram removidos e inserido o Finladês, mesmo que tenha poucos registros se comparados com os demais.\n",
    "\n",
    "Visualizei os dados dos idiomas Espanhol, Italino e Português, porém, eram amostras insuficientes (menor que 100).\n",
    "\n",
    "- Tentei buscar por idiomas oriundos do latim. Não encontrei o Romeno no dataset."
   ]
  },
  {
   "cell_type": "code",
   "execution_count": 3,
   "id": "bd6ef237",
   "metadata": {},
   "outputs": [
    {
     "name": "stdout",
     "output_type": "stream",
     "text": [
      "lang\n",
      "eng    41469\n",
      "rus    21991\n",
      "fra    14136\n",
      "fin     1543\n",
      "spa       37\n",
      "ita       19\n",
      "por       17\n",
      "Name: count, dtype: int64\n",
      "lang\n",
      "eng    52.35\n",
      "rus    27.76\n",
      "fra    17.85\n",
      "fin     1.95\n",
      "spa     0.05\n",
      "ita     0.02\n",
      "por     0.02\n",
      "Name: proportion, dtype: float64\n"
     ]
    },
    {
     "data": {
      "text/html": [
       "<div>\n",
       "<style scoped>\n",
       "    .dataframe tbody tr th:only-of-type {\n",
       "        vertical-align: middle;\n",
       "    }\n",
       "\n",
       "    .dataframe tbody tr th {\n",
       "        vertical-align: top;\n",
       "    }\n",
       "\n",
       "    .dataframe thead th {\n",
       "        text-align: right;\n",
       "    }\n",
       "</style>\n",
       "<table border=\"1\" class=\"dataframe\">\n",
       "  <thead>\n",
       "    <tr style=\"text-align: right;\">\n",
       "      <th></th>\n",
       "      <th>id</th>\n",
       "      <th>lang</th>\n",
       "      <th>text</th>\n",
       "      <th>created_at</th>\n",
       "    </tr>\n",
       "  </thead>\n",
       "  <tbody>\n",
       "    <tr>\n",
       "      <th>0</th>\n",
       "      <td>330998</td>\n",
       "      <td>eng</td>\n",
       "      <td>Children who spend more time outdoors have a l...</td>\n",
       "      <td>2019-01-12 19:39:42</td>\n",
       "    </tr>\n",
       "    <tr>\n",
       "      <th>1</th>\n",
       "      <td>331000</td>\n",
       "      <td>eng</td>\n",
       "      <td>The idea that reading makes you short-sighted ...</td>\n",
       "      <td>2019-01-12 19:39:42</td>\n",
       "    </tr>\n",
       "    <tr>\n",
       "      <th>2</th>\n",
       "      <td>331259</td>\n",
       "      <td>eng</td>\n",
       "      <td>Most people think computers will never be able...</td>\n",
       "      <td>2019-01-12 19:39:42</td>\n",
       "    </tr>\n",
       "    <tr>\n",
       "      <th>3</th>\n",
       "      <td>331708</td>\n",
       "      <td>fra</td>\n",
       "      <td>Je rajoute une phrase d'exemple.</td>\n",
       "      <td>2019-01-12 19:39:42</td>\n",
       "    </tr>\n",
       "    <tr>\n",
       "      <th>4</th>\n",
       "      <td>331955</td>\n",
       "      <td>fra</td>\n",
       "      <td>J'espère que je ne serai plus malade la semain...</td>\n",
       "      <td>2019-01-12 19:39:42</td>\n",
       "    </tr>\n",
       "    <tr>\n",
       "      <th>5</th>\n",
       "      <td>332331</td>\n",
       "      <td>eng</td>\n",
       "      <td>It is more time-efficient to do several tasks ...</td>\n",
       "      <td>2019-01-12 19:39:42</td>\n",
       "    </tr>\n",
       "    <tr>\n",
       "      <th>6</th>\n",
       "      <td>333358</td>\n",
       "      <td>fra</td>\n",
       "      <td>Alain me dit que ça ne marche pas, donc je tes...</td>\n",
       "      <td>2019-01-12 19:39:42</td>\n",
       "    </tr>\n",
       "    <tr>\n",
       "      <th>7</th>\n",
       "      <td>333372</td>\n",
       "      <td>fra</td>\n",
       "      <td>Je fais un autre test.</td>\n",
       "      <td>2019-01-12 19:39:42</td>\n",
       "    </tr>\n",
       "    <tr>\n",
       "      <th>8</th>\n",
       "      <td>333440</td>\n",
       "      <td>fra</td>\n",
       "      <td>L'homme que tu as vu hier est mon oncle.</td>\n",
       "      <td>2019-01-12 19:39:42</td>\n",
       "    </tr>\n",
       "    <tr>\n",
       "      <th>9</th>\n",
       "      <td>333441</td>\n",
       "      <td>fra</td>\n",
       "      <td>C'est l'homme dont les enfants sont si gentils.</td>\n",
       "      <td>2019-01-12 19:39:42</td>\n",
       "    </tr>\n",
       "    <tr>\n",
       "      <th>10</th>\n",
       "      <td>333444</td>\n",
       "      <td>fra</td>\n",
       "      <td>C'est l'aide dont nous avons besoin.</td>\n",
       "      <td>2019-01-12 19:39:42</td>\n",
       "    </tr>\n",
       "    <tr>\n",
       "      <th>11</th>\n",
       "      <td>333639</td>\n",
       "      <td>fra</td>\n",
       "      <td>Il a toujours de meilleures notes que moi bien...</td>\n",
       "      <td>2019-01-12 19:39:42</td>\n",
       "    </tr>\n",
       "    <tr>\n",
       "      <th>12</th>\n",
       "      <td>333641</td>\n",
       "      <td>fra</td>\n",
       "      <td>Le film était ennuyeux ; le meilleur moment, c...</td>\n",
       "      <td>2019-01-12 19:39:42</td>\n",
       "    </tr>\n",
       "    <tr>\n",
       "      <th>13</th>\n",
       "      <td>333644</td>\n",
       "      <td>fra</td>\n",
       "      <td>Je vais plus souvent à Bruxelles qu'à Paris.</td>\n",
       "      <td>2019-01-12 19:39:42</td>\n",
       "    </tr>\n",
       "    <tr>\n",
       "      <th>14</th>\n",
       "      <td>333863</td>\n",
       "      <td>fra</td>\n",
       "      <td>Quand j'étais petite, je ne portais que des pa...</td>\n",
       "      <td>2019-01-12 19:39:42</td>\n",
       "    </tr>\n",
       "    <tr>\n",
       "      <th>15</th>\n",
       "      <td>333865</td>\n",
       "      <td>fra</td>\n",
       "      <td>Appelle-moi dès que tu l'auras rencontré !</td>\n",
       "      <td>2019-01-12 19:39:42</td>\n",
       "    </tr>\n",
       "    <tr>\n",
       "      <th>16</th>\n",
       "      <td>333867</td>\n",
       "      <td>fra</td>\n",
       "      <td>C'est l'homme que je vois tous les jours dans ...</td>\n",
       "      <td>2019-01-12 19:39:42</td>\n",
       "    </tr>\n",
       "    <tr>\n",
       "      <th>17</th>\n",
       "      <td>334553</td>\n",
       "      <td>eng</td>\n",
       "      <td>I should stop procrastinating.</td>\n",
       "      <td>2019-01-12 19:39:43</td>\n",
       "    </tr>\n",
       "    <tr>\n",
       "      <th>18</th>\n",
       "      <td>336394</td>\n",
       "      <td>fra</td>\n",
       "      <td>Comme quoi, c'est pas si facile...</td>\n",
       "      <td>2019-01-12 19:39:43</td>\n",
       "    </tr>\n",
       "    <tr>\n",
       "      <th>19</th>\n",
       "      <td>336509</td>\n",
       "      <td>eng</td>\n",
       "      <td>I know you think you understood what you thoug...</td>\n",
       "      <td>2019-01-12 19:39:43</td>\n",
       "    </tr>\n",
       "  </tbody>\n",
       "</table>\n",
       "</div>"
      ],
      "text/plain": [
       "        id lang                                               text  \\\n",
       "0   330998  eng  Children who spend more time outdoors have a l...   \n",
       "1   331000  eng  The idea that reading makes you short-sighted ...   \n",
       "2   331259  eng  Most people think computers will never be able...   \n",
       "3   331708  fra                   Je rajoute une phrase d'exemple.   \n",
       "4   331955  fra  J'espère que je ne serai plus malade la semain...   \n",
       "5   332331  eng  It is more time-efficient to do several tasks ...   \n",
       "6   333358  fra  Alain me dit que ça ne marche pas, donc je tes...   \n",
       "7   333372  fra                             Je fais un autre test.   \n",
       "8   333440  fra           L'homme que tu as vu hier est mon oncle.   \n",
       "9   333441  fra    C'est l'homme dont les enfants sont si gentils.   \n",
       "10  333444  fra               C'est l'aide dont nous avons besoin.   \n",
       "11  333639  fra  Il a toujours de meilleures notes que moi bien...   \n",
       "12  333641  fra  Le film était ennuyeux ; le meilleur moment, c...   \n",
       "13  333644  fra       Je vais plus souvent à Bruxelles qu'à Paris.   \n",
       "14  333863  fra  Quand j'étais petite, je ne portais que des pa...   \n",
       "15  333865  fra         Appelle-moi dès que tu l'auras rencontré !   \n",
       "16  333867  fra  C'est l'homme que je vois tous les jours dans ...   \n",
       "17  334553  eng                     I should stop procrastinating.   \n",
       "18  336394  fra                 Comme quoi, c'est pas si facile...   \n",
       "19  336509  eng  I know you think you understood what you thoug...   \n",
       "\n",
       "             created_at  \n",
       "0   2019-01-12 19:39:42  \n",
       "1   2019-01-12 19:39:42  \n",
       "2   2019-01-12 19:39:42  \n",
       "3   2019-01-12 19:39:42  \n",
       "4   2019-01-12 19:39:42  \n",
       "5   2019-01-12 19:39:42  \n",
       "6   2019-01-12 19:39:42  \n",
       "7   2019-01-12 19:39:42  \n",
       "8   2019-01-12 19:39:42  \n",
       "9   2019-01-12 19:39:42  \n",
       "10  2019-01-12 19:39:42  \n",
       "11  2019-01-12 19:39:42  \n",
       "12  2019-01-12 19:39:42  \n",
       "13  2019-01-12 19:39:42  \n",
       "14  2019-01-12 19:39:42  \n",
       "15  2019-01-12 19:39:42  \n",
       "16  2019-01-12 19:39:42  \n",
       "17  2019-01-12 19:39:43  \n",
       "18  2019-01-12 19:39:43  \n",
       "19  2019-01-12 19:39:43  "
      ]
     },
     "execution_count": 3,
     "metadata": {},
     "output_type": "execute_result"
    }
   ],
   "source": [
    "idiomas = [\"eng\", \"rus\", \"fra\", \"fin\", \"ita\", \"por\", \"spa\"]\n",
    "dataframe = dataframe[dataframe[\"lang\"].isin(idiomas)]\n",
    "\n",
    "# Contagem absoluta\n",
    "print(dataframe['lang'].value_counts())\n",
    "\n",
    "# Contagem percentual\n",
    "print((dataframe['lang'].value_counts(normalize=True) * 100).round(2))\n",
    "\n",
    "dataframe.head(20)"
   ]
  },
  {
   "cell_type": "markdown",
   "id": "d8b33468",
   "metadata": {},
   "source": [
    "### Realizando o undersampling"
   ]
  },
  {
   "cell_type": "code",
   "execution_count": 4,
   "id": "43987da9",
   "metadata": {},
   "outputs": [],
   "source": [
    "# Alterado. Antes era 14 mil. \n",
    "n_amostras = 10000\n",
    "amostras = []\n",
    "\n",
    "# Capturando todos os registros do finlandes\n",
    "amostras_idioma = dataframe[dataframe[\"lang\"] == \"fin\"]\n",
    "amostras.append(amostras_idioma.sample(n=1543, random_state=42))\n",
    "\n",
    "# Antes tinhamos 6 idiomas, agora somente 4.\n",
    "idiomas = [\"eng\", \"rus\", \"fra\"]\n",
    "\n",
    "for lang in idiomas:\n",
    "  amostras_idioma = dataframe[dataframe[\"lang\"] == lang]\n",
    "  amostras.append(amostras_idioma.sample(n=n_amostras, random_state=42))\n",
    "\n",
    "dataframe = pd.concat(amostras)\n",
    "dataframe = dataframe.sample(frac=1, random_state=42).reset_index(drop=True)"
   ]
  },
  {
   "cell_type": "code",
   "execution_count": 5,
   "id": "dbca3c5a",
   "metadata": {},
   "outputs": [
    {
     "name": "stdout",
     "output_type": "stream",
     "text": [
      "(31543, 4)\n",
      "--\n",
      "lang\n",
      "fra    10000\n",
      "eng    10000\n",
      "rus    10000\n",
      "fin     1543\n",
      "Name: count, dtype: int64\n",
      "--\n",
      "lang\n",
      "fra    31.702755\n",
      "eng    31.702755\n",
      "rus    31.702755\n",
      "fin     4.891735\n",
      "Name: proportion, dtype: float64\n"
     ]
    }
   ],
   "source": [
    "print(f\"{dataframe.shape}\\n--\")\n",
    "print(f\"{dataframe['lang'].value_counts()}\\n--\")\n",
    "lang_freq = dataframe[\"lang\"].value_counts(normalize=True) * 100\n",
    "\n",
    "print(lang_freq)"
   ]
  },
  {
   "cell_type": "code",
   "execution_count": 5,
   "id": "2f436563",
   "metadata": {},
   "outputs": [
    {
     "data": {
      "text/html": [
       "<div>\n",
       "<style scoped>\n",
       "    .dataframe tbody tr th:only-of-type {\n",
       "        vertical-align: middle;\n",
       "    }\n",
       "\n",
       "    .dataframe tbody tr th {\n",
       "        vertical-align: top;\n",
       "    }\n",
       "\n",
       "    .dataframe thead th {\n",
       "        text-align: right;\n",
       "    }\n",
       "</style>\n",
       "<table border=\"1\" class=\"dataframe\">\n",
       "  <thead>\n",
       "    <tr style=\"text-align: right;\">\n",
       "      <th></th>\n",
       "      <th>id</th>\n",
       "      <th>lang</th>\n",
       "      <th>text</th>\n",
       "      <th>created_at</th>\n",
       "    </tr>\n",
       "  </thead>\n",
       "  <tbody>\n",
       "    <tr>\n",
       "      <th>0</th>\n",
       "      <td>7115697</td>\n",
       "      <td>fin</td>\n",
       "      <td>En ole ikinä hoksannut mikä kauhutarinoissa ih...</td>\n",
       "      <td>2019-04-04 11:49:14</td>\n",
       "    </tr>\n",
       "    <tr>\n",
       "      <th>1</th>\n",
       "      <td>12750610</td>\n",
       "      <td>fra</td>\n",
       "      <td>La Kabylie est riche en paysages variés, des m...</td>\n",
       "      <td>2024-09-29 19:13:18</td>\n",
       "    </tr>\n",
       "    <tr>\n",
       "      <th>2</th>\n",
       "      <td>12315062</td>\n",
       "      <td>eng</td>\n",
       "      <td>In the Midwestern U.S. state of Michigan, the ...</td>\n",
       "      <td>2024-02-13 15:32:34</td>\n",
       "    </tr>\n",
       "    <tr>\n",
       "      <th>3</th>\n",
       "      <td>12045161</td>\n",
       "      <td>fra</td>\n",
       "      <td>Il n'y a aucune possibilité de cohabitation av...</td>\n",
       "      <td>2023-09-09 17:11:23</td>\n",
       "    </tr>\n",
       "    <tr>\n",
       "      <th>4</th>\n",
       "      <td>12776882</td>\n",
       "      <td>eng</td>\n",
       "      <td>Do they interpret the results correctly?</td>\n",
       "      <td>2024-10-10 22:41:37</td>\n",
       "    </tr>\n",
       "    <tr>\n",
       "      <th>5</th>\n",
       "      <td>12751913</td>\n",
       "      <td>fra</td>\n",
       "      <td>Les explorateurs polaires doivent comprendre l...</td>\n",
       "      <td>2024-09-30 07:46:09</td>\n",
       "    </tr>\n",
       "    <tr>\n",
       "      <th>6</th>\n",
       "      <td>10517343</td>\n",
       "      <td>fra</td>\n",
       "      <td>La série que nous regardons est passionnante.</td>\n",
       "      <td>2021-11-19 10:15:06</td>\n",
       "    </tr>\n",
       "    <tr>\n",
       "      <th>7</th>\n",
       "      <td>9843711</td>\n",
       "      <td>rus</td>\n",
       "      <td>Я люблю жучков. Они миленькие.</td>\n",
       "      <td>2021-05-22 13:09:23</td>\n",
       "    </tr>\n",
       "    <tr>\n",
       "      <th>8</th>\n",
       "      <td>9130532</td>\n",
       "      <td>rus</td>\n",
       "      <td>Вы превысили свои должностные полномочия и за ...</td>\n",
       "      <td>2021-05-22 13:06:19</td>\n",
       "    </tr>\n",
       "    <tr>\n",
       "      <th>9</th>\n",
       "      <td>11082614</td>\n",
       "      <td>rus</td>\n",
       "      <td>Я всегда старался использовать только проверен...</td>\n",
       "      <td>2022-08-27 10:21:17</td>\n",
       "    </tr>\n",
       "    <tr>\n",
       "      <th>10</th>\n",
       "      <td>10593957</td>\n",
       "      <td>eng</td>\n",
       "      <td>I guess malt vinegar is more common than white...</td>\n",
       "      <td>2021-12-30 14:28:37</td>\n",
       "    </tr>\n",
       "    <tr>\n",
       "      <th>11</th>\n",
       "      <td>9035614</td>\n",
       "      <td>rus</td>\n",
       "      <td>Обычно в полночь я ещё не сплю.</td>\n",
       "      <td>2021-05-22 13:05:27</td>\n",
       "    </tr>\n",
       "    <tr>\n",
       "      <th>12</th>\n",
       "      <td>11570852</td>\n",
       "      <td>eng</td>\n",
       "      <td>COVID-19 lockdowns brought bluer skies to some...</td>\n",
       "      <td>2023-03-01 22:29:05</td>\n",
       "    </tr>\n",
       "    <tr>\n",
       "      <th>13</th>\n",
       "      <td>4461004</td>\n",
       "      <td>rus</td>\n",
       "      <td>Авдотья очень любит горностаев.</td>\n",
       "      <td>2019-02-24 20:40:49</td>\n",
       "    </tr>\n",
       "    <tr>\n",
       "      <th>14</th>\n",
       "      <td>12736559</td>\n",
       "      <td>fra</td>\n",
       "      <td>Le complexe de castration symbolise l'angoisse...</td>\n",
       "      <td>2024-09-23 20:46:26</td>\n",
       "    </tr>\n",
       "    <tr>\n",
       "      <th>15</th>\n",
       "      <td>11261595</td>\n",
       "      <td>rus</td>\n",
       "      <td>«Ну у тебя и шутеечки!» — Мэри фыркнула.</td>\n",
       "      <td>2022-11-21 18:13:19</td>\n",
       "    </tr>\n",
       "    <tr>\n",
       "      <th>16</th>\n",
       "      <td>12700008</td>\n",
       "      <td>fra</td>\n",
       "      <td>Le finalisme postule un but.</td>\n",
       "      <td>2024-08-30 15:24:08</td>\n",
       "    </tr>\n",
       "    <tr>\n",
       "      <th>17</th>\n",
       "      <td>9919070</td>\n",
       "      <td>fra</td>\n",
       "      <td>La Sologne est la plus belle région cynégétiqu...</td>\n",
       "      <td>2021-03-28 17:23:15</td>\n",
       "    </tr>\n",
       "    <tr>\n",
       "      <th>18</th>\n",
       "      <td>9917221</td>\n",
       "      <td>fra</td>\n",
       "      <td>La radiance de l'horizon se rapprochait.</td>\n",
       "      <td>2021-03-28 14:02:26</td>\n",
       "    </tr>\n",
       "    <tr>\n",
       "      <th>19</th>\n",
       "      <td>12744988</td>\n",
       "      <td>fra</td>\n",
       "      <td>Les spectromètres de masse à résonance cyclotr...</td>\n",
       "      <td>2024-09-27 08:01:07</td>\n",
       "    </tr>\n",
       "  </tbody>\n",
       "</table>\n",
       "</div>"
      ],
      "text/plain": [
       "          id lang                                               text  \\\n",
       "0    7115697  fin  En ole ikinä hoksannut mikä kauhutarinoissa ih...   \n",
       "1   12750610  fra  La Kabylie est riche en paysages variés, des m...   \n",
       "2   12315062  eng  In the Midwestern U.S. state of Michigan, the ...   \n",
       "3   12045161  fra  Il n'y a aucune possibilité de cohabitation av...   \n",
       "4   12776882  eng           Do they interpret the results correctly?   \n",
       "5   12751913  fra  Les explorateurs polaires doivent comprendre l...   \n",
       "6   10517343  fra      La série que nous regardons est passionnante.   \n",
       "7    9843711  rus                     Я люблю жучков. Они миленькие.   \n",
       "8    9130532  rus  Вы превысили свои должностные полномочия и за ...   \n",
       "9   11082614  rus  Я всегда старался использовать только проверен...   \n",
       "10  10593957  eng  I guess malt vinegar is more common than white...   \n",
       "11   9035614  rus                    Обычно в полночь я ещё не сплю.   \n",
       "12  11570852  eng  COVID-19 lockdowns brought bluer skies to some...   \n",
       "13   4461004  rus                    Авдотья очень любит горностаев.   \n",
       "14  12736559  fra  Le complexe de castration symbolise l'angoisse...   \n",
       "15  11261595  rus           «Ну у тебя и шутеечки!» — Мэри фыркнула.   \n",
       "16  12700008  fra                       Le finalisme postule un but.   \n",
       "17   9919070  fra  La Sologne est la plus belle région cynégétiqu...   \n",
       "18   9917221  fra           La radiance de l'horizon se rapprochait.   \n",
       "19  12744988  fra  Les spectromètres de masse à résonance cyclotr...   \n",
       "\n",
       "             created_at  \n",
       "0   2019-04-04 11:49:14  \n",
       "1   2024-09-29 19:13:18  \n",
       "2   2024-02-13 15:32:34  \n",
       "3   2023-09-09 17:11:23  \n",
       "4   2024-10-10 22:41:37  \n",
       "5   2024-09-30 07:46:09  \n",
       "6   2021-11-19 10:15:06  \n",
       "7   2021-05-22 13:09:23  \n",
       "8   2021-05-22 13:06:19  \n",
       "9   2022-08-27 10:21:17  \n",
       "10  2021-12-30 14:28:37  \n",
       "11  2021-05-22 13:05:27  \n",
       "12  2023-03-01 22:29:05  \n",
       "13  2019-02-24 20:40:49  \n",
       "14  2024-09-23 20:46:26  \n",
       "15  2022-11-21 18:13:19  \n",
       "16  2024-08-30 15:24:08  \n",
       "17  2021-03-28 17:23:15  \n",
       "18  2021-03-28 14:02:26  \n",
       "19  2024-09-27 08:01:07  "
      ]
     },
     "execution_count": 5,
     "metadata": {},
     "output_type": "execute_result"
    }
   ],
   "source": [
    "dataframe.head(20)"
   ]
  },
  {
   "cell_type": "markdown",
   "id": "4895f48e",
   "metadata": {},
   "source": [
    "### Pré-Processamento\n",
    "Lembrando que: \n",
    "\n",
    "Não será aplicado a remoção de stop words, como \"le/la\" no francês, ou \"the\", \"and\" e \"is\" no inglês.\n",
    "\n",
    "E nem a lematização: \"correr\", \"correu\", \"correndo\" -> \"correr\".\n",
    "\n",
    "Pois o objetivo é classíficar os idiomas!"
   ]
  },
  {
   "cell_type": "code",
   "execution_count": 8,
   "id": "7803e015",
   "metadata": {},
   "outputs": [],
   "source": [
    "dataframe[\"words\"] = dataframe[\"text\"].apply(preprocessing)"
   ]
  },
  {
   "cell_type": "markdown",
   "id": "add13bbd",
   "metadata": {},
   "source": [
    "### Apenas lembrando o tamanho das frases"
   ]
  },
  {
   "cell_type": "code",
   "execution_count": 9,
   "id": "7e939a6d",
   "metadata": {},
   "outputs": [
    {
     "name": "stdout",
     "output_type": "stream",
     "text": [
      "Mínimo: 3\n",
      "Médio: 66.01962400532607\n",
      "Máximo: 1019\n"
     ]
    }
   ],
   "source": [
    "# Caracteres\n",
    "comprimentos = dataframe[\"text\"].str.len() \n",
    "print(\"Mínimo:\", comprimentos.min())\n",
    "print(\"Médio:\", comprimentos.mean())\n",
    "print(\"Máximo:\", comprimentos.max())"
   ]
  },
  {
   "cell_type": "code",
   "execution_count": 10,
   "id": "2932f2de",
   "metadata": {},
   "outputs": [
    {
     "name": "stdout",
     "output_type": "stream",
     "text": [
      "Mínimo: 1\n",
      "Médio: 10.686935294677108\n",
      "Máximo: 197\n"
     ]
    }
   ],
   "source": [
    "# Palavras\n",
    "comprimentos = dataframe[\"text\"].str.split().str.len()\n",
    "print(\"Mínimo:\", comprimentos.min())\n",
    "print(\"Médio:\", comprimentos.mean())\n",
    "print(\"Máximo:\", comprimentos.max())"
   ]
  },
  {
   "cell_type": "markdown",
   "id": "8617ddf2",
   "metadata": {},
   "source": [
    "### Pré-processamento para o word embedding"
   ]
  },
  {
   "cell_type": "markdown",
   "id": "75bcbdf7",
   "metadata": {},
   "source": [
    "Vamos utilizar os embedding do fasttext.\n",
    "\n",
    "Disponíveis em: https://fasttext.cc/docs/en/crawl-vectors.html\n"
   ]
  },
  {
   "cell_type": "code",
   "execution_count": null,
   "id": "ec372aab",
   "metadata": {},
   "outputs": [
    {
     "ename": "",
     "evalue": "",
     "output_type": "error",
     "traceback": [
      "\u001b[1;31mThe Kernel crashed while executing code in the current cell or a previous cell. \n",
      "\u001b[1;31mPlease review the code in the cell(s) to identify a possible cause of the failure. \n",
      "\u001b[1;31mClick <a href='https://aka.ms/vscodeJupyterKernelCrash'>here</a> for more info. \n",
      "\u001b[1;31mView Jupyter <a href='command:jupyter.viewOutput'>log</a> for further details."
     ]
    }
   ],
   "source": []
  },
  {
   "cell_type": "markdown",
   "id": "442c8980",
   "metadata": {},
   "source": [
    "### Separando treino e teste"
   ]
  },
  {
   "cell_type": "code",
   "execution_count": null,
   "id": "50db0f5a",
   "metadata": {},
   "outputs": [],
   "source": []
  }
 ],
 "metadata": {
  "kernelspec": {
   "display_name": "Python 3",
   "language": "python",
   "name": "python3"
  },
  "language_info": {
   "codemirror_mode": {
    "name": "ipython",
    "version": 3
   },
   "file_extension": ".py",
   "mimetype": "text/x-python",
   "name": "python",
   "nbconvert_exporter": "python",
   "pygments_lexer": "ipython3",
   "version": "3.10.12"
  }
 },
 "nbformat": 4,
 "nbformat_minor": 5
}
