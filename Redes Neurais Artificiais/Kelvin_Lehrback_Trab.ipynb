{
 "cells": [
  {
   "cell_type": "markdown",
   "id": "61fca551",
   "metadata": {},
   "source": [
    "# Comunicação entre plantas (Sim, você leu certo)\n",
    "\n",
    "O dataset escolhido para este trabalho contém informações de sinais biológicos emitidos por plantas, juntamente com fatores ambientais, como umidade do solo e luz solar.\n",
    "\n",
    "Disponível em: https://www.kaggle.com/datasets/efeyldz/plant-communication-dataset-classification/data"
   ]
  },
  {
   "cell_type": "markdown",
   "id": "2ac69e1b",
   "metadata": {},
   "source": [
    "O objetivo é classificar o tipo de mensagem que a planta está (provavelmente) tentando transmitir com os respectivos sinais emitidos, sendo \"Warning\", \"Contentment\", \"Distress\" e \"Invitation\". "
   ]
  },
  {
   "cell_type": "markdown",
   "id": "015f80b0",
   "metadata": {},
   "source": [
    "## 📋 Características do Dataset\n",
    "\n",
    "- **Plant_ID**: Identificador único da planta (usado para rastreamento, não para modelagem).  \n",
    "\n",
    "- **Leaf_Vibration_Hz**: Frequência das vibrações sutis das folhas (medida em Hertz).  \n",
    "\n",
    "- **Pollen_Scent_Complexity**: Pontuação (1–10) que avalia a complexidade do cheiro do pólen da \n",
    "planta.  \n",
    "- **Bioluminescence_Intensity_Lux**: Intensidade da luz emitida pela planta (em Lux).  \n",
    "\n",
    "- **Root_Signal_Strength_mV**: Intensidade do sinal elétrico medido nas raízes da planta (em \n",
    "milivolts).  \n",
    "- **Growth_Rate_mm_day**: Velocidade de crescimento da planta (em milímetros por dia).  \n",
    "\n",
    "- **Ambient_Temperature_C**: Temperatura ambiente ao redor da planta (em °C).  \n",
    "\n",
    "- **Soil_Moisture_Level**: Nível de umidade do solo, variando de 0 (seco) a 1 (totalmente saturado).  \n",
    "\n",
    "- **Sunlight_Exposure_Hours**: Número de horas de exposição ao sol recebidas no último dia.  \n",
    "\n",
    "- **Symbiotic_Fungus_Present**: Indica se há presença de fungo simbiótico nas raízes (0 = Não, 1 = \n",
    "Sim).  \n",
    "- **Plant_Message_Type**: Variável alvo — tipo de mensagem emitida pela planta (Categorias: Warning: *Alerta*, Contentment: *Contentamento*, Distress: *Sofrimento*, Invitation: *Convite*).\n"
   ]
  },
  {
   "cell_type": "markdown",
   "id": "cd28189b",
   "metadata": {},
   "source": [
    "## Interpretando o dataset"
   ]
  },
  {
   "cell_type": "code",
   "execution_count": 535,
   "id": "d553228a",
   "metadata": {},
   "outputs": [],
   "source": [
    "import pandas as pd\n",
    "dataframe = pd.read_csv(\"plant_communication_dataset.csv\")"
   ]
  },
  {
   "cell_type": "code",
   "execution_count": 536,
   "id": "d13909af",
   "metadata": {},
   "outputs": [
    {
     "data": {
      "text/html": [
       "<div>\n",
       "<style scoped>\n",
       "    .dataframe tbody tr th:only-of-type {\n",
       "        vertical-align: middle;\n",
       "    }\n",
       "\n",
       "    .dataframe tbody tr th {\n",
       "        vertical-align: top;\n",
       "    }\n",
       "\n",
       "    .dataframe thead th {\n",
       "        text-align: right;\n",
       "    }\n",
       "</style>\n",
       "<table border=\"1\" class=\"dataframe\">\n",
       "  <thead>\n",
       "    <tr style=\"text-align: right;\">\n",
       "      <th></th>\n",
       "      <th>Plant_ID</th>\n",
       "      <th>Leaf_Vibration_Hz</th>\n",
       "      <th>Pollen_Scent_Complexity</th>\n",
       "      <th>Bioluminescence_Intensity_Lux</th>\n",
       "      <th>Root_Signal_Strength_mV</th>\n",
       "      <th>Growth_Rate_mm_day</th>\n",
       "      <th>Ambient_Temperature_C</th>\n",
       "      <th>Soil_Moisture_Level</th>\n",
       "      <th>Sunlight_Exposure_Hours</th>\n",
       "      <th>Symbiotic_Fungus_Present</th>\n",
       "      <th>Plant_Message_Type</th>\n",
       "    </tr>\n",
       "  </thead>\n",
       "  <tbody>\n",
       "    <tr>\n",
       "      <th>0</th>\n",
       "      <td>PLANT_0001</td>\n",
       "      <td>57.45</td>\n",
       "      <td>7</td>\n",
       "      <td>2.70</td>\n",
       "      <td>117.61</td>\n",
       "      <td>2.25</td>\n",
       "      <td>25.6</td>\n",
       "      <td>0.27</td>\n",
       "      <td>9.5</td>\n",
       "      <td>0</td>\n",
       "      <td>Distress</td>\n",
       "    </tr>\n",
       "    <tr>\n",
       "      <th>1</th>\n",
       "      <td>PLANT_0002</td>\n",
       "      <td>47.93</td>\n",
       "      <td>1</td>\n",
       "      <td>21.55</td>\n",
       "      <td>208.47</td>\n",
       "      <td>4.46</td>\n",
       "      <td>15.3</td>\n",
       "      <td>0.28</td>\n",
       "      <td>9.9</td>\n",
       "      <td>0</td>\n",
       "      <td>Warning</td>\n",
       "    </tr>\n",
       "    <tr>\n",
       "      <th>2</th>\n",
       "      <td>PLANT_0003</td>\n",
       "      <td>59.72</td>\n",
       "      <td>8</td>\n",
       "      <td>3.53</td>\n",
       "      <td>193.31</td>\n",
       "      <td>5.05</td>\n",
       "      <td>34.3</td>\n",
       "      <td>0.41</td>\n",
       "      <td>8.9</td>\n",
       "      <td>0</td>\n",
       "      <td>Invitation</td>\n",
       "    </tr>\n",
       "    <tr>\n",
       "      <th>3</th>\n",
       "      <td>PLANT_0004</td>\n",
       "      <td>72.85</td>\n",
       "      <td>3</td>\n",
       "      <td>5.90</td>\n",
       "      <td>149.65</td>\n",
       "      <td>1.53</td>\n",
       "      <td>23.6</td>\n",
       "      <td>0.36</td>\n",
       "      <td>5.8</td>\n",
       "      <td>1</td>\n",
       "      <td>Distress</td>\n",
       "    </tr>\n",
       "    <tr>\n",
       "      <th>4</th>\n",
       "      <td>PLANT_0005</td>\n",
       "      <td>46.49</td>\n",
       "      <td>6</td>\n",
       "      <td>58.61</td>\n",
       "      <td>135.20</td>\n",
       "      <td>4.89</td>\n",
       "      <td>24.3</td>\n",
       "      <td>0.82</td>\n",
       "      <td>5.2</td>\n",
       "      <td>1</td>\n",
       "      <td>Contentment</td>\n",
       "    </tr>\n",
       "  </tbody>\n",
       "</table>\n",
       "</div>"
      ],
      "text/plain": [
       "     Plant_ID  Leaf_Vibration_Hz  Pollen_Scent_Complexity  \\\n",
       "0  PLANT_0001              57.45                        7   \n",
       "1  PLANT_0002              47.93                        1   \n",
       "2  PLANT_0003              59.72                        8   \n",
       "3  PLANT_0004              72.85                        3   \n",
       "4  PLANT_0005              46.49                        6   \n",
       "\n",
       "   Bioluminescence_Intensity_Lux  Root_Signal_Strength_mV  Growth_Rate_mm_day  \\\n",
       "0                           2.70                   117.61                2.25   \n",
       "1                          21.55                   208.47                4.46   \n",
       "2                           3.53                   193.31                5.05   \n",
       "3                           5.90                   149.65                1.53   \n",
       "4                          58.61                   135.20                4.89   \n",
       "\n",
       "   Ambient_Temperature_C  Soil_Moisture_Level  Sunlight_Exposure_Hours  \\\n",
       "0                   25.6                 0.27                      9.5   \n",
       "1                   15.3                 0.28                      9.9   \n",
       "2                   34.3                 0.41                      8.9   \n",
       "3                   23.6                 0.36                      5.8   \n",
       "4                   24.3                 0.82                      5.2   \n",
       "\n",
       "   Symbiotic_Fungus_Present Plant_Message_Type  \n",
       "0                         0           Distress  \n",
       "1                         0            Warning  \n",
       "2                         0         Invitation  \n",
       "3                         1           Distress  \n",
       "4                         1        Contentment  "
      ]
     },
     "execution_count": 536,
     "metadata": {},
     "output_type": "execute_result"
    }
   ],
   "source": [
    "dataframe.head()"
   ]
  },
  {
   "cell_type": "code",
   "execution_count": 537,
   "id": "3f1b733b",
   "metadata": {},
   "outputs": [
    {
     "name": "stdout",
     "output_type": "stream",
     "text": [
      "(1000, 11)\n"
     ]
    }
   ],
   "source": [
    "print(dataframe.shape)"
   ]
  },
  {
   "cell_type": "markdown",
   "id": "b119f8c2",
   "metadata": {},
   "source": [
    "## Tamanho do dataset\n",
    "1000 registros e 10 colunas"
   ]
  },
  {
   "cell_type": "markdown",
   "id": "d71c8340",
   "metadata": {},
   "source": [
    "## Vamos ver agora a proporção de cada classe"
   ]
  },
  {
   "cell_type": "code",
   "execution_count": 538,
   "id": "63979448",
   "metadata": {},
   "outputs": [
    {
     "name": "stdout",
     "output_type": "stream",
     "text": [
      "Plant_ID\n",
      "PLANT_1000    0.1\n",
      "PLANT_0001    0.1\n",
      "PLANT_0002    0.1\n",
      "PLANT_0003    0.1\n",
      "PLANT_0004    0.1\n",
      "             ... \n",
      "PLANT_0012    0.1\n",
      "PLANT_0013    0.1\n",
      "PLANT_0014    0.1\n",
      "PLANT_0015    0.1\n",
      "PLANT_0016    0.1\n",
      "Name: proportion, Length: 1000, dtype: float64\n",
      "-----------\n",
      "Leaf_Vibration_Hz\n",
      "41.35    0.3\n",
      "33.78    0.3\n",
      "53.36    0.3\n",
      "59.49    0.3\n",
      "52.95    0.3\n",
      "        ... \n",
      "47.60    0.1\n",
      "49.71    0.1\n",
      "34.96    0.1\n",
      "49.72    0.1\n",
      "45.18    0.1\n",
      "Name: proportion, Length: 910, dtype: float64\n",
      "-----------\n",
      "Pollen_Scent_Complexity\n",
      "5     11.1\n",
      "4     10.9\n",
      "2     10.5\n",
      "6     10.2\n",
      "10    10.1\n",
      "7      9.9\n",
      "9      9.6\n",
      "8      9.4\n",
      "3      9.3\n",
      "1      9.0\n",
      "Name: proportion, dtype: float64\n",
      "-----------\n",
      "Bioluminescence_Intensity_Lux\n",
      "0.63     0.4\n",
      "2.78     0.4\n",
      "6.27     0.3\n",
      "0.06     0.3\n",
      "1.42     0.3\n",
      "        ... \n",
      "3.18     0.1\n",
      "13.38    0.1\n",
      "2.79     0.1\n",
      "9.25     0.1\n",
      "2.22     0.1\n",
      "Name: proportion, Length: 898, dtype: float64\n",
      "-----------\n",
      "Root_Signal_Strength_mV\n",
      "208.05    0.3\n",
      "145.40    0.2\n",
      "211.33    0.2\n",
      "182.10    0.2\n",
      "151.34    0.2\n",
      "         ... \n",
      "281.41    0.1\n",
      "237.80    0.1\n",
      "210.33    0.1\n",
      "236.92    0.1\n",
      "136.60    0.1\n",
      "Name: proportion, Length: 973, dtype: float64\n",
      "-----------\n",
      "Growth_Rate_mm_day\n",
      "5.11    0.7\n",
      "5.31    0.6\n",
      "5.26    0.6\n",
      "6.12    0.6\n",
      "4.33    0.5\n",
      "       ... \n",
      "8.88    0.1\n",
      "4.18    0.1\n",
      "2.01    0.1\n",
      "1.21    0.1\n",
      "3.21    0.1\n",
      "Name: proportion, Length: 562, dtype: float64\n",
      "-----------\n",
      "Ambient_Temperature_C\n",
      "20.3    1.5\n",
      "21.9    1.5\n",
      "17.4    1.3\n",
      "21.6    1.2\n",
      "21.2    1.1\n",
      "       ... \n",
      "29.6    0.1\n",
      "11.3    0.1\n",
      "14.3    0.1\n",
      "29.2    0.1\n",
      "11.1    0.1\n",
      "Name: proportion, Length: 219, dtype: float64\n",
      "-----------\n",
      "Soil_Moisture_Level\n",
      "0.49    2.3\n",
      "0.60    2.3\n",
      "0.39    2.3\n",
      "0.54    2.2\n",
      "0.55    2.2\n",
      "       ... \n",
      "0.94    0.1\n",
      "0.02    0.1\n",
      "0.88    0.1\n",
      "0.89    0.1\n",
      "0.95    0.1\n",
      "Name: proportion, Length: 94, dtype: float64\n",
      "-----------\n",
      "Sunlight_Exposure_Hours\n",
      "6.2     2.8\n",
      "5.3     2.5\n",
      "6.0     2.3\n",
      "6.1     2.2\n",
      "6.7     2.2\n",
      "       ... \n",
      "1.8     0.1\n",
      "0.7     0.1\n",
      "0.5     0.1\n",
      "10.7    0.1\n",
      "11.7    0.1\n",
      "Name: proportion, Length: 106, dtype: float64\n",
      "-----------\n",
      "Symbiotic_Fungus_Present\n",
      "1    61.2\n",
      "0    38.8\n",
      "Name: proportion, dtype: float64\n",
      "-----------\n",
      "Plant_Message_Type\n",
      "Contentment    40.8\n",
      "Warning        21.2\n",
      "Distress       19.3\n",
      "Invitation     18.7\n",
      "Name: proportion, dtype: float64\n",
      "-----------\n"
     ]
    }
   ],
   "source": [
    "columns = dataframe.columns.to_list()\n",
    "for col in columns:\n",
    "    print(dataframe[col].value_counts(normalize=True) * 100)\n",
    "    print(\"-----------\")"
   ]
  },
  {
   "cell_type": "markdown",
   "id": "9150f637",
   "metadata": {},
   "source": [
    "A nossa variável alvo é a *Plant_Message_Type*, cujo a proporção é:\n",
    "\n",
    "Contentment: 40.8\n",
    "\n",
    "Warning: 21.2\n",
    "\n",
    "Distress: 19.3\n",
    "\n",
    "Invitation: 18.7"
   ]
  },
  {
   "cell_type": "markdown",
   "id": "a687c733",
   "metadata": {},
   "source": [
    "## Onde há valores nulos?"
   ]
  },
  {
   "cell_type": "code",
   "execution_count": 539,
   "id": "dbf467fc",
   "metadata": {},
   "outputs": [
    {
     "name": "stdout",
     "output_type": "stream",
     "text": [
      "Plant_ID                         0\n",
      "Leaf_Vibration_Hz                0\n",
      "Pollen_Scent_Complexity          0\n",
      "Bioluminescence_Intensity_Lux    0\n",
      "Root_Signal_Strength_mV          0\n",
      "Growth_Rate_mm_day               0\n",
      "Ambient_Temperature_C            0\n",
      "Soil_Moisture_Level              0\n",
      "Sunlight_Exposure_Hours          0\n",
      "Symbiotic_Fungus_Present         0\n",
      "Plant_Message_Type               0\n",
      "dtype: int64\n"
     ]
    }
   ],
   "source": [
    "print(dataframe.isnull().sum())"
   ]
  },
  {
   "cell_type": "markdown",
   "id": "aea0c16a",
   "metadata": {},
   "source": [
    "## Transformação, tratamento e limpeza dos dados"
   ]
  },
  {
   "cell_type": "code",
   "execution_count": 540,
   "id": "606cdf89",
   "metadata": {},
   "outputs": [
    {
     "data": {
      "text/html": [
       "<div>\n",
       "<style scoped>\n",
       "    .dataframe tbody tr th:only-of-type {\n",
       "        vertical-align: middle;\n",
       "    }\n",
       "\n",
       "    .dataframe tbody tr th {\n",
       "        vertical-align: top;\n",
       "    }\n",
       "\n",
       "    .dataframe thead th {\n",
       "        text-align: right;\n",
       "    }\n",
       "</style>\n",
       "<table border=\"1\" class=\"dataframe\">\n",
       "  <thead>\n",
       "    <tr style=\"text-align: right;\">\n",
       "      <th></th>\n",
       "      <th>Leaf_Vibration_Hz</th>\n",
       "      <th>Pollen_Scent_Complexity</th>\n",
       "      <th>Bioluminescence_Intensity_Lux</th>\n",
       "      <th>Root_Signal_Strength_mV</th>\n",
       "      <th>Growth_Rate_mm_day</th>\n",
       "      <th>Ambient_Temperature_C</th>\n",
       "      <th>Soil_Moisture_Level</th>\n",
       "      <th>Sunlight_Exposure_Hours</th>\n",
       "      <th>Symbiotic_Fungus_Present</th>\n",
       "      <th>Plant_Message_Type</th>\n",
       "    </tr>\n",
       "  </thead>\n",
       "  <tbody>\n",
       "    <tr>\n",
       "      <th>0</th>\n",
       "      <td>57.45</td>\n",
       "      <td>7</td>\n",
       "      <td>2.70</td>\n",
       "      <td>117.61</td>\n",
       "      <td>2.25</td>\n",
       "      <td>25.6</td>\n",
       "      <td>0.27</td>\n",
       "      <td>9.5</td>\n",
       "      <td>0</td>\n",
       "      <td>1.0</td>\n",
       "    </tr>\n",
       "    <tr>\n",
       "      <th>1</th>\n",
       "      <td>47.93</td>\n",
       "      <td>1</td>\n",
       "      <td>21.55</td>\n",
       "      <td>208.47</td>\n",
       "      <td>4.46</td>\n",
       "      <td>15.3</td>\n",
       "      <td>0.28</td>\n",
       "      <td>9.9</td>\n",
       "      <td>0</td>\n",
       "      <td>3.0</td>\n",
       "    </tr>\n",
       "    <tr>\n",
       "      <th>2</th>\n",
       "      <td>59.72</td>\n",
       "      <td>8</td>\n",
       "      <td>3.53</td>\n",
       "      <td>193.31</td>\n",
       "      <td>5.05</td>\n",
       "      <td>34.3</td>\n",
       "      <td>0.41</td>\n",
       "      <td>8.9</td>\n",
       "      <td>0</td>\n",
       "      <td>2.0</td>\n",
       "    </tr>\n",
       "    <tr>\n",
       "      <th>3</th>\n",
       "      <td>72.85</td>\n",
       "      <td>3</td>\n",
       "      <td>5.90</td>\n",
       "      <td>149.65</td>\n",
       "      <td>1.53</td>\n",
       "      <td>23.6</td>\n",
       "      <td>0.36</td>\n",
       "      <td>5.8</td>\n",
       "      <td>1</td>\n",
       "      <td>1.0</td>\n",
       "    </tr>\n",
       "    <tr>\n",
       "      <th>4</th>\n",
       "      <td>46.49</td>\n",
       "      <td>6</td>\n",
       "      <td>58.61</td>\n",
       "      <td>135.20</td>\n",
       "      <td>4.89</td>\n",
       "      <td>24.3</td>\n",
       "      <td>0.82</td>\n",
       "      <td>5.2</td>\n",
       "      <td>1</td>\n",
       "      <td>0.0</td>\n",
       "    </tr>\n",
       "  </tbody>\n",
       "</table>\n",
       "</div>"
      ],
      "text/plain": [
       "   Leaf_Vibration_Hz  Pollen_Scent_Complexity  Bioluminescence_Intensity_Lux  \\\n",
       "0              57.45                        7                           2.70   \n",
       "1              47.93                        1                          21.55   \n",
       "2              59.72                        8                           3.53   \n",
       "3              72.85                        3                           5.90   \n",
       "4              46.49                        6                          58.61   \n",
       "\n",
       "   Root_Signal_Strength_mV  Growth_Rate_mm_day  Ambient_Temperature_C  \\\n",
       "0                   117.61                2.25                   25.6   \n",
       "1                   208.47                4.46                   15.3   \n",
       "2                   193.31                5.05                   34.3   \n",
       "3                   149.65                1.53                   23.6   \n",
       "4                   135.20                4.89                   24.3   \n",
       "\n",
       "   Soil_Moisture_Level  Sunlight_Exposure_Hours  Symbiotic_Fungus_Present  \\\n",
       "0                 0.27                      9.5                         0   \n",
       "1                 0.28                      9.9                         0   \n",
       "2                 0.41                      8.9                         0   \n",
       "3                 0.36                      5.8                         1   \n",
       "4                 0.82                      5.2                         1   \n",
       "\n",
       "   Plant_Message_Type  \n",
       "0                 1.0  \n",
       "1                 3.0  \n",
       "2                 2.0  \n",
       "3                 1.0  \n",
       "4                 0.0  "
      ]
     },
     "execution_count": 540,
     "metadata": {},
     "output_type": "execute_result"
    }
   ],
   "source": [
    "# O identificador da planta não impacta em nada\n",
    "dataframe.drop(columns=[\"Plant_ID\"], inplace=True)\n",
    "\n",
    "# Tratando as variáveis categoricas\n",
    "from sklearn.preprocessing import OrdinalEncoder\n",
    "encoder = OrdinalEncoder()\n",
    "dataframe[\"Plant_Message_Type\"] = encoder.fit_transform(dataframe[[\"Plant_Message_Type\"]])\n",
    "\n",
    "dataframe.head()\n",
    "\n",
    "\n"
   ]
  },
  {
   "cell_type": "markdown",
   "id": "20d35f4f",
   "metadata": {},
   "source": [
    "## Divisão do conjunto de treinamento e teste"
   ]
  },
  {
   "cell_type": "code",
   "execution_count": 541,
   "id": "07e9d7f9",
   "metadata": {},
   "outputs": [
    {
     "name": "stdout",
     "output_type": "stream",
     "text": [
      "(1000, 9)\n"
     ]
    }
   ],
   "source": [
    "# Coluna alvo, ou seja, o que quero identificar\n",
    "y = dataframe[\"Plant_Message_Type\"]\n",
    "\n",
    "# Dropando a coluna alvo\n",
    "dataframe.drop(columns=[\"Plant_Message_Type\"], inplace=True)\n",
    "\n",
    "X = dataframe.values\n",
    "\n",
    "# Sem a coluna ID e Plant_Message_Type\n",
    "print(dataframe.shape)"
   ]
  },
  {
   "cell_type": "code",
   "execution_count": 542,
   "id": "883c1faa",
   "metadata": {},
   "outputs": [],
   "source": [
    "from sklearn.model_selection import train_test_split\n",
    "from sklearn.preprocessing import StandardScaler\n",
    "\n",
    "scaler = StandardScaler()\n",
    "X_scaled = scaler.fit_transform(X)\n",
    "X_train, X_test, y_train, y_test = train_test_split(X_scaled, y, test_size=0.25)"
   ]
  },
  {
   "cell_type": "markdown",
   "id": "8002377e",
   "metadata": {},
   "source": [
    "## Criação do modelo MLPClassifier\n",
    "\n",
    "Como o problema é tentar identificar o tipo de mensagem que a planta está tentando passar, vamos usar um classificador."
   ]
  },
  {
   "cell_type": "code",
   "execution_count": 543,
   "id": "d359d2d3",
   "metadata": {},
   "outputs": [
    {
     "name": "stderr",
     "output_type": "stream",
     "text": [
      "/home/kelvin/.local/lib/python3.10/site-packages/sklearn/neural_network/_multilayer_perceptron.py:691: ConvergenceWarning: Stochastic Optimizer: Maximum iterations (500) reached and the optimization hasn't converged yet.\n",
      "  warnings.warn(\n"
     ]
    },
    {
     "data": {
      "text/plain": [
       "250"
      ]
     },
     "execution_count": 543,
     "metadata": {},
     "output_type": "execute_result"
    }
   ],
   "source": [
    "from sklearn.neural_network import MLPClassifier\n",
    "\n",
    "mlpc = MLPClassifier(random_state=42, max_iter=500).fit(X_train, y_train)\n",
    "\n",
    "y_pred = mlpc.predict(X_test)\n",
    "y_pred.size"
   ]
  },
  {
   "cell_type": "markdown",
   "id": "0bf6b3e3",
   "metadata": {},
   "source": [
    "## Avaliação do modelo"
   ]
  },
  {
   "cell_type": "code",
   "execution_count": 544,
   "id": "7b24b08c",
   "metadata": {},
   "outputs": [],
   "source": [
    "# Capturando as labels originais\n",
    "labels = encoder.categories_[0]"
   ]
  },
  {
   "cell_type": "code",
   "execution_count": 545,
   "id": "426cbf27",
   "metadata": {},
   "outputs": [
    {
     "name": "stdout",
     "output_type": "stream",
     "text": [
      "              precision    recall  f1-score   support\n",
      "\n",
      " Contentment       0.32      0.54      0.40        91\n",
      "    Distress       0.27      0.20      0.23        50\n",
      "  Invitation       0.27      0.11      0.16        63\n",
      "     Warning       0.21      0.15      0.17        46\n",
      "\n",
      "    accuracy                           0.29       250\n",
      "   macro avg       0.27      0.25      0.24       250\n",
      "weighted avg       0.28      0.29      0.26       250\n",
      "\n"
     ]
    }
   ],
   "source": [
    "import numpy as np\n",
    "from sklearn.metrics import classification_report\n",
    "print(classification_report(y_test, y_pred, target_names=encoder.categories_[0]))"
   ]
  },
  {
   "cell_type": "code",
   "execution_count": 546,
   "id": "7151289f",
   "metadata": {},
   "outputs": [
    {
     "data": {
      "image/png": "[encoded data removed]",
      "text/plain": [
       "<Figure size 640x480 with 2 Axes>"
      ]
     },
     "metadata": {},
     "output_type": "display_data"
    }
   ],
   "source": [
    "from sklearn.metrics import confusion_matrix, ConfusionMatrixDisplay\n",
    "import matplotlib.pyplot as plt\n",
    "cm = confusion_matrix(y_test, y_pred)\n",
    "\n",
    "disp = ConfusionMatrixDisplay(confusion_matrix=cm, display_labels=labels)\n",
    "disp.plot(cmap='Blues')\n",
    "plt.xticks(rotation=45)\n",
    "plt.title(\"Matriz de Confusão\")\n",
    "plt.xlabel(\"Classe Predita\")\n",
    "plt.ylabel(\"Classe Verdadeira\")\n",
    "plt.show()"
   ]
  },
  {
   "cell_type": "code",
   "execution_count": 547,
   "id": "20ae9e79",
   "metadata": {},
   "outputs": [
    {
     "data": {
      "image/png": "[encoded data removed]",
      "text/plain": [
       "<Figure size 800x600 with 2 Axes>"
      ]
     },
     "metadata": {},
     "output_type": "display_data"
    }
   ],
   "source": [
    "from sklearn.metrics import confusion_matrix\n",
    "import seaborn as sns\n",
    "import matplotlib.pyplot as plt\n",
    "import numpy as np\n",
    "\n",
    "# Confusion matrix\n",
    "cm = confusion_matrix(y_test, y_pred)\n",
    "\n",
    "# Converter para porcentagens\n",
    "cm_percent = cm.astype('float') / cm.sum(axis=1)[:, np.newaxis] * 100\n",
    "\n",
    "# Plot\n",
    "plt.figure(figsize=(8, 6))\n",
    "sns.heatmap(cm_percent, annot=True, fmt=\".1f\", cmap='Blues',\n",
    "            xticklabels=labels, yticklabels=labels)\n",
    "\n",
    "plt.title(\"Matriz de Confusão (%)\")\n",
    "plt.xlabel(\"Classe Predita\")\n",
    "plt.ylabel(\"Classe Verdadeira\")\n",
    "plt.xticks(rotation=45)\n",
    "plt.yticks(rotation=0)\n",
    "plt.tight_layout()\n",
    "plt.show()\n"
   ]
  },
  {
   "cell_type": "markdown",
   "id": "166f34f7",
   "metadata": {},
   "source": [
    "# Resultado da parte 1: Horrível\n",
    "\n",
    "O dataset está um pouco desbalanceado, o modelo prevê muito a mensagem de \"Contentment\", porém, como podemos observar, a precisão para as classes está extremamente baixo, quase se assimilando como um chute aleatório.\n",
    "\n",
    "Confesso que gostei do tema, e vou tentar arrumar na parte 2 alguma forma de contornar esse problema de desbalanceamento. Pesquisando eu vi sobre a função SMOTE, que é justamente para lidar com problemas de desbalanceamento em modelos de classificação.\n",
    "\n",
    "Na parte 2 irei testar outros tipos de modelos, além do MLPClassifier.\n",
    "\n",
    "Vamos ver se na parte 2, com a definição dos hiperparâmetros, isso é resolvido no modelo atual."
   ]
  }
 ],
 "metadata": {
  "kernelspec": {
   "display_name": "Python 3",
   "language": "python",
   "name": "python3"
  },
  "language_info": {
   "codemirror_mode": {
    "name": "ipython",
    "version": 3
   },
   "file_extension": ".py",
   "mimetype": "text/x-python",
   "name": "python",
   "nbconvert_exporter": "python",
   "pygments_lexer": "ipython3",
   "version": "3.10.12"
  }
 },
 "nbformat": 4,
 "nbformat_minor": 5
}
